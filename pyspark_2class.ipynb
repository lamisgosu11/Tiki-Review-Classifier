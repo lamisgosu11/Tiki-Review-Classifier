{
  "cells": [
    {
      "cell_type": "code",
      "source": [
        "from google.colab import drive\n",
        "drive.mount('/content/drive')"
      ],
      "metadata": {
        "colab": {
          "base_uri": "https://localhost:8080/"
        },
        "id": "fEMOXYsp31ee",
        "outputId": "52a2fa70-da15-497c-ce41-3491d9cc2e50"
      },
      "id": "fEMOXYsp31ee",
      "execution_count": null,
      "outputs": [
        {
          "output_type": "stream",
          "name": "stdout",
          "text": [
            "Mounted at /content/drive\n"
          ]
        }
      ]
    },
    {
      "cell_type": "code",
      "source": [
        "!pip install pyspark\n",
        "!pip install findspark"
      ],
      "metadata": {
        "colab": {
          "base_uri": "https://localhost:8080/"
        },
        "id": "VKsBHbil4IBg",
        "outputId": "36898767-7388-4423-e93a-c8560ffaa74e"
      },
      "id": "VKsBHbil4IBg",
      "execution_count": null,
      "outputs": [
        {
          "output_type": "stream",
          "name": "stdout",
          "text": [
            "Looking in indexes: https://pypi.org/simple, https://us-python.pkg.dev/colab-wheels/public/simple/\n",
            "Collecting pyspark\n",
            "  Downloading pyspark-3.3.2.tar.gz (281.4 MB)\n",
            "\u001b[2K     \u001b[90m━━━━━━━━━━━━━━━━━━━━━━━━━━━━━━━━━━━━━━━\u001b[0m \u001b[32m281.4/281.4 MB\u001b[0m \u001b[31m4.3 MB/s\u001b[0m eta \u001b[36m0:00:00\u001b[0m\n",
            "\u001b[?25h  Preparing metadata (setup.py) ... \u001b[?25l\u001b[?25hdone\n",
            "Collecting py4j==0.10.9.5\n",
            "  Downloading py4j-0.10.9.5-py2.py3-none-any.whl (199 kB)\n",
            "\u001b[2K     \u001b[90m━━━━━━━━━━━━━━━━━━━━━━━━━━━━━━━━━━━━━━\u001b[0m \u001b[32m199.7/199.7 KB\u001b[0m \u001b[31m22.8 MB/s\u001b[0m eta \u001b[36m0:00:00\u001b[0m\n",
            "\u001b[?25hBuilding wheels for collected packages: pyspark\n",
            "  Building wheel for pyspark (setup.py) ... \u001b[?25l\u001b[?25hdone\n",
            "  Created wheel for pyspark: filename=pyspark-3.3.2-py2.py3-none-any.whl size=281824028 sha256=6299394ba5918e7f71993621aca6ce5c6a95eaf4baa446f3820ffac3e707ab78\n",
            "  Stored in directory: /root/.cache/pip/wheels/6c/e3/9b/0525ce8a69478916513509d43693511463c6468db0de237c86\n",
            "Successfully built pyspark\n",
            "Installing collected packages: py4j, pyspark\n",
            "  Attempting uninstall: py4j\n",
            "    Found existing installation: py4j 0.10.9.7\n",
            "    Uninstalling py4j-0.10.9.7:\n",
            "      Successfully uninstalled py4j-0.10.9.7\n",
            "Successfully installed py4j-0.10.9.5 pyspark-3.3.2\n",
            "Looking in indexes: https://pypi.org/simple, https://us-python.pkg.dev/colab-wheels/public/simple/\n",
            "Collecting findspark\n",
            "  Downloading findspark-2.0.1-py2.py3-none-any.whl (4.4 kB)\n",
            "Installing collected packages: findspark\n",
            "Successfully installed findspark-2.0.1\n"
          ]
        }
      ]
    },
    {
      "cell_type": "code",
      "source": [
        "!pip install pyspark"
      ],
      "metadata": {
        "colab": {
          "base_uri": "https://localhost:8080/"
        },
        "id": "G1hSS4bmn_rI",
        "outputId": "6b70a6ae-ebb9-46de-a78f-593780a30686"
      },
      "id": "G1hSS4bmn_rI",
      "execution_count": null,
      "outputs": [
        {
          "output_type": "stream",
          "name": "stdout",
          "text": [
            "Looking in indexes: https://pypi.org/simple, https://us-python.pkg.dev/colab-wheels/public/simple/\n",
            "Collecting pyspark\n",
            "  Downloading pyspark-3.4.0.tar.gz (310.8 MB)\n",
            "\u001b[2K     \u001b[90m━━━━━━━━━━━━━━━━━━━━━━━━━━━━━━━━━━━━━━━\u001b[0m \u001b[32m310.8/310.8 MB\u001b[0m \u001b[31m3.9 MB/s\u001b[0m eta \u001b[36m0:00:00\u001b[0m\n",
            "\u001b[?25h  Preparing metadata (setup.py) ... \u001b[?25l\u001b[?25hdone\n",
            "Requirement already satisfied: py4j==0.10.9.7 in /usr/local/lib/python3.10/dist-packages (from pyspark) (0.10.9.7)\n",
            "Building wheels for collected packages: pyspark\n",
            "  Building wheel for pyspark (setup.py) ... \u001b[?25l\u001b[?25hdone\n",
            "  Created wheel for pyspark: filename=pyspark-3.4.0-py2.py3-none-any.whl size=311317130 sha256=ff52aba9a208ae6d96e13c9780ab9a3a0995ae6c87bfd7e18e751aae208babf8\n",
            "  Stored in directory: /root/.cache/pip/wheels/7b/1b/4b/3363a1d04368e7ff0d408e57ff57966fcdf00583774e761327\n",
            "Successfully built pyspark\n",
            "Installing collected packages: pyspark\n",
            "Successfully installed pyspark-3.4.0\n"
          ]
        }
      ]
    },
    {
      "cell_type": "code",
      "source": [
        "!pip install findspark"
      ],
      "metadata": {
        "colab": {
          "base_uri": "https://localhost:8080/"
        },
        "id": "KYKBZGi5o17U",
        "outputId": "0f3c7f07-14dd-47ea-dd09-d8ffe2191f50"
      },
      "id": "KYKBZGi5o17U",
      "execution_count": null,
      "outputs": [
        {
          "output_type": "stream",
          "name": "stdout",
          "text": [
            "Looking in indexes: https://pypi.org/simple, https://us-python.pkg.dev/colab-wheels/public/simple/\n",
            "Collecting findspark\n",
            "  Downloading findspark-2.0.1-py2.py3-none-any.whl (4.4 kB)\n",
            "Installing collected packages: findspark\n",
            "Successfully installed findspark-2.0.1\n"
          ]
        }
      ]
    },
    {
      "cell_type": "code",
      "execution_count": null,
      "id": "252a7838",
      "metadata": {
        "id": "252a7838"
      },
      "outputs": [],
      "source": [
        "\n",
        "import findspark\n",
        "findspark.init()"
      ]
    },
    {
      "cell_type": "code",
      "execution_count": null,
      "id": "7192e111",
      "metadata": {
        "id": "7192e111"
      },
      "outputs": [],
      "source": [
        "from pyspark.sql import SparkSession\n",
        "from pyspark.sql.functions import length\n",
        "from pyspark.ml.feature import Tokenizer, StopWordsRemover\n",
        "from pyspark.ml.feature import CountVectorizer, IDF, StringIndexer\n",
        "from pyspark.ml.classification import NaiveBayes, RandomForestClassifier, LogisticRegression\n",
        "from pyspark.ml import Pipeline\n",
        "from pyspark.ml.evaluation import MulticlassClassificationEvaluator\n",
        "from pyspark.ml.feature import VectorAssembler\n",
        "from pyspark.ml.linalg import Vector\n",
        "from pyspark.ml import Pipeline\n",
        "from pyspark.sql.functions import lit\n",
        "from bs4 import BeautifulSoup\n",
        "from pyspark import keyword_only\n",
        "from pyspark.ml import Transformer\n",
        "from pyspark.sql.functions import when\n",
        "import pyspark.sql.functions as F\n",
        "from pyspark.mllib.evaluation import MulticlassMetrics, BinaryClassificationMetrics\n",
        "from datetime import datetime\n",
        "from pyspark.ml import Transformer\n",
        "from pyspark.sql.types import FloatType\n",
        "from pyspark.ml.param.shared import HasInputCol, HasOutputCol \n",
        "from pyspark.sql.functions import udf\n",
        "from pyspark.sql.types import StringType\n",
        "from pyspark.ml.evaluation import MulticlassClassificationEvaluator, BinaryClassificationEvaluator"
      ]
    },
    {
      "cell_type": "code",
      "execution_count": null,
      "id": "e6235287",
      "metadata": {
        "id": "e6235287"
      },
      "outputs": [],
      "source": [
        "spark = SparkSession.builder.appName('Rating').getOrCreate()"
      ]
    },
    {
      "cell_type": "markdown",
      "id": "6fd5dde6",
      "metadata": {
        "id": "6fd5dde6"
      },
      "source": [
        "### Load Data"
      ]
    },
    {
      "cell_type": "code",
      "execution_count": null,
      "id": "3ace938a",
      "metadata": {
        "id": "3ace938a"
      },
      "outputs": [],
      "source": [
        "df1 = spark.read.csv(\"/content/drive/MyDrive/comments_final.csv\",header=True\n",
        "                      ,inferSchema=True)"
      ]
    },
    {
      "cell_type": "code",
      "execution_count": null,
      "id": "79fcaf03",
      "metadata": {
        "scrolled": true,
        "colab": {
          "base_uri": "https://localhost:8080/"
        },
        "id": "79fcaf03",
        "outputId": "6bcac413-9f17-489d-8902-30a70ce87ecb"
      },
      "outputs": [
        {
          "output_type": "stream",
          "name": "stdout",
          "text": [
            "root\n",
            " |-- _c0: integer (nullable = true)\n",
            " |-- processed_text: string (nullable = true)\n",
            " |-- class: string (nullable = true)\n",
            "\n"
          ]
        }
      ],
      "source": [
        "df1.printSchema()"
      ]
    },
    {
      "cell_type": "code",
      "execution_count": null,
      "id": "a712bfab",
      "metadata": {
        "id": "a712bfab"
      },
      "outputs": [],
      "source": [
        "df1 = df1.withColumn('class',lit('fake'))"
      ]
    },
    {
      "cell_type": "code",
      "execution_count": null,
      "id": "1d0956ee",
      "metadata": {
        "scrolled": false,
        "colab": {
          "base_uri": "https://localhost:8080/"
        },
        "id": "1d0956ee",
        "outputId": "d0cc4839-9eda-41ee-f5a5-fce24807fc2e"
      },
      "outputs": [
        {
          "output_type": "stream",
          "name": "stdout",
          "text": [
            "+---+--------------------+--------+\n",
            "|_c0|      processed_text|   class|\n",
            "+---+--------------------+--------+\n",
            "|  0|    rất_hài sản_phẩm|positive|\n",
            "|  1|sản_phẩm chất_lượ...|positive|\n",
            "|  2|sản_phẩm chất_lượ...|positive|\n",
            "|  3|cuộc_sống không_g...|positive|\n",
            "|  4|viết nhận_xét quá...|negative|\n",
            "|  5|hàng bị_lỗi màng ...|negative|\n",
            "|  6|sản_phẩm rất_tốt ...|positive|\n",
            "|  7|rất_hài sản_phẩm ...|positive|\n",
            "|  8|băng xài ổn lực c...|positive|\n",
            "|  9|sản_phẩm sản_phẩm...|negative|\n",
            "| 10|hàng băng bị_cắt sài|negative|\n",
            "| 11|mẫu_mã đẹp chất_l...|positive|\n",
            "| 12|sản_phẩm không_đú...|negative|\n",
            "| 13|hàng số_lượng đơn...|negative|\n",
            "| 14|không_nói đừng sả...|negative|\n",
            "| 15|dán vô rớt hoài v...|negative|\n",
            "| 16|                băng|positive|\n",
            "| 17|hàng đúng_hạn đón...|positive|\n",
            "| 18|gọn bỏ_túi quảng_...|positive|\n",
            "| 19|như_hình dùm chất...|positive|\n",
            "+---+--------------------+--------+\n",
            "only showing top 20 rows\n",
            "\n"
          ]
        }
      ],
      "source": [
        "df2 = df1.withColumn(\"class\", when(df1['class'] == \"negative\",\"negative\") \\\n",
        "      .when(df1['class'] == \"neutral\",\"negative\") \\\n",
        "      .otherwise(df1['class']))\n",
        "df2.show()"
      ]
    },
    {
      "cell_type": "code",
      "execution_count": null,
      "id": "75e2623f",
      "metadata": {
        "colab": {
          "base_uri": "https://localhost:8080/"
        },
        "id": "75e2623f",
        "outputId": "1faa400d-f154-4fb6-afcf-5cc27285881a"
      },
      "outputs": [
        {
          "output_type": "execute_result",
          "data": {
            "text/plain": [
              "134231"
            ]
          },
          "metadata": {},
          "execution_count": 15
        }
      ],
      "source": [
        "df2.count()"
      ]
    },
    {
      "cell_type": "code",
      "execution_count": null,
      "id": "f17376be",
      "metadata": {
        "scrolled": true,
        "colab": {
          "base_uri": "https://localhost:8080/"
        },
        "id": "f17376be",
        "outputId": "d4ac66f4-8598-4b32-dac0-b5214f0453f4"
      },
      "outputs": [
        {
          "output_type": "stream",
          "name": "stdout",
          "text": [
            "+--------+------+\n",
            "|   class| count|\n",
            "+--------+------+\n",
            "|positive|103594|\n",
            "|negative| 30637|\n",
            "+--------+------+\n",
            "\n"
          ]
        }
      ],
      "source": [
        "df2.groupby('class').count().show()"
      ]
    },
    {
      "cell_type": "markdown",
      "id": "587ebad0",
      "metadata": {
        "id": "587ebad0"
      },
      "source": [
        "### Precprocess"
      ]
    },
    {
      "cell_type": "code",
      "execution_count": null,
      "id": "e53746f2",
      "metadata": {
        "id": "e53746f2"
      },
      "outputs": [],
      "source": [
        "df2 = df2.withColumn('length', length(df2['processed_text']))"
      ]
    },
    {
      "cell_type": "code",
      "execution_count": null,
      "id": "6ab983c0",
      "metadata": {
        "scrolled": true,
        "colab": {
          "base_uri": "https://localhost:8080/"
        },
        "id": "6ab983c0",
        "outputId": "dfd21b58-91f8-4d36-ff1c-a0dc0eeab71f"
      },
      "outputs": [
        {
          "output_type": "stream",
          "name": "stdout",
          "text": [
            "+---+--------------------+--------+------+\n",
            "|_c0|      processed_text|   class|length|\n",
            "+---+--------------------+--------+------+\n",
            "|  0|    rất_hài sản_phẩm|positive|    16|\n",
            "|  1|sản_phẩm chất_lượ...|positive|    85|\n",
            "|  2|sản_phẩm chất_lượ...|positive|    85|\n",
            "|  3|cuộc_sống không_g...|positive|    70|\n",
            "|  4|viết nhận_xét quá...|negative|   543|\n",
            "+---+--------------------+--------+------+\n",
            "only showing top 5 rows\n",
            "\n"
          ]
        }
      ],
      "source": [
        "df2.show(5)"
      ]
    },
    {
      "cell_type": "code",
      "execution_count": null,
      "id": "594b92e2",
      "metadata": {
        "colab": {
          "base_uri": "https://localhost:8080/"
        },
        "id": "594b92e2",
        "outputId": "379adfb5-c286-4d86-cde8-4fd8196b363e"
      },
      "outputs": [
        {
          "output_type": "stream",
          "name": "stdout",
          "text": [
            "+--------+-----------------+-----------------+\n",
            "|   class|         avg(_c0)|      avg(length)|\n",
            "+--------+-----------------+-----------------+\n",
            "|positive| 65855.4977797942|46.68221132498021|\n",
            "|negative|71373.80056794072|49.84929986617489|\n",
            "+--------+-----------------+-----------------+\n",
            "\n"
          ]
        }
      ],
      "source": [
        "df2.groupBy('class').mean().show()"
      ]
    },
    {
      "cell_type": "code",
      "execution_count": null,
      "id": "68208f10",
      "metadata": {
        "id": "68208f10"
      },
      "outputs": [],
      "source": [
        "data = df2.select('processed_text','class','length')"
      ]
    },
    {
      "cell_type": "code",
      "execution_count": null,
      "id": "b7d0c9b7",
      "metadata": {
        "scrolled": true,
        "colab": {
          "base_uri": "https://localhost:8080/"
        },
        "id": "b7d0c9b7",
        "outputId": "8e8ac585-14ea-43ca-b316-f8222fd8a8c2"
      },
      "outputs": [
        {
          "output_type": "stream",
          "name": "stdout",
          "text": [
            "+--------------------+--------+------+\n",
            "|      processed_text|   class|length|\n",
            "+--------------------+--------+------+\n",
            "|    rất_hài sản_phẩm|positive|    16|\n",
            "|sản_phẩm chất_lượ...|positive|    85|\n",
            "|sản_phẩm chất_lượ...|positive|    85|\n",
            "|cuộc_sống không_g...|positive|    70|\n",
            "|viết nhận_xét quá...|negative|   543|\n",
            "|hàng bị_lỗi màng ...|negative|    69|\n",
            "|sản_phẩm rất_tốt ...|positive|    57|\n",
            "|rất_hài sản_phẩm ...|positive|    23|\n",
            "|băng xài ổn lực c...|positive|    32|\n",
            "|sản_phẩm sản_phẩm...|negative|    90|\n",
            "|hàng băng bị_cắt sài|negative|    20|\n",
            "|mẫu_mã đẹp chất_l...|positive|    21|\n",
            "|sản_phẩm không_đú...|negative|    30|\n",
            "|hàng số_lượng đơn...|negative|    47|\n",
            "|không_nói đừng sả...|negative|    23|\n",
            "|dán vô rớt hoài v...|negative|    32|\n",
            "|                băng|positive|     4|\n",
            "|hàng đúng_hạn đón...|positive|    35|\n",
            "|gọn bỏ_túi quảng_...|positive|    71|\n",
            "|như_hình dùm chất...|positive|    26|\n",
            "+--------------------+--------+------+\n",
            "only showing top 20 rows\n",
            "\n"
          ]
        }
      ],
      "source": [
        "data.show()"
      ]
    },
    {
      "cell_type": "markdown",
      "id": "0e317dc2",
      "metadata": {
        "id": "0e317dc2"
      },
      "source": [
        "### Null"
      ]
    },
    {
      "cell_type": "code",
      "execution_count": null,
      "id": "b6eefe98",
      "metadata": {
        "id": "b6eefe98"
      },
      "outputs": [],
      "source": [
        "null_data = data.filter(data['processed_text'].isNull())"
      ]
    },
    {
      "cell_type": "code",
      "execution_count": null,
      "id": "61c2e25f",
      "metadata": {
        "id": "61c2e25f",
        "outputId": "048e376d-3db7-478c-92b0-1c4d7c14501f"
      },
      "outputs": [
        {
          "data": {
            "text/plain": [
              "33669"
            ]
          },
          "execution_count": 16,
          "metadata": {},
          "output_type": "execute_result"
        }
      ],
      "source": [
        "null_data.count()"
      ]
    },
    {
      "cell_type": "code",
      "execution_count": null,
      "id": "9121783d",
      "metadata": {
        "id": "9121783d"
      },
      "outputs": [],
      "source": [
        "data = data.filter(data['processed_text'].isNotNull())"
      ]
    },
    {
      "cell_type": "markdown",
      "id": "8380b755",
      "metadata": {
        "id": "8380b755"
      },
      "source": [
        "### Duplicated"
      ]
    },
    {
      "cell_type": "code",
      "execution_count": null,
      "id": "f7d272ab",
      "metadata": {
        "scrolled": true,
        "colab": {
          "base_uri": "https://localhost:8080/"
        },
        "id": "f7d272ab",
        "outputId": "976adb54-20a2-4081-96d3-314fcd077856"
      },
      "outputs": [
        {
          "output_type": "stream",
          "name": "stdout",
          "text": [
            "+--------------------+--------+------+\n",
            "|      processed_text|   class|length|\n",
            "+--------------------+--------+------+\n",
            "|aaaaa thích quá_t...|positive|    83|\n",
            "|aaaaaaaaaaaaaaaaa...|positive|    41|\n",
            "|          abhhgycycy|negative|    10|\n",
            "|               acnes|positive|     5|\n",
            "|              active|positive|     6|\n",
            "|     active báo vọng|positive|    15|\n",
            "|active việt nam a...|positive|    45|\n",
            "|     active đóng_gói|positive|    15|\n",
            "|      actived bị_cái|negative|    14|\n",
            "|adaptor kích_thướ...|negative|    71|\n",
            "|adaptor nóng thử ...|negative|    33|\n",
            "|add quà tặng kèm ...|negative|    52|\n",
            "|add vợ_chồng lên_...|positive|    32|\n",
            "| addition tag nicely|positive|    19|\n",
            "|ahas cũng_hơi ngạ...|positive|    67|\n",
            "|       ahas việt nam|positive|    13|\n",
            "|ahuhu lắp bị_đứt ...|positive|   189|\n",
            "|       aiken rất_tốt|positive|    13|\n",
            "|airpod bị_dính ẩn...|negative|    23|\n",
            "|airpod máy case t...|positive|    31|\n",
            "+--------------------+--------+------+\n",
            "only showing top 20 rows\n",
            "\n"
          ]
        }
      ],
      "source": [
        "data.dropDuplicates(['processed_text']).show()"
      ]
    },
    {
      "cell_type": "code",
      "execution_count": null,
      "id": "3dc32248",
      "metadata": {
        "colab": {
          "base_uri": "https://localhost:8080/"
        },
        "id": "3dc32248",
        "outputId": "221aad8d-c8d2-45a1-90fc-6c690252c850"
      },
      "outputs": [
        {
          "output_type": "stream",
          "name": "stdout",
          "text": [
            "+--------------------+--------+------+\n",
            "|      processed_text|   class|length|\n",
            "+--------------------+--------+------+\n",
            "|    rất_hài sản_phẩm|positive|    16|\n",
            "|sản_phẩm chất_lượ...|positive|    85|\n",
            "|sản_phẩm chất_lượ...|positive|    85|\n",
            "|cuộc_sống không_g...|positive|    70|\n",
            "|viết nhận_xét quá...|negative|   543|\n",
            "|hàng bị_lỗi màng ...|negative|    69|\n",
            "|sản_phẩm rất_tốt ...|positive|    57|\n",
            "|rất_hài sản_phẩm ...|positive|    23|\n",
            "|băng xài ổn lực c...|positive|    32|\n",
            "|sản_phẩm sản_phẩm...|negative|    90|\n",
            "|hàng băng bị_cắt sài|negative|    20|\n",
            "|mẫu_mã đẹp chất_l...|positive|    21|\n",
            "|sản_phẩm không_đú...|negative|    30|\n",
            "|hàng số_lượng đơn...|negative|    47|\n",
            "|không_nói đừng sả...|negative|    23|\n",
            "|dán vô rớt hoài v...|negative|    32|\n",
            "|                băng|positive|     4|\n",
            "|hàng đúng_hạn đón...|positive|    35|\n",
            "|gọn bỏ_túi quảng_...|positive|    71|\n",
            "|như_hình dùm chất...|positive|    26|\n",
            "+--------------------+--------+------+\n",
            "only showing top 20 rows\n",
            "\n"
          ]
        }
      ],
      "source": [
        "data.show()"
      ]
    },
    {
      "cell_type": "code",
      "execution_count": null,
      "id": "ef64cc61",
      "metadata": {
        "colab": {
          "base_uri": "https://localhost:8080/"
        },
        "id": "ef64cc61",
        "outputId": "bbe9ba89-1367-4735-eb84-c8356f466fba"
      },
      "outputs": [
        {
          "output_type": "execute_result",
          "data": {
            "text/plain": [
              "134231"
            ]
          },
          "metadata": {},
          "execution_count": 19
        }
      ],
      "source": [
        "data.count()"
      ]
    },
    {
      "cell_type": "code",
      "execution_count": null,
      "id": "62a8ca8b",
      "metadata": {
        "colab": {
          "base_uri": "https://localhost:8080/"
        },
        "id": "62a8ca8b",
        "outputId": "e8819951-20eb-4682-b5ec-903523d9f589"
      },
      "outputs": [
        {
          "output_type": "stream",
          "name": "stdout",
          "text": [
            "+--------+------+\n",
            "|   class| count|\n",
            "+--------+------+\n",
            "|positive|103594|\n",
            "|negative| 30637|\n",
            "+--------+------+\n",
            "\n"
          ]
        }
      ],
      "source": [
        "data.groupby('class').count().show()"
      ]
    },
    {
      "cell_type": "markdown",
      "id": "86c9051d",
      "metadata": {
        "id": "86c9051d"
      },
      "source": [
        "### Resampling"
      ]
    },
    {
      "cell_type": "code",
      "execution_count": null,
      "id": "a0b3c30f",
      "metadata": {
        "colab": {
          "base_uri": "https://localhost:8080/"
        },
        "id": "a0b3c30f",
        "outputId": "05cbcbf1-c65d-47af-ebb2-1af28b31a9c8"
      },
      "outputs": [
        {
          "output_type": "stream",
          "name": "stdout",
          "text": [
            "ratio: 3\n"
          ]
        }
      ],
      "source": [
        "from pyspark.sql.functions import col, explode, array, lit\n",
        "major_df = data.filter(col(\"class\") == 'positive')\n",
        "minor_df = data.filter(col(\"class\") == 'negative')\n",
        "ratio = int(major_df.count()/minor_df.count())\n",
        "print(\"ratio: {}\".format(ratio))\n"
      ]
    },
    {
      "cell_type": "code",
      "execution_count": null,
      "id": "0fd56152",
      "metadata": {
        "scrolled": true,
        "colab": {
          "base_uri": "https://localhost:8080/"
        },
        "id": "0fd56152",
        "outputId": "fc415fba-a47e-444e-a819-311d04ee78f6"
      },
      "outputs": [
        {
          "output_type": "stream",
          "name": "stdout",
          "text": [
            "+--------------------+--------+------+\n",
            "|      processed_text|   class|length|\n",
            "+--------------------+--------+------+\n",
            "|cuộc_sống không_g...|positive|    70|\n",
            "|rất_hài sản_phẩm ...|positive|    23|\n",
            "|                băng|positive|     4|\n",
            "|cũng_rất dính tội...|positive|    34|\n",
            "|băng_dính rất_tiệ...|positive|    32|\n",
            "|         độ dính tốt|positive|    11|\n",
            "|băng_dính dính tộ...|positive|    44|\n",
            "|dính tốt bữa dán ...|positive|    39|\n",
            "|                 bám|positive|     3|\n",
            "| sản_phẩm dính kháng|positive|    19|\n",
            "|chất_lượng tạm ổn...|positive|    30|\n",
            "|đóng gói tốt hàng...|positive|    35|\n",
            "| hình hiệu_quả không|positive|    19|\n",
            "|dính thời rớt mặc...|positive|    34|\n",
            "|đơn_giản độ bền s...|positive|    37|\n",
            "|quá_chắc chắn tưở...|positive|    31|\n",
            "|          mô_tả hàng|positive|    10|\n",
            "|sản_phẩm đóng gói kỹ|positive|    20|\n",
            "|dính dán kính cườ...|positive|    23|\n",
            "|rất_tốt hạn_chế d...|positive|    25|\n",
            "+--------------------+--------+------+\n",
            "only showing top 20 rows\n",
            "\n"
          ]
        }
      ],
      "source": [
        "sampled_majority_df = major_df.sample(False, 1/ratio)\n",
        "combined_df_2 = sampled_majority_df.unionAll(minor_df)\n",
        "combined_df_2.show()"
      ]
    },
    {
      "cell_type": "code",
      "execution_count": null,
      "id": "16a4cb26",
      "metadata": {
        "colab": {
          "base_uri": "https://localhost:8080/"
        },
        "id": "16a4cb26",
        "outputId": "d82793ea-5f56-4c62-95f4-12ac36582a22"
      },
      "outputs": [
        {
          "output_type": "stream",
          "name": "stdout",
          "text": [
            "+--------+-----+\n",
            "|   class|count|\n",
            "+--------+-----+\n",
            "|positive|34449|\n",
            "|negative|30637|\n",
            "+--------+-----+\n",
            "\n"
          ]
        }
      ],
      "source": [
        "combined_df_2.groupby('class').count().show()"
      ]
    },
    {
      "cell_type": "markdown",
      "id": "85d85e9b",
      "metadata": {
        "id": "85d85e9b"
      },
      "source": [
        "### Feature & Transform"
      ]
    },
    {
      "cell_type": "code",
      "execution_count": null,
      "id": "380fb963",
      "metadata": {
        "id": "380fb963"
      },
      "outputs": [],
      "source": [
        "class BsTextExtractor(Transformer, HasInputCol, HasOutputCol):\n",
        "    \n",
        "    @keyword_only\n",
        "    def __init__(self, inputCol=None, outputCol=None):\n",
        "        super(BsTextExtractor, self).__init__() \n",
        "        kwargs = self._input_kwargs \n",
        "        self.setParams(**kwargs)\n",
        "        \n",
        "    @keyword_only\n",
        "    def setParams(self, inputCol=None, outputCol=None): \n",
        "        kwargs = self._input_kwargs\n",
        "        return self._set(**kwargs)\n",
        "    def _transform(self, dataset):\n",
        "        def f(s):\n",
        "            cleaned_text = BeautifulSoup(s).text \n",
        "            return cleaned_text\n",
        "        t = StringType()\n",
        "        out_col = self.getOutputCol()\n",
        "        in_col = dataset[self.getInputCol()]\n",
        "        return dataset.withColumn(out_col, udf(f, t)(in_col))"
      ]
    },
    {
      "cell_type": "code",
      "execution_count": null,
      "id": "9c29777e",
      "metadata": {
        "id": "9c29777e"
      },
      "outputs": [],
      "source": [
        "text_extractor = BsTextExtractor(inputCol=\"processed_text\", outputCol=\"cleaned_text\")\n",
        "tokenizer = Tokenizer(inputCol='cleaned_text', outputCol='token_text')\n",
        "stopremove= StopWordsRemover(inputCol='token_text', outputCol='stop_tokens')\n",
        "count_vec = CountVectorizer(inputCol='stop_tokens', outputCol='c_vec')\n",
        "idf = IDF(inputCol='c_vec', outputCol='tf_idf')\n",
        "ham_spam_to_num = StringIndexer(inputCol='class',outputCol='label', handleInvalid='keep')"
      ]
    },
    {
      "cell_type": "code",
      "execution_count": null,
      "id": "680a2bbe",
      "metadata": {
        "id": "680a2bbe"
      },
      "outputs": [],
      "source": [
        "clean_up = VectorAssembler(inputCols =['tf_idf','length'],\n",
        "                           outputCol='features')"
      ]
    },
    {
      "cell_type": "code",
      "execution_count": null,
      "id": "c521930c",
      "metadata": {
        "id": "c521930c"
      },
      "outputs": [],
      "source": [
        "data_prep_pipe = Pipeline(stages=[ham_spam_to_num,\n",
        "                                  text_extractor,\n",
        "                                  tokenizer,\n",
        "                                  stopremove,\n",
        "                                  count_vec,\n",
        "                                  idf,\n",
        "                                  clean_up])"
      ]
    },
    {
      "cell_type": "code",
      "execution_count": null,
      "id": "1793128a",
      "metadata": {
        "scrolled": true,
        "id": "1793128a"
      },
      "outputs": [],
      "source": [
        "cleaner = data_prep_pipe.fit(combined_df_2)"
      ]
    },
    {
      "cell_type": "code",
      "execution_count": null,
      "id": "eac4664b",
      "metadata": {
        "id": "eac4664b"
      },
      "outputs": [],
      "source": [
        "clean_data = cleaner.transform(combined_df_2)"
      ]
    },
    {
      "cell_type": "code",
      "execution_count": null,
      "id": "fd0c6089",
      "metadata": {
        "id": "fd0c6089"
      },
      "outputs": [],
      "source": [
        "clean_data = clean_data.select('label','features')"
      ]
    },
    {
      "cell_type": "code",
      "execution_count": null,
      "id": "f18affa4",
      "metadata": {
        "colab": {
          "base_uri": "https://localhost:8080/"
        },
        "id": "f18affa4",
        "outputId": "cbe4fffe-76b1-4ce1-a89b-f7f83c1e1b4a"
      },
      "outputs": [
        {
          "output_type": "stream",
          "name": "stdout",
          "text": [
            "+-----+--------------------+\n",
            "|label|            features|\n",
            "+-----+--------------------+\n",
            "|  0.0|(20039,[277,533,9...|\n",
            "|  0.0|(20039,[1,77,476,...|\n",
            "|  0.0|(20039,[218,20038...|\n",
            "|  0.0|(20039,[10,112,21...|\n",
            "|  0.0|(20039,[50,112,12...|\n",
            "|  0.0|(20039,[2,54,112,...|\n",
            "|  0.0|(20039,[112,479,8...|\n",
            "|  0.0|(20039,[2,50,65,7...|\n",
            "|  0.0|(20039,[371,20038...|\n",
            "|  0.0|(20039,[1,112,246...|\n",
            "|  0.0|(20039,[4,14,58,2...|\n",
            "|  0.0|(20039,[0,2,3,12,...|\n",
            "|  0.0|(20039,[33,65,101...|\n",
            "|  0.0|(20039,[26,50,112...|\n",
            "|  0.0|(20039,[1,42,54,7...|\n",
            "|  0.0|(20039,[47,100,10...|\n",
            "|  0.0|(20039,[0,145,200...|\n",
            "|  0.0|(20039,[1,12,20,8...|\n",
            "|  0.0|(20039,[50,112,41...|\n",
            "|  0.0|(20039,[50,66,521...|\n",
            "+-----+--------------------+\n",
            "only showing top 20 rows\n",
            "\n"
          ]
        }
      ],
      "source": [
        "clean_data.show()"
      ]
    },
    {
      "cell_type": "code",
      "execution_count": null,
      "id": "91be6233",
      "metadata": {
        "scrolled": true,
        "colab": {
          "base_uri": "https://localhost:8080/"
        },
        "id": "91be6233",
        "outputId": "921b6fd8-3c83-4a31-fa42-04c11e191aa5"
      },
      "outputs": [
        {
          "output_type": "stream",
          "name": "stdout",
          "text": [
            "+-----+-----+\n",
            "|label|count|\n",
            "+-----+-----+\n",
            "|  0.0|34449|\n",
            "|  1.0|30637|\n",
            "+-----+-----+\n",
            "\n"
          ]
        }
      ],
      "source": [
        "clean_data.groupBy('label').count().show()"
      ]
    },
    {
      "cell_type": "code",
      "execution_count": null,
      "id": "232c8ab9",
      "metadata": {
        "id": "232c8ab9"
      },
      "outputs": [],
      "source": [
        "(train, test) = clean_data.randomSplit([0.7,0.3])"
      ]
    },
    {
      "cell_type": "markdown",
      "id": "16d6c877",
      "metadata": {
        "id": "16d6c877"
      },
      "source": [
        "## Build Model"
      ]
    },
    {
      "cell_type": "markdown",
      "id": "82661486",
      "metadata": {
        "id": "82661486"
      },
      "source": [
        "### Naive Bayes"
      ]
    },
    {
      "cell_type": "code",
      "execution_count": null,
      "id": "6f256bf6",
      "metadata": {
        "scrolled": true,
        "colab": {
          "base_uri": "https://localhost:8080/"
        },
        "id": "6f256bf6",
        "outputId": "6168dc18-3645-4c4a-d0a4-025b92697826"
      },
      "outputs": [
        {
          "output_type": "stream",
          "name": "stdout",
          "text": [
            "+-----+--------------------+--------------------+--------------------+----------+\n",
            "|label|            features|       rawPrediction|         probability|prediction|\n",
            "+-----+--------------------+--------------------+--------------------+----------+\n",
            "|  0.0|(20039,[0,1,2,3,4...|[-1650.4987098192...|[1.0,2.2036748240...|       0.0|\n",
            "|  0.0|(20039,[0,1,2,3,4...|[-311.02182583160...|[1.0,2.4788237459...|       0.0|\n",
            "|  0.0|(20039,[0,1,2,3,4...|[-455.90784087959...|[0.99999984767774...|       0.0|\n",
            "|  0.0|(20039,[0,1,2,3,4...|[-233.68870554145...|[0.99999999999981...|       0.0|\n",
            "|  0.0|(20039,[0,1,2,3,4...|[-414.22459365381...|[0.99999784600106...|       0.0|\n",
            "|  0.0|(20039,[0,1,2,3,4...|[-133.66992069770...|[0.99999997283950...|       0.0|\n",
            "|  0.0|(20039,[0,1,2,3,4...|[-172.34210639873...|[0.99999999999993...|       0.0|\n",
            "|  0.0|(20039,[0,1,2,3,4...|[-81.208736089573...|[0.99962966451059...|       0.0|\n",
            "|  0.0|(20039,[0,1,2,3,5...|[-901.72554146786...|[1.0,7.5903264438...|       0.0|\n",
            "|  0.0|(20039,[0,1,2,3,5...|[-1055.1271609103...|[6.30023026778029...|       1.0|\n",
            "|  0.0|(20039,[0,1,2,3,6...|[-305.80646075872...|[1.0,1.9386287078...|       0.0|\n",
            "|  0.0|(20039,[0,1,2,3,6...|[-152.11537026539...|[0.99999998826335...|       0.0|\n",
            "|  0.0|(20039,[0,1,2,3,8...|[-416.42643136538...|[0.99999999968347...|       0.0|\n",
            "|  0.0|(20039,[0,1,2,3,9...|[-262.48687549179...|[0.99999999999971...|       0.0|\n",
            "|  0.0|(20039,[0,1,2,3,1...|[-204.76128360367...|[0.99999997680104...|       0.0|\n",
            "|  0.0|(20039,[0,1,2,3,1...|[-440.24986806732...|[1.0,3.2373187471...|       0.0|\n",
            "|  0.0|(20039,[0,1,2,3,1...|[-1382.0802155077...|[1.0,1.3543670507...|       0.0|\n",
            "|  0.0|(20039,[0,1,2,3,1...|[-145.80045075311...|[0.99999999998783...|       0.0|\n",
            "|  0.0|(20039,[0,1,2,3,1...|[-333.80594854845...|[0.99999999996554...|       0.0|\n",
            "|  0.0|(20039,[0,1,2,3,1...|[-320.69554465562...|[0.99999999999682...|       0.0|\n",
            "+-----+--------------------+--------------------+--------------------+----------+\n",
            "only showing top 20 rows\n",
            "\n",
            "0:00:00.000100\n"
          ]
        }
      ],
      "source": [
        "nb = NaiveBayes()\n",
        "prediction = nb.fit(train)\n",
        "test_results = prediction.transform(test)\n",
        "start_time = datetime.now()\n",
        "train_time = datetime.now() - start_time  \n",
        "test_results.show()\n",
        "print(train_time)"
      ]
    },
    {
      "cell_type": "code",
      "execution_count": null,
      "id": "9dc9e443",
      "metadata": {
        "scrolled": true,
        "colab": {
          "base_uri": "https://localhost:8080/"
        },
        "id": "9dc9e443",
        "outputId": "7a65eb3a-f6de-431e-d7ad-f4f7b6539519"
      },
      "outputs": [
        {
          "output_type": "stream",
          "name": "stdout",
          "text": [
            "+-----+----------+-----+\n",
            "|label|prediction|count|\n",
            "+-----+----------+-----+\n",
            "|  0.0|       1.0| 1781|\n",
            "|  0.0|       0.0| 8680|\n",
            "|  1.0|       1.0| 7426|\n",
            "|  1.0|       0.0| 1853|\n",
            "+-----+----------+-----+\n",
            "\n"
          ]
        }
      ],
      "source": [
        "test_results.groupBy('label', 'prediction').count().show()"
      ]
    },
    {
      "cell_type": "markdown",
      "id": "dc491516",
      "metadata": {
        "id": "dc491516"
      },
      "source": [
        "### Report"
      ]
    },
    {
      "cell_type": "code",
      "execution_count": null,
      "id": "0adb7738",
      "metadata": {
        "colab": {
          "base_uri": "https://localhost:8080/"
        },
        "id": "0adb7738",
        "outputId": "074159d1-efa2-4c09-b546-89c1257649bb"
      },
      "outputs": [
        {
          "output_type": "stream",
          "name": "stderr",
          "text": [
            "/usr/local/lib/python3.9/dist-packages/pyspark/sql/context.py:157: FutureWarning: Deprecated in 3.0.0. Use SparkSession.builder.getOrCreate() instead.\n",
            "  warnings.warn(\n"
          ]
        },
        {
          "output_type": "stream",
          "name": "stdout",
          "text": [
            "[[8680. 1781.]\n",
            " [1853. 7426.]]\n"
          ]
        }
      ],
      "source": [
        "#important: need to cast to float type, and order by prediction, else it won't work\n",
        "preds_and_labels = test_results.select(['prediction','label']).withColumn('label', F.col('label').cast(FloatType())).orderBy('prediction')\n",
        "\n",
        "#select only prediction and label columns\n",
        "preds_and_labels = preds_and_labels.select(['prediction','label'])\n",
        "\n",
        "metrics = MulticlassMetrics(preds_and_labels.rdd.map(tuple))\n",
        "print(metrics.confusionMatrix().toArray())"
      ]
    },
    {
      "cell_type": "code",
      "execution_count": null,
      "id": "1625e028",
      "metadata": {
        "scrolled": true,
        "colab": {
          "base_uri": "https://localhost:8080/"
        },
        "id": "1625e028",
        "outputId": "5979c69c-9735-4fbc-ecdd-fa8b595a3710"
      },
      "outputs": [
        {
          "output_type": "stream",
          "name": "stdout",
          "text": [
            "Accuracy of model: 0.8158639600626064\n"
          ]
        }
      ],
      "source": [
        "acc_eva = MulticlassClassificationEvaluator()\n",
        "acc = acc_eva.evaluate(test_results)\n",
        "print('Accuracy of model: {}'.format(acc))"
      ]
    },
    {
      "cell_type": "markdown",
      "id": "73d2b16a",
      "metadata": {
        "id": "73d2b16a"
      },
      "source": [
        "### Logistic Regression"
      ]
    },
    {
      "cell_type": "code",
      "execution_count": null,
      "id": "7c030040",
      "metadata": {
        "colab": {
          "base_uri": "https://localhost:8080/"
        },
        "id": "7c030040",
        "outputId": "42c84fc1-a08b-4bc6-fec0-7c283b4a01fa"
      },
      "outputs": [
        {
          "output_type": "stream",
          "name": "stdout",
          "text": [
            "0:00:00.000082\n"
          ]
        }
      ],
      "source": [
        "lg = LogisticRegression(maxIter=10, regParam=0.3)\n",
        "pre_lg = lg.fit(train)\n",
        "result_lg = pre_lg.transform(test)\n",
        "start_time = datetime.now()\n",
        "train_time = datetime.now() - start_time \n",
        "print(train_time)"
      ]
    },
    {
      "cell_type": "code",
      "execution_count": null,
      "id": "886acbb9",
      "metadata": {
        "colab": {
          "base_uri": "https://localhost:8080/"
        },
        "id": "886acbb9",
        "outputId": "075de090-c72e-4396-8893-346f61355d84"
      },
      "outputs": [
        {
          "output_type": "stream",
          "name": "stdout",
          "text": [
            "+-----+----------+-----+\n",
            "|label|prediction|count|\n",
            "+-----+----------+-----+\n",
            "|  0.0|       1.0| 1440|\n",
            "|  0.0|       0.0| 9021|\n",
            "|  1.0|       1.0| 7477|\n",
            "|  1.0|       0.0| 1802|\n",
            "+-----+----------+-----+\n",
            "\n"
          ]
        }
      ],
      "source": [
        "result_lg.groupBy('label', 'prediction').count().show()"
      ]
    },
    {
      "cell_type": "markdown",
      "id": "fde2535f",
      "metadata": {
        "id": "fde2535f"
      },
      "source": [
        "### Report"
      ]
    },
    {
      "cell_type": "code",
      "execution_count": null,
      "id": "ce68042b",
      "metadata": {
        "colab": {
          "base_uri": "https://localhost:8080/"
        },
        "id": "ce68042b",
        "outputId": "12f49c57-a496-4fca-ad97-cc446fb9ad10"
      },
      "outputs": [
        {
          "output_type": "stream",
          "name": "stderr",
          "text": [
            "/usr/local/lib/python3.9/dist-packages/pyspark/sql/context.py:157: FutureWarning: Deprecated in 3.0.0. Use SparkSession.builder.getOrCreate() instead.\n",
            "  warnings.warn(\n"
          ]
        },
        {
          "output_type": "stream",
          "name": "stdout",
          "text": [
            "[[9021. 1440.]\n",
            " [1802. 7477.]]\n"
          ]
        }
      ],
      "source": [
        "#important: need to cast to float type, and order by prediction, else it won't work\n",
        "preds_and_labels_lg = result_lg.select(['prediction','label']).withColumn('label', F.col('label').cast(FloatType())).orderBy('prediction')\n",
        "\n",
        "#select only prediction and label columns\n",
        "preds_and_labels_lg = preds_and_labels_lg.select(['prediction','label'])\n",
        "\n",
        "metrics_lg = MulticlassMetrics(preds_and_labels_lg.rdd.map(tuple))\n",
        "print(metrics_lg.confusionMatrix().toArray())"
      ]
    },
    {
      "cell_type": "code",
      "execution_count": null,
      "id": "7185057f",
      "metadata": {
        "scrolled": true,
        "colab": {
          "base_uri": "https://localhost:8080/"
        },
        "id": "7185057f",
        "outputId": "5f39a50f-c47e-4dec-ba1a-a909facf6253"
      },
      "outputs": [
        {
          "output_type": "stream",
          "name": "stdout",
          "text": [
            "Accuracy of model: 0.8355279201515133\n"
          ]
        }
      ],
      "source": [
        "acc_eva_lg = MulticlassClassificationEvaluator()\n",
        "acc_lg = acc_eva_lg.evaluate(result_lg)\n",
        "print('Accuracy of model: {}'.format(acc_lg))"
      ]
    },
    {
      "cell_type": "markdown",
      "id": "be1230a2",
      "metadata": {
        "id": "be1230a2"
      },
      "source": [
        "#### Nhận xét:\n",
        "- đối với việc sử dụng Pyspark, thời gian xử lý nhanh hơn, NB nhanh hơn về tốc độ xử lý so với logistic Regression\n",
        "- Tuy nhiên kết quả thì logistic lại tốt hơn về độ chính xác"
      ]
    },
    {
      "cell_type": "markdown",
      "id": "69384e11",
      "metadata": {
        "id": "69384e11"
      },
      "source": [
        "##### Như vậy Pyspark cho kết quả tốt hơn cả về thời gian xử lý lân độ chính xác"
      ]
    }
  ],
  "metadata": {
    "kernelspec": {
      "display_name": "Python 3 (ipykernel)",
      "language": "python",
      "name": "python3"
    },
    "language_info": {
      "codemirror_mode": {
        "name": "ipython",
        "version": 3
      },
      "file_extension": ".py",
      "mimetype": "text/x-python",
      "name": "python",
      "nbconvert_exporter": "python",
      "pygments_lexer": "ipython3",
      "version": "3.8.8"
    },
    "colab": {
      "provenance": []
    }
  },
  "nbformat": 4,
  "nbformat_minor": 5
}