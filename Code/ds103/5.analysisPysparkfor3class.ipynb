{
 "cells": [
  {
   "attachments": {},
   "cell_type": "markdown",
   "id": "a549908b",
   "metadata": {},
   "source": [
    "## PREPARE"
   ]
  },
  {
   "attachments": {},
   "cell_type": "markdown",
   "id": "2a5d3fda",
   "metadata": {},
   "source": [
    "LIBRARIES"
   ]
  },
  {
   "cell_type": "code",
   "execution_count": 1,
   "id": "252a7838",
   "metadata": {},
   "outputs": [],
   "source": [
    "import findspark\n",
    "findspark.init()"
   ]
  },
  {
   "cell_type": "code",
   "execution_count": 2,
   "id": "7192e111",
   "metadata": {},
   "outputs": [],
   "source": [
    "from pyspark.sql import SparkSession\n",
    "from pyspark.sql.functions import length\n",
    "from pyspark.ml.feature import Tokenizer, StopWordsRemover\n",
    "from pyspark.ml.feature import CountVectorizer, IDF, StringIndexer\n",
    "from pyspark.ml.classification import NaiveBayes, RandomForestClassifier, LogisticRegression\n",
    "from pyspark.ml import Pipeline\n",
    "from pyspark.ml.evaluation import MulticlassClassificationEvaluator\n",
    "from pyspark.ml.feature import VectorAssembler\n",
    "from pyspark.ml.linalg import Vector\n",
    "from pyspark.ml import Pipeline\n",
    "from pyspark.sql.functions import lit\n",
    "from bs4 import BeautifulSoup\n",
    "from pyspark import keyword_only\n",
    "import pyspark.sql.functions as F\n",
    "from pyspark.mllib.evaluation import MulticlassMetrics\n",
    "from datetime import datetime\n",
    "from pyspark.ml import Transformer\n",
    "from pyspark.sql.types import FloatType\n",
    "from pyspark.ml.param.shared import HasInputCol, HasOutputCol \n",
    "from pyspark.sql.functions import udf\n",
    "from pyspark.sql.types import StringType \n",
    "from pyspark.ml.evaluation import MulticlassClassificationEvaluator, BinaryClassificationEvaluator\n",
    "import numpy as np"
   ]
  },
  {
   "attachments": {},
   "cell_type": "markdown",
   "id": "8ca64394",
   "metadata": {},
   "source": [
    "SPARK"
   ]
  },
  {
   "cell_type": "code",
   "execution_count": 3,
   "id": "e6235287",
   "metadata": {},
   "outputs": [],
   "source": [
    "spark = SparkSession.builder.appName('Rating').getOrCreate()"
   ]
  },
  {
   "attachments": {},
   "cell_type": "markdown",
   "id": "6fd5dde6",
   "metadata": {},
   "source": [
    "### LOAD AND SHOW INFORMATION ABOUT DATA"
   ]
  },
  {
   "cell_type": "code",
   "execution_count": 4,
   "id": "3ace938a",
   "metadata": {},
   "outputs": [],
   "source": [
    "df1 = spark.read.csv(\"comments_final2.csv\", header=True, inferSchema=True)"
   ]
  },
  {
   "cell_type": "code",
   "execution_count": 5,
   "id": "75e2623f",
   "metadata": {},
   "outputs": [
    {
     "data": {
      "text/plain": [
       "36932"
      ]
     },
     "execution_count": 5,
     "metadata": {},
     "output_type": "execute_result"
    }
   ],
   "source": [
    "df1.count()"
   ]
  },
  {
   "cell_type": "code",
   "execution_count": 6,
   "id": "79fcaf03",
   "metadata": {
    "scrolled": true
   },
   "outputs": [
    {
     "name": "stdout",
     "output_type": "stream",
     "text": [
      "root\n",
      " |-- Column1: integer (nullable = true)\n",
      " |-- processed_text: string (nullable = true)\n",
      " |-- class: string (nullable = true)\n",
      " |-- word_count: integer (nullable = true)\n",
      "\n"
     ]
    }
   ],
   "source": [
    "df1.printSchema()"
   ]
  },
  {
   "cell_type": "code",
   "execution_count": 7,
   "id": "f17376be",
   "metadata": {
    "scrolled": true
   },
   "outputs": [
    {
     "name": "stdout",
     "output_type": "stream",
     "text": [
      "+--------+-----+\n",
      "|   class|count|\n",
      "+--------+-----+\n",
      "|positive|27643|\n",
      "| neutral| 4010|\n",
      "|negative| 5279|\n",
      "+--------+-----+\n",
      "\n"
     ]
    }
   ],
   "source": [
    "df1.groupby('class').count().show()"
   ]
  },
  {
   "attachments": {},
   "cell_type": "markdown",
   "id": "587ebad0",
   "metadata": {},
   "source": [
    "### CHECK DATA"
   ]
  },
  {
   "cell_type": "code",
   "execution_count": 8,
   "id": "e53746f2",
   "metadata": {},
   "outputs": [],
   "source": [
    "df1 = df1.withColumn('length', length(df1['processed_text']))"
   ]
  },
  {
   "cell_type": "code",
   "execution_count": 9,
   "id": "6ab983c0",
   "metadata": {
    "scrolled": true
   },
   "outputs": [
    {
     "name": "stdout",
     "output_type": "stream",
     "text": [
      "+-------+-------------------+--------+----------+------+\n",
      "|Column1|     processed_text|   class|word_count|length|\n",
      "+-------+-------------------+--------+----------+------+\n",
      "|    601|sách không_đối thần| neutral|         3|    19|\n",
      "|   3070| tuyệt_đối lượm lỗi|negative|         3|    18|\n",
      "|   3370|       chữ đọc dịch|negative|         3|    12|\n",
      "|   3784| quá_thất vọng hàng|negative|         3|    18|\n",
      "|   3881|     bì bị_nhăn góc| neutral|         3|    14|\n",
      "+-------+-------------------+--------+----------+------+\n",
      "only showing top 5 rows\n",
      "\n"
     ]
    }
   ],
   "source": [
    "df1.show(5)"
   ]
  },
  {
   "cell_type": "code",
   "execution_count": 10,
   "id": "594b92e2",
   "metadata": {},
   "outputs": [
    {
     "name": "stdout",
     "output_type": "stream",
     "text": [
      "+--------+------------------+------------------+------------------+\n",
      "|   class|      avg(Column1)|   avg(word_count)|       avg(length)|\n",
      "+--------+------------------+------------------+------------------+\n",
      "|positive| 39626.48019390081| 17.43736208081612|109.52154252432804|\n",
      "| neutral|40753.994264339155|13.203241895261845| 80.59052369077307|\n",
      "|negative| 40189.49952642546|13.819473385110816|  83.8029929910968|\n",
      "+--------+------------------+------------------+------------------+\n",
      "\n"
     ]
    }
   ],
   "source": [
    "df1.groupBy('class').mean().show()"
   ]
  },
  {
   "cell_type": "code",
   "execution_count": 11,
   "id": "68208f10",
   "metadata": {},
   "outputs": [],
   "source": [
    "data = df1.select('processed_text','class','length')"
   ]
  },
  {
   "cell_type": "code",
   "execution_count": 12,
   "id": "b7d0c9b7",
   "metadata": {
    "scrolled": true
   },
   "outputs": [
    {
     "name": "stdout",
     "output_type": "stream",
     "text": [
      "+--------------------+--------+------+\n",
      "|      processed_text|   class|length|\n",
      "+--------------------+--------+------+\n",
      "| sách không_đối thần| neutral|    19|\n",
      "|  tuyệt_đối lượm lỗi|negative|    18|\n",
      "|        chữ đọc dịch|negative|    12|\n",
      "|  quá_thất vọng hàng|negative|    18|\n",
      "|      bì bị_nhăn góc| neutral|    14|\n",
      "|       đường ướt mưa| neutral|    13|\n",
      "| bị_lặp cẩu_thả khâu|negative|    19|\n",
      "|    tâm chán quá_mặc|negative|    16|\n",
      "|    sách hơi_quăn ổn| neutral|    16|\n",
      "|  sách lỗi không_đẹp| neutral|    18|\n",
      "|      đọc bị_mấy vết| neutral|    14|\n",
      "|       sách bọc lông| neutral|    13|\n",
      "|không_hiểu bị_lỗi...|negative|    22|\n",
      "|   sách bị_dẹp bị_dơ| neutral|    17|\n",
      "|      sách đọc trắng|negative|    14|\n",
      "|     gói hàng làm_ăn|negative|    15|\n",
      "|   hàng quá_buồn săn|negative|    17|\n",
      "|     bị_mốp bìa cười| neutral|    15|\n",
      "|   căng rất_thư giãn|negative|    17|\n",
      "|sản_phẩm rất_tệ t...|negative|    21|\n",
      "+--------------------+--------+------+\n",
      "only showing top 20 rows\n",
      "\n"
     ]
    }
   ],
   "source": [
    "data.show()"
   ]
  },
  {
   "cell_type": "code",
   "execution_count": 13,
   "id": "9121783d",
   "metadata": {},
   "outputs": [],
   "source": [
    "data = data.filter(data['processed_text'].isNotNull())"
   ]
  },
  {
   "attachments": {},
   "cell_type": "markdown",
   "id": "85d85e9b",
   "metadata": {},
   "source": [
    "### FEATURES AND TRANSFORM"
   ]
  },
  {
   "cell_type": "code",
   "execution_count": 14,
   "id": "380fb963",
   "metadata": {},
   "outputs": [],
   "source": [
    "class BsTextExtractor(Transformer, HasInputCol, HasOutputCol):\n",
    "    \n",
    "    @keyword_only\n",
    "    def __init__(self, inputCol=None, outputCol=None):\n",
    "        super(BsTextExtractor, self).__init__() \n",
    "        kwargs = self._input_kwargs \n",
    "        self.setParams(**kwargs)\n",
    "        \n",
    "    @keyword_only\n",
    "    def setParams(self, inputCol=None, outputCol=None): \n",
    "        kwargs = self._input_kwargs\n",
    "        return self._set(**kwargs)\n",
    "    def _transform(self, dataset):\n",
    "        def f(s):\n",
    "            cleaned_text = BeautifulSoup(s).text \n",
    "            return cleaned_text\n",
    "        t = StringType()\n",
    "        out_col = self.getOutputCol()\n",
    "        in_col = dataset[self.getInputCol()]\n",
    "        return dataset.withColumn(out_col, udf(f, t)(in_col))"
   ]
  },
  {
   "cell_type": "code",
   "execution_count": 15,
   "id": "9c29777e",
   "metadata": {},
   "outputs": [],
   "source": [
    "text_extractor = BsTextExtractor(inputCol=\"processed_text\", outputCol=\"cleaned_text\")\n",
    "tokenizer = Tokenizer(inputCol='cleaned_text', outputCol='token_text')\n",
    "stopremove= StopWordsRemover(inputCol='token_text', outputCol='stop_tokens')\n",
    "count_vec = CountVectorizer(inputCol='stop_tokens', outputCol='c_vec')\n",
    "idf = IDF(inputCol='c_vec', outputCol='tf_idf')\n",
    "ham_spam_to_num = StringIndexer(inputCol='class',outputCol='label', handleInvalid='keep')"
   ]
  },
  {
   "cell_type": "code",
   "execution_count": 16,
   "id": "680a2bbe",
   "metadata": {},
   "outputs": [],
   "source": [
    "clean_up = VectorAssembler(inputCols =['tf_idf','length'],\n",
    "                           outputCol='features')"
   ]
  },
  {
   "cell_type": "code",
   "execution_count": 17,
   "id": "c521930c",
   "metadata": {},
   "outputs": [],
   "source": [
    "data_prep_pipe = Pipeline(stages=[ham_spam_to_num,\n",
    "                                  text_extractor,\n",
    "                                  tokenizer,\n",
    "                                  stopremove,\n",
    "                                  count_vec,\n",
    "                                  idf,\n",
    "                                  clean_up])"
   ]
  },
  {
   "cell_type": "code",
   "execution_count": 18,
   "id": "1793128a",
   "metadata": {
    "scrolled": true
   },
   "outputs": [],
   "source": [
    "cleaner = data_prep_pipe.fit(data)"
   ]
  },
  {
   "cell_type": "code",
   "execution_count": 19,
   "id": "eac4664b",
   "metadata": {},
   "outputs": [],
   "source": [
    "clean_data = cleaner.transform(data)"
   ]
  },
  {
   "cell_type": "code",
   "execution_count": 20,
   "id": "fd0c6089",
   "metadata": {},
   "outputs": [],
   "source": [
    "clean_data = clean_data.select('label','features')"
   ]
  },
  {
   "cell_type": "code",
   "execution_count": 21,
   "id": "f18affa4",
   "metadata": {},
   "outputs": [
    {
     "name": "stdout",
     "output_type": "stream",
     "text": [
      "+-----+--------------------+\n",
      "|label|            features|\n",
      "+-----+--------------------+\n",
      "|  2.0|(23418,[0,178,569...|\n",
      "|  1.0|(23418,[49,2521,4...|\n",
      "|  1.0|(23418,[1,25,35,2...|\n",
      "|  1.0|(23418,[2,32,610,...|\n",
      "|  2.0|(23418,[19,341,38...|\n",
      "|  2.0|(23418,[127,339,5...|\n",
      "|  1.0|(23418,[115,717,1...|\n",
      "|  1.0|(23418,[109,172,1...|\n",
      "|  2.0|(23418,[0,40,2751...|\n",
      "|  2.0|(23418,[0,49,1123...|\n",
      "|  2.0|(23418,[1,142,345...|\n",
      "|  2.0|(23418,[0,6,912,2...|\n",
      "|  1.0|(23418,[182,307,1...|\n",
      "|  2.0|(23418,[0,585,200...|\n",
      "|  1.0|(23418,[0,1,312,2...|\n",
      "|  1.0|(23418,[2,13,391,...|\n",
      "|  1.0|(23418,[2,363,446...|\n",
      "|  2.0|(23418,[5,56,4664...|\n",
      "|  1.0|(23418,[1235,2343...|\n",
      "|  1.0|(23418,[26,107,11...|\n",
      "+-----+--------------------+\n",
      "only showing top 20 rows\n",
      "\n"
     ]
    }
   ],
   "source": [
    "clean_data.show()"
   ]
  },
  {
   "cell_type": "code",
   "execution_count": 22,
   "id": "91be6233",
   "metadata": {
    "scrolled": true
   },
   "outputs": [
    {
     "name": "stdout",
     "output_type": "stream",
     "text": [
      "+-----+-----+\n",
      "|label|count|\n",
      "+-----+-----+\n",
      "|  0.0|27643|\n",
      "|  1.0| 5279|\n",
      "|  2.0| 4010|\n",
      "+-----+-----+\n",
      "\n"
     ]
    }
   ],
   "source": [
    "clean_data.groupBy('label').count().show()"
   ]
  },
  {
   "cell_type": "code",
   "execution_count": 23,
   "id": "232c8ab9",
   "metadata": {},
   "outputs": [],
   "source": [
    "(train, test) = clean_data.randomSplit([0.7,0.3])"
   ]
  },
  {
   "attachments": {},
   "cell_type": "markdown",
   "id": "16d6c877",
   "metadata": {},
   "source": [
    "## BUILD MODEL AND TEST"
   ]
  },
  {
   "attachments": {},
   "cell_type": "markdown",
   "id": "82661486",
   "metadata": {},
   "source": [
    "### Naive Bayes"
   ]
  },
  {
   "cell_type": "code",
   "execution_count": 24,
   "id": "6f256bf6",
   "metadata": {
    "scrolled": true
   },
   "outputs": [
    {
     "name": "stdout",
     "output_type": "stream",
     "text": [
      "+-----+--------------------+--------------------+--------------------+----------+\n",
      "|label|            features|       rawPrediction|         probability|prediction|\n",
      "+-----+--------------------+--------------------+--------------------+----------+\n",
      "|  0.0|(23418,[0,1,2,3,4...|[-486.63021174689...|[0.99980355967898...|       0.0|\n",
      "|  0.0|(23418,[0,1,2,3,4...|[-399.33196944496...|[0.02168707500035...|       2.0|\n",
      "|  0.0|(23418,[0,1,2,3,4...|[-966.18784753399...|[0.80127797351792...|       0.0|\n",
      "|  0.0|(23418,[0,1,2,3,4...|[-508.75575913816...|[7.03212145447524...|       2.0|\n",
      "|  0.0|(23418,[0,1,2,3,4...|[-943.67885171935...|[0.90823126848921...|       0.0|\n",
      "|  0.0|(23418,[0,1,2,3,4...|[-1401.0154790627...|[1.0,2.0168907159...|       0.0|\n",
      "|  0.0|(23418,[0,1,2,3,4...|[-437.21352148037...|[1.0,2.1498202409...|       0.0|\n",
      "|  0.0|(23418,[0,1,2,3,4...|[-365.74347519505...|[0.99999998600627...|       0.0|\n",
      "|  0.0|(23418,[0,1,2,3,4...|[-888.58010006619...|[4.25146237483569...|       2.0|\n",
      "|  0.0|(23418,[0,1,2,3,4...|[-311.76871445287...|[1.0,5.4772891720...|       0.0|\n",
      "|  0.0|(23418,[0,1,2,3,4...|[-1107.0990471534...|[1.95574902618387...|       1.0|\n",
      "|  0.0|(23418,[0,1,2,3,4...|[-534.93762942888...|[0.99999985624173...|       0.0|\n",
      "|  0.0|(23418,[0,1,2,3,4...|[-358.99310940093...|[0.99999998483557...|       0.0|\n",
      "|  0.0|(23418,[0,1,2,3,4...|[-559.01245366961...|[1.0,7.7162426374...|       0.0|\n",
      "|  0.0|(23418,[0,1,2,3,4...|[-822.84033256385...|[1.0,3.6397000857...|       0.0|\n",
      "|  0.0|(23418,[0,1,2,3,4...|[-228.10651574467...|[0.99999912436400...|       0.0|\n",
      "|  0.0|(23418,[0,1,2,3,4...|[-482.74759862819...|[0.99999997576198...|       0.0|\n",
      "|  0.0|(23418,[0,1,2,3,4...|[-720.35308301375...|[2.95929749188353...|       2.0|\n",
      "|  0.0|(23418,[0,1,2,3,4...|[-814.38417339481...|[0.99999989152058...|       0.0|\n",
      "|  0.0|(23418,[0,1,2,3,4...|[-719.23379811110...|[0.99999999981496...|       0.0|\n",
      "+-----+--------------------+--------------------+--------------------+----------+\n",
      "only showing top 20 rows\n",
      "\n",
      "0:00:00\n"
     ]
    }
   ],
   "source": [
    "nb = NaiveBayes()\n",
    "prediction = nb.fit(train)\n",
    "test_results = prediction.transform(test)\n",
    "start_time = datetime.now()\n",
    "train_time = datetime.now() - start_time  \n",
    "test_results.show()\n",
    "print(train_time)"
   ]
  },
  {
   "cell_type": "code",
   "execution_count": 25,
   "id": "9dc9e443",
   "metadata": {
    "scrolled": true
   },
   "outputs": [
    {
     "name": "stdout",
     "output_type": "stream",
     "text": [
      "+-----+----------+-----+\n",
      "|label|prediction|count|\n",
      "+-----+----------+-----+\n",
      "|  2.0|       0.0|  310|\n",
      "|  1.0|       1.0| 1073|\n",
      "|  0.0|       1.0|  722|\n",
      "|  1.0|       0.0|  186|\n",
      "|  2.0|       2.0|  427|\n",
      "|  2.0|       1.0|  479|\n",
      "|  1.0|       2.0|  341|\n",
      "|  0.0|       0.0| 6308|\n",
      "|  0.0|       2.0| 1282|\n",
      "+-----+----------+-----+\n",
      "\n"
     ]
    }
   ],
   "source": [
    "test_results.groupBy('label', 'prediction').count().show()"
   ]
  },
  {
   "attachments": {},
   "cell_type": "markdown",
   "id": "dc491516",
   "metadata": {},
   "source": [
    "### Report"
   ]
  },
  {
   "cell_type": "code",
   "execution_count": 27,
   "id": "abe136e3",
   "metadata": {
    "scrolled": true
   },
   "outputs": [
    {
     "name": "stderr",
     "output_type": "stream",
     "text": [
      "c:\\ProgramData\\anaconda3\\lib\\site-packages\\pyspark\\sql\\context.py:157: FutureWarning: Deprecated in 3.0.0. Use SparkSession.builder.getOrCreate() instead.\n",
      "  warnings.warn(\n"
     ]
    },
    {
     "name": "stdout",
     "output_type": "stream",
     "text": [
      "[[6308.  722. 1282.]\n",
      " [ 186. 1073.  341.]\n",
      " [ 310.  479.  427.]]\n"
     ]
    }
   ],
   "source": [
    "#important: need to cast to float type, and order by prediction, else it won't work\n",
    "preds_and_labels = test_results.select(['prediction','label']).withColumn('label', F.col('label').cast(FloatType())).orderBy('prediction')\n",
    "#select only prediction and label columns\n",
    "preds_and_labels = preds_and_labels.select(['prediction','label'])\n",
    "metrics = MulticlassMetrics(preds_and_labels.rdd.map(tuple))\n",
    "print(metrics.confusionMatrix().toArray())"
   ]
  },
  {
   "cell_type": "code",
   "execution_count": 28,
   "id": "89e1e637",
   "metadata": {},
   "outputs": [
    {
     "name": "stdout",
     "output_type": "stream",
     "text": [
      "              precision    recall  f1-score   support\n",
      "\n",
      "         0.0       0.93      0.76      0.83      8312\n",
      "         1.0       0.47      0.67      0.55      1600\n",
      "         2.0       0.21      0.35      0.26      1216\n",
      "\n",
      "    accuracy                           0.70     11128\n",
      "   macro avg       0.54      0.59      0.55     11128\n",
      "weighted avg       0.78      0.70      0.73     11128\n",
      "\n"
     ]
    },
    {
     "data": {
      "text/plain": [
       "<sklearn.metrics._plot.confusion_matrix.ConfusionMatrixDisplay at 0x2a21fa0d0c0>"
      ]
     },
     "execution_count": 28,
     "metadata": {},
     "output_type": "execute_result"
    },
    {
     "data": {
      "image/png": "[encoded data removed]",
      "text/plain": [
       "<Figure size 640x480 with 2 Axes>"
      ]
     },
     "metadata": {},
     "output_type": "display_data"
    }
   ],
   "source": [
    "from sklearn.metrics import classification_report, ConfusionMatrixDisplay\n",
    "print(classification_report(preds_and_labels.toPandas()['label'], preds_and_labels.toPandas()['prediction']))\n",
    "ConfusionMatrixDisplay.from_predictions(preds_and_labels.toPandas()['label'], preds_and_labels.toPandas()['prediction'])"
   ]
  },
  {
   "cell_type": "code",
   "execution_count": 29,
   "id": "87143897",
   "metadata": {},
   "outputs": [
    {
     "name": "stdout",
     "output_type": "stream",
     "text": [
      "Accuracy of model: 0.7316300126661632\n"
     ]
    }
   ],
   "source": [
    "acc_eva_nb = MulticlassClassificationEvaluator()\n",
    "acc_nb = acc_eva_nb.evaluate(test_results)\n",
    "print('Accuracy of model: {}'.format(acc_nb))"
   ]
  },
  {
   "attachments": {},
   "cell_type": "markdown",
   "id": "73d2b16a",
   "metadata": {},
   "source": [
    "### Logistic Regression"
   ]
  },
  {
   "cell_type": "code",
   "execution_count": 30,
   "id": "7c030040",
   "metadata": {},
   "outputs": [
    {
     "name": "stdout",
     "output_type": "stream",
     "text": [
      "0:00:00\n",
      "+-----+----------+-----+\n",
      "|label|prediction|count|\n",
      "+-----+----------+-----+\n",
      "|  2.0|       0.0| 1074|\n",
      "|  1.0|       1.0|  451|\n",
      "|  0.0|       1.0|   57|\n",
      "|  1.0|       0.0| 1117|\n",
      "|  2.0|       2.0|   42|\n",
      "|  2.0|       1.0|  100|\n",
      "|  1.0|       2.0|   32|\n",
      "|  0.0|       0.0| 8224|\n",
      "|  0.0|       2.0|   31|\n",
      "+-----+----------+-----+\n",
      "\n"
     ]
    }
   ],
   "source": [
    "lg = LogisticRegression(maxIter=10, regParam=0.3)\n",
    "pre_lg = lg.fit(train)\n",
    "result_lg = pre_lg.transform(test)\n",
    "start_time = datetime.now()\n",
    "train_time = datetime.now() - start_time  \n",
    "print(train_time)\n",
    "result_lg.groupBy('label', 'prediction').count().show()"
   ]
  },
  {
   "attachments": {},
   "cell_type": "markdown",
   "id": "fde2535f",
   "metadata": {},
   "source": [
    "### Report"
   ]
  },
  {
   "cell_type": "code",
   "execution_count": 31,
   "id": "77832816",
   "metadata": {
    "scrolled": true
   },
   "outputs": [
    {
     "name": "stderr",
     "output_type": "stream",
     "text": [
      "c:\\ProgramData\\anaconda3\\lib\\site-packages\\pyspark\\sql\\context.py:157: FutureWarning: Deprecated in 3.0.0. Use SparkSession.builder.getOrCreate() instead.\n",
      "  warnings.warn(\n"
     ]
    },
    {
     "name": "stdout",
     "output_type": "stream",
     "text": [
      "[[8224.   57.   31.]\n",
      " [1117.  451.   32.]\n",
      " [1074.  100.   42.]]\n"
     ]
    }
   ],
   "source": [
    "#important: need to cast to float type, and order by prediction, else it won't work\n",
    "preds_and_labels_lg = result_lg.select(['prediction','label']).withColumn('label', F.col('label').cast(FloatType())).orderBy('prediction')\n",
    "#select only prediction and label columns\n",
    "preds_and_labels_lg = preds_and_labels_lg.select(['prediction','label'])\n",
    "metrics_lg = MulticlassMetrics(preds_and_labels_lg.rdd.map(tuple))\n",
    "print(metrics_lg.confusionMatrix().toArray())"
   ]
  },
  {
   "cell_type": "code",
   "execution_count": 32,
   "id": "f85e9fc1",
   "metadata": {},
   "outputs": [
    {
     "name": "stdout",
     "output_type": "stream",
     "text": [
      "              precision    recall  f1-score   support\n",
      "\n",
      "         0.0       0.79      0.99      0.88      8312\n",
      "         1.0       0.74      0.28      0.41      1600\n",
      "         2.0       0.40      0.03      0.06      1216\n",
      "\n",
      "    accuracy                           0.78     11128\n",
      "   macro avg       0.64      0.44      0.45     11128\n",
      "weighted avg       0.74      0.78      0.72     11128\n",
      "\n"
     ]
    },
    {
     "data": {
      "text/plain": [
       "<sklearn.metrics._plot.confusion_matrix.ConfusionMatrixDisplay at 0x2a21add7ee0>"
      ]
     },
     "execution_count": 32,
     "metadata": {},
     "output_type": "execute_result"
    },
    {
     "data": {
      "image/png": "[encoded data removed]",
      "text/plain": [
       "<Figure size 640x480 with 2 Axes>"
      ]
     },
     "metadata": {},
     "output_type": "display_data"
    }
   ],
   "source": [
    "from sklearn.metrics import classification_report, ConfusionMatrixDisplay\n",
    "print(classification_report(preds_and_labels_lg.toPandas()['label'], preds_and_labels_lg.toPandas()['prediction']))\n",
    "ConfusionMatrixDisplay.from_predictions(preds_and_labels_lg.toPandas()['label'], preds_and_labels_lg.toPandas()['prediction'])"
   ]
  },
  {
   "cell_type": "code",
   "execution_count": 33,
   "id": "7185057f",
   "metadata": {
    "scrolled": true
   },
   "outputs": [
    {
     "name": "stdout",
     "output_type": "stream",
     "text": [
      "Accuracy of model: 0.7217298451362179\n"
     ]
    }
   ],
   "source": [
    "acc_eva_lg = MulticlassClassificationEvaluator()\n",
    "acc_lg = acc_eva_lg.evaluate(result_lg)\n",
    "print('Accuracy of model: {}'.format(acc_lg))"
   ]
  },
  {
   "attachments": {},
   "cell_type": "markdown",
   "id": "be1230a2",
   "metadata": {},
   "source": [
    "#### Nhận xét:\n",
    "- đối với việc sử dụng Pyspark, thời gian xử lý nhanh hơn\n",
    "- Model Naive bayes cũng cho kết quả tốt hơn so với sử dụng ML thông thường cho bài toán."
   ]
  }
 ],
 "metadata": {
  "kernelspec": {
   "display_name": "Python 3 (ipykernel)",
   "language": "python",
   "name": "python3"
  },
  "language_info": {
   "codemirror_mode": {
    "name": "ipython",
    "version": 3
   },
   "file_extension": ".py",
   "mimetype": "text/x-python",
   "name": "python",
   "nbconvert_exporter": "python",
   "pygments_lexer": "ipython3",
   "version": "3.10.9"
  }
 },
 "nbformat": 4,
 "nbformat_minor": 5
}
