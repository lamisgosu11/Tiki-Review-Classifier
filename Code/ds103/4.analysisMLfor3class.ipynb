{
 "cells": [
  {
   "cell_type": "code",
   "execution_count": 91,
   "id": "ba489f55",
   "metadata": {},
   "outputs": [],
   "source": [
    "import pandas as pd\n",
    "import numpy as np\n",
    "from sklearn.feature_extraction.text import TfidfVectorizer\n",
    "from sklearn.decomposition import TruncatedSVD\n",
    "from sklearn.model_selection import train_test_split\n",
    "from sklearn.neighbors import KNeighborsClassifier\n",
    "from sklearn.linear_model import LogisticRegression\n",
    "from sklearn.ensemble import RandomForestClassifier\n",
    "from sklearn.naive_bayes import MultinomialNB\n",
    "from sklearn.svm import SVC\n",
    "from sklearn.metrics import confusion_matrix\n",
    "from datetime import datetime\n",
    "from datetime import timedelta\n",
    "import matplotlib.pyplot as plt\n",
    "import seaborn as sns\n",
    "from sklearn.model_selection import cross_val_score, GridSearchCV\n",
    "from sklearn.metrics import accuracy_score, classification_report, confusion_matrix, roc_auc_score, roc_curve\n",
    "import pickle\n",
    "from sklearn. metrics import classification_report, roc_auc_score, roc_curve"
   ]
  },
  {
   "cell_type": "code",
   "execution_count": 92,
   "id": "5b4006bd",
   "metadata": {},
   "outputs": [],
   "source": [
    "df = pd.read_csv(\"comments_final2.csv\", encoding=\"utf-8\", index_col=0)"
   ]
  },
  {
   "cell_type": "code",
   "execution_count": 93,
   "id": "ab5c2e30",
   "metadata": {},
   "outputs": [
    {
     "data": {
      "text/plain": [
       "(36932, 3)"
      ]
     },
     "execution_count": 93,
     "metadata": {},
     "output_type": "execute_result"
    }
   ],
   "source": [
    "df.shape"
   ]
  },
  {
   "cell_type": "code",
   "execution_count": 94,
   "id": "39ed96e8",
   "metadata": {
    "scrolled": true
   },
   "outputs": [
    {
     "data": {
      "text/html": [
       "<div>\n",
       "<style scoped>\n",
       "    .dataframe tbody tr th:only-of-type {\n",
       "        vertical-align: middle;\n",
       "    }\n",
       "\n",
       "    .dataframe tbody tr th {\n",
       "        vertical-align: top;\n",
       "    }\n",
       "\n",
       "    .dataframe thead th {\n",
       "        text-align: right;\n",
       "    }\n",
       "</style>\n",
       "<table border=\"1\" class=\"dataframe\">\n",
       "  <thead>\n",
       "    <tr style=\"text-align: right;\">\n",
       "      <th></th>\n",
       "      <th>processed_text</th>\n",
       "      <th>class</th>\n",
       "      <th>word_count</th>\n",
       "    </tr>\n",
       "    <tr>\n",
       "      <th>Column1</th>\n",
       "      <th></th>\n",
       "      <th></th>\n",
       "      <th></th>\n",
       "    </tr>\n",
       "  </thead>\n",
       "  <tbody>\n",
       "    <tr>\n",
       "      <th>601</th>\n",
       "      <td>sách không_đối thần</td>\n",
       "      <td>neutral</td>\n",
       "      <td>3</td>\n",
       "    </tr>\n",
       "    <tr>\n",
       "      <th>3070</th>\n",
       "      <td>tuyệt_đối lượm lỗi</td>\n",
       "      <td>negative</td>\n",
       "      <td>3</td>\n",
       "    </tr>\n",
       "    <tr>\n",
       "      <th>3370</th>\n",
       "      <td>chữ đọc dịch</td>\n",
       "      <td>negative</td>\n",
       "      <td>3</td>\n",
       "    </tr>\n",
       "    <tr>\n",
       "      <th>3784</th>\n",
       "      <td>quá_thất vọng hàng</td>\n",
       "      <td>negative</td>\n",
       "      <td>3</td>\n",
       "    </tr>\n",
       "    <tr>\n",
       "      <th>3881</th>\n",
       "      <td>bì bị_nhăn góc</td>\n",
       "      <td>neutral</td>\n",
       "      <td>3</td>\n",
       "    </tr>\n",
       "  </tbody>\n",
       "</table>\n",
       "</div>"
      ],
      "text/plain": [
       "              processed_text     class  word_count\n",
       "Column1                                           \n",
       "601      sách không_đối thần   neutral           3\n",
       "3070      tuyệt_đối lượm lỗi  negative           3\n",
       "3370            chữ đọc dịch  negative           3\n",
       "3784      quá_thất vọng hàng  negative           3\n",
       "3881          bì bị_nhăn góc   neutral           3"
      ]
     },
     "execution_count": 94,
     "metadata": {},
     "output_type": "execute_result"
    }
   ],
   "source": [
    "df.head()"
   ]
  },
  {
   "attachments": {},
   "cell_type": "markdown",
   "id": "0fe2147c",
   "metadata": {},
   "source": [
    "### Duplicate Data"
   ]
  },
  {
   "cell_type": "code",
   "execution_count": 95,
   "id": "03610a13",
   "metadata": {
    "scrolled": true
   },
   "outputs": [
    {
     "name": "stdout",
     "output_type": "stream",
     "text": [
      "Duplicate data: 1334\n"
     ]
    },
    {
     "data": {
      "text/html": [
       "<div>\n",
       "<style scoped>\n",
       "    .dataframe tbody tr th:only-of-type {\n",
       "        vertical-align: middle;\n",
       "    }\n",
       "\n",
       "    .dataframe tbody tr th {\n",
       "        vertical-align: top;\n",
       "    }\n",
       "\n",
       "    .dataframe thead th {\n",
       "        text-align: right;\n",
       "    }\n",
       "</style>\n",
       "<table border=\"1\" class=\"dataframe\">\n",
       "  <thead>\n",
       "    <tr style=\"text-align: right;\">\n",
       "      <th></th>\n",
       "      <th>processed_text</th>\n",
       "      <th>class</th>\n",
       "      <th>word_count</th>\n",
       "    </tr>\n",
       "    <tr>\n",
       "      <th>Column1</th>\n",
       "      <th></th>\n",
       "      <th></th>\n",
       "      <th></th>\n",
       "    </tr>\n",
       "  </thead>\n",
       "  <tbody>\n",
       "    <tr>\n",
       "      <th>17095</th>\n",
       "      <td>chờ tuần sách</td>\n",
       "      <td>negative</td>\n",
       "      <td>3</td>\n",
       "    </tr>\n",
       "    <tr>\n",
       "      <th>23289</th>\n",
       "      <td>sản_phẩm rất_tệ tưởng</td>\n",
       "      <td>negative</td>\n",
       "      <td>3</td>\n",
       "    </tr>\n",
       "    <tr>\n",
       "      <th>27948</th>\n",
       "      <td>bọc sách hỏng</td>\n",
       "      <td>negative</td>\n",
       "      <td>3</td>\n",
       "    </tr>\n",
       "    <tr>\n",
       "      <th>28462</th>\n",
       "      <td>truyện rách bìa</td>\n",
       "      <td>negative</td>\n",
       "      <td>3</td>\n",
       "    </tr>\n",
       "    <tr>\n",
       "      <th>33421</th>\n",
       "      <td>không_bookcare không_đóng gói</td>\n",
       "      <td>negative</td>\n",
       "      <td>3</td>\n",
       "    </tr>\n",
       "    <tr>\n",
       "      <th>...</th>\n",
       "      <td>...</td>\n",
       "      <td>...</td>\n",
       "      <td>...</td>\n",
       "    </tr>\n",
       "    <tr>\n",
       "      <th>20925</th>\n",
       "      <td>mặt đóng_gói hàng dịch chấp_nhận đóng_gói sơ_s...</td>\n",
       "      <td>positive</td>\n",
       "      <td>91</td>\n",
       "    </tr>\n",
       "    <tr>\n",
       "      <th>29701</th>\n",
       "      <td>mặt đóng_gói hàng dịch chấp_nhận đóng_gói sơ_s...</td>\n",
       "      <td>positive</td>\n",
       "      <td>91</td>\n",
       "    </tr>\n",
       "    <tr>\n",
       "      <th>51199</th>\n",
       "      <td>đóng gói hàng ẩu_tả sách bị_móp góc kiểm chất_...</td>\n",
       "      <td>negative</td>\n",
       "      <td>99</td>\n",
       "    </tr>\n",
       "    <tr>\n",
       "      <th>27427</th>\n",
       "      <td>đóng gói hàng ẩu_tả sách bị_móp góc kiểm chất_...</td>\n",
       "      <td>negative</td>\n",
       "      <td>100</td>\n",
       "    </tr>\n",
       "    <tr>\n",
       "      <th>31579</th>\n",
       "      <td>đóng gói hàng ẩu_tả sách bị_móp góc kiểm chất_...</td>\n",
       "      <td>negative</td>\n",
       "      <td>100</td>\n",
       "    </tr>\n",
       "  </tbody>\n",
       "</table>\n",
       "<p>1334 rows × 3 columns</p>\n",
       "</div>"
      ],
      "text/plain": [
       "                                            processed_text     class  \\\n",
       "Column1                                                                \n",
       "17095                                        chờ tuần sách  negative   \n",
       "23289                                sản_phẩm rất_tệ tưởng  negative   \n",
       "27948                                        bọc sách hỏng  negative   \n",
       "28462                                      truyện rách bìa  negative   \n",
       "33421                        không_bookcare không_đóng gói  negative   \n",
       "...                                                    ...       ...   \n",
       "20925    mặt đóng_gói hàng dịch chấp_nhận đóng_gói sơ_s...  positive   \n",
       "29701    mặt đóng_gói hàng dịch chấp_nhận đóng_gói sơ_s...  positive   \n",
       "51199    đóng gói hàng ẩu_tả sách bị_móp góc kiểm chất_...  negative   \n",
       "27427    đóng gói hàng ẩu_tả sách bị_móp góc kiểm chất_...  negative   \n",
       "31579    đóng gói hàng ẩu_tả sách bị_móp góc kiểm chất_...  negative   \n",
       "\n",
       "         word_count  \n",
       "Column1              \n",
       "17095             3  \n",
       "23289             3  \n",
       "27948             3  \n",
       "28462             3  \n",
       "33421             3  \n",
       "...             ...  \n",
       "20925            91  \n",
       "29701            91  \n",
       "51199            99  \n",
       "27427           100  \n",
       "31579           100  \n",
       "\n",
       "[1334 rows x 3 columns]"
      ]
     },
     "execution_count": 95,
     "metadata": {},
     "output_type": "execute_result"
    }
   ],
   "source": [
    "# Display duplicate rows\n",
    "print('Duplicate data:', df.duplicated().sum())\n",
    "df[df.duplicated()]"
   ]
  },
  {
   "cell_type": "code",
   "execution_count": 96,
   "id": "dd04d07b",
   "metadata": {
    "scrolled": true
   },
   "outputs": [
    {
     "name": "stdout",
     "output_type": "stream",
     "text": [
      "Duplicate data: 0\n",
      "(35598, 3)\n"
     ]
    }
   ],
   "source": [
    "# Drop all duplicate rows\n",
    "df.drop_duplicates(inplace=True)\n",
    "print('Duplicate data:', df.duplicated().sum())\n",
    "print(df.shape)\n",
    "# Reset index\n",
    "df.reset_index(drop=True, inplace=True)"
   ]
  },
  {
   "cell_type": "code",
   "execution_count": 97,
   "id": "0ea626ea",
   "metadata": {},
   "outputs": [
    {
     "data": {
      "text/plain": [
       "positive    26615\n",
       "negative     5058\n",
       "neutral      3925\n",
       "Name: class, dtype: int64"
      ]
     },
     "execution_count": 97,
     "metadata": {},
     "output_type": "execute_result"
    }
   ],
   "source": [
    "df['class'].value_counts()"
   ]
  },
  {
   "attachments": {},
   "cell_type": "markdown",
   "id": "d0fc9149",
   "metadata": {},
   "source": [
    "### TF-IDF Vectorizer"
   ]
  },
  {
   "cell_type": "code",
   "execution_count": 98,
   "id": "69b3918e",
   "metadata": {},
   "outputs": [],
   "source": [
    "# Create a TfidfVectorizer object\n",
    "tfidf_vectorizer = TfidfVectorizer(ngram_range=(1, 2), min_df=0.02)"
   ]
  },
  {
   "cell_type": "code",
   "execution_count": 99,
   "id": "12a74828",
   "metadata": {},
   "outputs": [],
   "source": [
    "# Fit the TfidfVectorizer object to the data\n",
    "x = tfidf_vectorizer.fit(df['processed_text'].values.astype('U'))"
   ]
  },
  {
   "cell_type": "code",
   "execution_count": 100,
   "id": "ab166647",
   "metadata": {},
   "outputs": [],
   "source": [
    "# Transform the data\n",
    "X = tfidf_vectorizer.transform(df['processed_text'].values.astype('U'))"
   ]
  },
  {
   "cell_type": "code",
   "execution_count": 101,
   "id": "30337165",
   "metadata": {},
   "outputs": [],
   "source": [
    "### BUG: \n",
    "# This is probably because you are using an older scikit-learn version than the one this code was written for.\n",
    "# get_feature_names_out is a method of the class sklearn.feature_extraction.text.TfidfVectorizer since scikit-learn 1.0. Previously, there was a similar method called get_feature_names.\n",
    "# So you should update your scikit-learn package, or use the old method (not recommended).\n",
    "# Create a new dataframe with the transformed data\n",
    "df_new = pd.DataFrame(X.toarray(), columns=tfidf_vectorizer.get_feature_names_out())"
   ]
  },
  {
   "cell_type": "code",
   "execution_count": 102,
   "id": "d7afec27",
   "metadata": {
    "scrolled": false
   },
   "outputs": [
    {
     "data": {
      "text/html": [
       "<div>\n",
       "<style scoped>\n",
       "    .dataframe tbody tr th:only-of-type {\n",
       "        vertical-align: middle;\n",
       "    }\n",
       "\n",
       "    .dataframe tbody tr th {\n",
       "        vertical-align: top;\n",
       "    }\n",
       "\n",
       "    .dataframe thead th {\n",
       "        text-align: right;\n",
       "    }\n",
       "</style>\n",
       "<table border=\"1\" class=\"dataframe\">\n",
       "  <thead>\n",
       "    <tr style=\"text-align: right;\">\n",
       "      <th></th>\n",
       "      <th>bàn</th>\n",
       "      <th>bé</th>\n",
       "      <th>bìa</th>\n",
       "      <th>bìa sách</th>\n",
       "      <th>bẩn</th>\n",
       "      <th>bọc</th>\n",
       "      <th>chất_lượng</th>\n",
       "      <th>chất_lượng sách</th>\n",
       "      <th>chống</th>\n",
       "      <th>chống sốc</th>\n",
       "      <th>...</th>\n",
       "      <th>đóng gói</th>\n",
       "      <th>đóng_gói</th>\n",
       "      <th>đóng_gói cẩn_thận</th>\n",
       "      <th>đơn</th>\n",
       "      <th>đầu</th>\n",
       "      <th>đẹp</th>\n",
       "      <th>đọc</th>\n",
       "      <th>đọc sách</th>\n",
       "      <th>đổi</th>\n",
       "      <th>ổn</th>\n",
       "    </tr>\n",
       "  </thead>\n",
       "  <tbody>\n",
       "    <tr>\n",
       "      <th>0</th>\n",
       "      <td>0.0</td>\n",
       "      <td>0.0</td>\n",
       "      <td>0.0</td>\n",
       "      <td>0.0</td>\n",
       "      <td>0.0</td>\n",
       "      <td>0.0</td>\n",
       "      <td>0.0</td>\n",
       "      <td>0.0</td>\n",
       "      <td>0.0</td>\n",
       "      <td>0.0</td>\n",
       "      <td>...</td>\n",
       "      <td>0.0</td>\n",
       "      <td>0.0</td>\n",
       "      <td>0.0</td>\n",
       "      <td>0.0</td>\n",
       "      <td>0.0</td>\n",
       "      <td>0.0</td>\n",
       "      <td>0.000000</td>\n",
       "      <td>0.0</td>\n",
       "      <td>0.0</td>\n",
       "      <td>0.0</td>\n",
       "    </tr>\n",
       "    <tr>\n",
       "      <th>1</th>\n",
       "      <td>0.0</td>\n",
       "      <td>0.0</td>\n",
       "      <td>0.0</td>\n",
       "      <td>0.0</td>\n",
       "      <td>0.0</td>\n",
       "      <td>0.0</td>\n",
       "      <td>0.0</td>\n",
       "      <td>0.0</td>\n",
       "      <td>0.0</td>\n",
       "      <td>0.0</td>\n",
       "      <td>...</td>\n",
       "      <td>0.0</td>\n",
       "      <td>0.0</td>\n",
       "      <td>0.0</td>\n",
       "      <td>0.0</td>\n",
       "      <td>0.0</td>\n",
       "      <td>0.0</td>\n",
       "      <td>0.000000</td>\n",
       "      <td>0.0</td>\n",
       "      <td>0.0</td>\n",
       "      <td>0.0</td>\n",
       "    </tr>\n",
       "    <tr>\n",
       "      <th>2</th>\n",
       "      <td>0.0</td>\n",
       "      <td>0.0</td>\n",
       "      <td>0.0</td>\n",
       "      <td>0.0</td>\n",
       "      <td>0.0</td>\n",
       "      <td>0.0</td>\n",
       "      <td>0.0</td>\n",
       "      <td>0.0</td>\n",
       "      <td>0.0</td>\n",
       "      <td>0.0</td>\n",
       "      <td>...</td>\n",
       "      <td>0.0</td>\n",
       "      <td>0.0</td>\n",
       "      <td>0.0</td>\n",
       "      <td>0.0</td>\n",
       "      <td>0.0</td>\n",
       "      <td>0.0</td>\n",
       "      <td>0.325422</td>\n",
       "      <td>0.0</td>\n",
       "      <td>0.0</td>\n",
       "      <td>0.0</td>\n",
       "    </tr>\n",
       "    <tr>\n",
       "      <th>3</th>\n",
       "      <td>0.0</td>\n",
       "      <td>0.0</td>\n",
       "      <td>0.0</td>\n",
       "      <td>0.0</td>\n",
       "      <td>0.0</td>\n",
       "      <td>0.0</td>\n",
       "      <td>0.0</td>\n",
       "      <td>0.0</td>\n",
       "      <td>0.0</td>\n",
       "      <td>0.0</td>\n",
       "      <td>...</td>\n",
       "      <td>0.0</td>\n",
       "      <td>0.0</td>\n",
       "      <td>0.0</td>\n",
       "      <td>0.0</td>\n",
       "      <td>0.0</td>\n",
       "      <td>0.0</td>\n",
       "      <td>0.000000</td>\n",
       "      <td>0.0</td>\n",
       "      <td>0.0</td>\n",
       "      <td>0.0</td>\n",
       "    </tr>\n",
       "    <tr>\n",
       "      <th>4</th>\n",
       "      <td>0.0</td>\n",
       "      <td>0.0</td>\n",
       "      <td>0.0</td>\n",
       "      <td>0.0</td>\n",
       "      <td>0.0</td>\n",
       "      <td>0.0</td>\n",
       "      <td>0.0</td>\n",
       "      <td>0.0</td>\n",
       "      <td>0.0</td>\n",
       "      <td>0.0</td>\n",
       "      <td>...</td>\n",
       "      <td>0.0</td>\n",
       "      <td>0.0</td>\n",
       "      <td>0.0</td>\n",
       "      <td>0.0</td>\n",
       "      <td>0.0</td>\n",
       "      <td>0.0</td>\n",
       "      <td>0.000000</td>\n",
       "      <td>0.0</td>\n",
       "      <td>0.0</td>\n",
       "      <td>0.0</td>\n",
       "    </tr>\n",
       "  </tbody>\n",
       "</table>\n",
       "<p>5 rows × 107 columns</p>\n",
       "</div>"
      ],
      "text/plain": [
       "   bàn   bé  bìa  bìa sách  bẩn  bọc  chất_lượng  chất_lượng sách  chống  \\\n",
       "0  0.0  0.0  0.0       0.0  0.0  0.0         0.0              0.0    0.0   \n",
       "1  0.0  0.0  0.0       0.0  0.0  0.0         0.0              0.0    0.0   \n",
       "2  0.0  0.0  0.0       0.0  0.0  0.0         0.0              0.0    0.0   \n",
       "3  0.0  0.0  0.0       0.0  0.0  0.0         0.0              0.0    0.0   \n",
       "4  0.0  0.0  0.0       0.0  0.0  0.0         0.0              0.0    0.0   \n",
       "\n",
       "   chống sốc  ...  đóng gói  đóng_gói  đóng_gói cẩn_thận  đơn  đầu  đẹp  \\\n",
       "0        0.0  ...       0.0       0.0                0.0  0.0  0.0  0.0   \n",
       "1        0.0  ...       0.0       0.0                0.0  0.0  0.0  0.0   \n",
       "2        0.0  ...       0.0       0.0                0.0  0.0  0.0  0.0   \n",
       "3        0.0  ...       0.0       0.0                0.0  0.0  0.0  0.0   \n",
       "4        0.0  ...       0.0       0.0                0.0  0.0  0.0  0.0   \n",
       "\n",
       "        đọc  đọc sách  đổi   ổn  \n",
       "0  0.000000       0.0  0.0  0.0  \n",
       "1  0.000000       0.0  0.0  0.0  \n",
       "2  0.325422       0.0  0.0  0.0  \n",
       "3  0.000000       0.0  0.0  0.0  \n",
       "4  0.000000       0.0  0.0  0.0  \n",
       "\n",
       "[5 rows x 107 columns]"
      ]
     },
     "execution_count": 102,
     "metadata": {},
     "output_type": "execute_result"
    }
   ],
   "source": [
    "df_new.head()"
   ]
  },
  {
   "cell_type": "code",
   "execution_count": 103,
   "id": "228ed179",
   "metadata": {},
   "outputs": [],
   "source": [
    "y = df['class']"
   ]
  },
  {
   "cell_type": "code",
   "execution_count": 104,
   "id": "f18bf41a",
   "metadata": {},
   "outputs": [
    {
     "name": "stdout",
     "output_type": "stream",
     "text": [
      "(35598, 107) (35598,)\n"
     ]
    }
   ],
   "source": [
    "print(X.shape, y.shape)"
   ]
  },
  {
   "attachments": {},
   "cell_type": "markdown",
   "id": "35d7854c",
   "metadata": {},
   "source": [
    "### Cross Validation"
   ]
  },
  {
   "cell_type": "code",
   "execution_count": 105,
   "id": "2b463a0d",
   "metadata": {
    "scrolled": true
   },
   "outputs": [
    {
     "name": "stdout",
     "output_type": "stream",
     "text": [
      "Test size:  0.3\n",
      "Run:  0\n",
      "Run:  1\n",
      "Run:  2\n",
      "Run:  3\n"
     ]
    },
    {
     "name": "stderr",
     "output_type": "stream",
     "text": [
      "c:\\ProgramData\\anaconda3\\lib\\site-packages\\sklearn\\linear_model\\_logistic.py:458: ConvergenceWarning: lbfgs failed to converge (status=1):\n",
      "STOP: TOTAL NO. of ITERATIONS REACHED LIMIT.\n",
      "\n",
      "Increase the number of iterations (max_iter) or scale the data as shown in:\n",
      "    https://scikit-learn.org/stable/modules/preprocessing.html\n",
      "Please also refer to the documentation for alternative solver options:\n",
      "    https://scikit-learn.org/stable/modules/linear_model.html#logistic-regression\n",
      "  n_iter_i = _check_optimize_result(\n"
     ]
    },
    {
     "name": "stdout",
     "output_type": "stream",
     "text": [
      "Run:  4\n",
      "Test size:  0.3  Train accuracy:  0.7764427321614897  Test accuracy:  0.7744756554307116\n",
      "--------------------------------------------------\n",
      "Test size:  0.2\n",
      "Run:  0\n",
      "Run:  1\n"
     ]
    },
    {
     "name": "stderr",
     "output_type": "stream",
     "text": [
      "c:\\ProgramData\\anaconda3\\lib\\site-packages\\sklearn\\linear_model\\_logistic.py:458: ConvergenceWarning: lbfgs failed to converge (status=1):\n",
      "STOP: TOTAL NO. of ITERATIONS REACHED LIMIT.\n",
      "\n",
      "Increase the number of iterations (max_iter) or scale the data as shown in:\n",
      "    https://scikit-learn.org/stable/modules/preprocessing.html\n",
      "Please also refer to the documentation for alternative solver options:\n",
      "    https://scikit-learn.org/stable/modules/linear_model.html#logistic-regression\n",
      "  n_iter_i = _check_optimize_result(\n"
     ]
    },
    {
     "name": "stdout",
     "output_type": "stream",
     "text": [
      "Run:  2\n",
      "Run:  3\n"
     ]
    },
    {
     "name": "stderr",
     "output_type": "stream",
     "text": [
      "c:\\ProgramData\\anaconda3\\lib\\site-packages\\sklearn\\linear_model\\_logistic.py:458: ConvergenceWarning: lbfgs failed to converge (status=1):\n",
      "STOP: TOTAL NO. of ITERATIONS REACHED LIMIT.\n",
      "\n",
      "Increase the number of iterations (max_iter) or scale the data as shown in:\n",
      "    https://scikit-learn.org/stable/modules/preprocessing.html\n",
      "Please also refer to the documentation for alternative solver options:\n",
      "    https://scikit-learn.org/stable/modules/linear_model.html#logistic-regression\n",
      "  n_iter_i = _check_optimize_result(\n"
     ]
    },
    {
     "name": "stdout",
     "output_type": "stream",
     "text": [
      "Run:  4\n",
      "Test size:  0.2  Train accuracy:  0.7756232881522579  Test accuracy:  0.7765730337078651\n",
      "--------------------------------------------------\n"
     ]
    },
    {
     "name": "stderr",
     "output_type": "stream",
     "text": [
      "c:\\ProgramData\\anaconda3\\lib\\site-packages\\sklearn\\linear_model\\_logistic.py:458: ConvergenceWarning: lbfgs failed to converge (status=1):\n",
      "STOP: TOTAL NO. of ITERATIONS REACHED LIMIT.\n",
      "\n",
      "Increase the number of iterations (max_iter) or scale the data as shown in:\n",
      "    https://scikit-learn.org/stable/modules/preprocessing.html\n",
      "Please also refer to the documentation for alternative solver options:\n",
      "    https://scikit-learn.org/stable/modules/linear_model.html#logistic-regression\n",
      "  n_iter_i = _check_optimize_result(\n"
     ]
    }
   ],
   "source": [
    "# Choose 0.3, 0.2 as the test size\n",
    "test_size_list = [.3, .2]\n",
    "# Run 5 times for each test_size\n",
    "for test_size in test_size_list:\n",
    "  print('Test size: ', test_size)\n",
    "  accuracy_train_list = []\n",
    "  accuracy_test_list = []\n",
    "  for i in range(5):\n",
    "    print('Run: ', i)\n",
    "    # Split the data into training and testing sets\n",
    "    X_train, X_test, y_train, y_test = train_test_split(X, y, test_size=test_size)\n",
    "    # Create a LogisticReg (for faster training)\n",
    "    clf = LogisticRegression()\n",
    "    # Train the classifier\n",
    "    clf.fit(X_train, y_train)\n",
    "    # Make predictions\n",
    "    y_pred = clf.predict(X_test)\n",
    "    # Calculate the accuracy\n",
    "    accuracy_train = accuracy_score(y_train, clf.predict(X_train))\n",
    "    accuracy_test = accuracy_score(y_test, y_pred)\n",
    "    accuracy_train_list.append(accuracy_train)\n",
    "    accuracy_test_list.append(accuracy_test)\n",
    "  print('Test size: ', test_size, ' Train accuracy: ', sum(accuracy_train_list) / len(accuracy_train_list), ' Test accuracy: ',\n",
    "      sum(accuracy_test_list) / len(accuracy_test_list))\n",
    "  print('--------------------------------------------------')"
   ]
  },
  {
   "cell_type": "code",
   "execution_count": 106,
   "id": "feeb1489",
   "metadata": {},
   "outputs": [],
   "source": [
    "# Split the data into training and testing sets\n",
    "X_train, X_test, y_train, y_test = train_test_split(X, y, test_size=0.3, random_state=42)"
   ]
  },
  {
   "attachments": {},
   "cell_type": "markdown",
   "id": "ca2d9a15",
   "metadata": {},
   "source": [
    "### Model Comparision"
   ]
  },
  {
   "cell_type": "code",
   "execution_count": 107,
   "id": "f0737fc6",
   "metadata": {},
   "outputs": [],
   "source": [
    "models = [\n",
    "    RandomForestClassifier(n_estimators=50),\n",
    "    RandomForestClassifier(n_estimators=100),\n",
    "    KNeighborsClassifier(n_neighbors=3),\n",
    "    KNeighborsClassifier(n_neighbors=5),\n",
    "    KNeighborsClassifier(n_neighbors=7),\n",
    "    LogisticRegression(multi_class='multinomial'),\n",
    "    SVC(kernel='sigmoid'),\n",
    "    MultinomialNB(),\n",
    "]"
   ]
  },
  {
   "cell_type": "code",
   "execution_count": 108,
   "id": "cbbc7a80",
   "metadata": {},
   "outputs": [],
   "source": [
    "def get_model_name(model):\n",
    "  model_name = model.__class__.__name__\n",
    "  if model_name == 'KNeighborsClassifier':\n",
    "    model_name = model_name + '_' + str(model.n_neighbors)\n",
    "  elif model_name == 'RandomForestClassifier':\n",
    "    model_name = model_name + '_' + str(model.n_estimators)\n",
    "    \n",
    "  return model_name"
   ]
  },
  {
   "cell_type": "code",
   "execution_count": 109,
   "id": "18f414e1",
   "metadata": {},
   "outputs": [
    {
     "name": "stdout",
     "output_type": "stream",
     "text": [
      "Model:  RandomForestClassifier_50 running...\n"
     ]
    },
    {
     "name": "stderr",
     "output_type": "stream",
     "text": [
      "C:\\Users\\tinhdaubuoi\\AppData\\Local\\Temp\\ipykernel_30652\\3118795572.py:20: FutureWarning: The frame.append method is deprecated and will be removed from pandas in a future version. Use pandas.concat instead.\n",
      "  results = results.append({'Model': model_name,\n"
     ]
    },
    {
     "name": "stdout",
     "output_type": "stream",
     "text": [
      "Model:  RandomForestClassifier_100 running...\n"
     ]
    },
    {
     "name": "stderr",
     "output_type": "stream",
     "text": [
      "C:\\Users\\tinhdaubuoi\\AppData\\Local\\Temp\\ipykernel_30652\\3118795572.py:20: FutureWarning: The frame.append method is deprecated and will be removed from pandas in a future version. Use pandas.concat instead.\n",
      "  results = results.append({'Model': model_name,\n"
     ]
    },
    {
     "name": "stdout",
     "output_type": "stream",
     "text": [
      "Model:  KNeighborsClassifier_3 running...\n"
     ]
    },
    {
     "name": "stderr",
     "output_type": "stream",
     "text": [
      "C:\\Users\\tinhdaubuoi\\AppData\\Local\\Temp\\ipykernel_30652\\3118795572.py:20: FutureWarning: The frame.append method is deprecated and will be removed from pandas in a future version. Use pandas.concat instead.\n",
      "  results = results.append({'Model': model_name,\n"
     ]
    },
    {
     "name": "stdout",
     "output_type": "stream",
     "text": [
      "Model:  KNeighborsClassifier_5 running...\n"
     ]
    },
    {
     "name": "stderr",
     "output_type": "stream",
     "text": [
      "C:\\Users\\tinhdaubuoi\\AppData\\Local\\Temp\\ipykernel_30652\\3118795572.py:20: FutureWarning: The frame.append method is deprecated and will be removed from pandas in a future version. Use pandas.concat instead.\n",
      "  results = results.append({'Model': model_name,\n"
     ]
    },
    {
     "name": "stdout",
     "output_type": "stream",
     "text": [
      "Model:  KNeighborsClassifier_7 running...\n"
     ]
    },
    {
     "name": "stderr",
     "output_type": "stream",
     "text": [
      "C:\\Users\\tinhdaubuoi\\AppData\\Local\\Temp\\ipykernel_30652\\3118795572.py:20: FutureWarning: The frame.append method is deprecated and will be removed from pandas in a future version. Use pandas.concat instead.\n",
      "  results = results.append({'Model': model_name,\n"
     ]
    },
    {
     "name": "stdout",
     "output_type": "stream",
     "text": [
      "Model:  LogisticRegression running...\n"
     ]
    },
    {
     "name": "stderr",
     "output_type": "stream",
     "text": [
      "C:\\Users\\tinhdaubuoi\\AppData\\Local\\Temp\\ipykernel_30652\\3118795572.py:20: FutureWarning: The frame.append method is deprecated and will be removed from pandas in a future version. Use pandas.concat instead.\n",
      "  results = results.append({'Model': model_name,\n"
     ]
    },
    {
     "name": "stdout",
     "output_type": "stream",
     "text": [
      "Model:  SVC running...\n"
     ]
    },
    {
     "name": "stderr",
     "output_type": "stream",
     "text": [
      "C:\\Users\\tinhdaubuoi\\AppData\\Local\\Temp\\ipykernel_30652\\3118795572.py:20: FutureWarning: The frame.append method is deprecated and will be removed from pandas in a future version. Use pandas.concat instead.\n",
      "  results = results.append({'Model': model_name,\n"
     ]
    },
    {
     "name": "stdout",
     "output_type": "stream",
     "text": [
      "Model:  MultinomialNB running...\n"
     ]
    },
    {
     "name": "stderr",
     "output_type": "stream",
     "text": [
      "C:\\Users\\tinhdaubuoi\\AppData\\Local\\Temp\\ipykernel_30652\\3118795572.py:20: FutureWarning: The frame.append method is deprecated and will be removed from pandas in a future version. Use pandas.concat instead.\n",
      "  results = results.append({'Model': model_name,\n"
     ]
    }
   ],
   "source": [
    "# Number of folds for cross validation\n",
    "num_folds = 5\n",
    "# A dataframe to store the results\n",
    "results = pd.DataFrame(columns=['Model', 'Accuracy Mean', 'Accuracy 3 * STD', 'Time'])\n",
    "# Integrate through models\n",
    "for model in models:\n",
    "  # Get model name\n",
    "  model_name = get_model_name(model)  \n",
    "  print('Model: ', model_name, 'running...')\n",
    "  # Get the current time\n",
    "  start_time = datetime.now()  \n",
    "  # Perform cross validation\n",
    "  cv_results = cross_val_score(model, X_train, y_train, cv=num_folds, scoring='accuracy', n_jobs=-1)  \n",
    "  # Get the training time\n",
    "  train_time = datetime.now() - start_time  \n",
    "  # Get the mean and std of the results\n",
    "  mean_cv_results = cv_results.mean()\n",
    "  std_cv_results = cv_results.std()  \n",
    "  # Store the results\n",
    "  results = results.append({'Model': model_name,\n",
    "                            'Accuracy Mean': mean_cv_results,\n",
    "                            'Accuracy 3 * STD': 3 * std_cv_results,\n",
    "                            'Time': train_time\n",
    "                            }, ignore_index=True)"
   ]
  },
  {
   "attachments": {},
   "cell_type": "markdown",
   "id": "d5721d2d",
   "metadata": {},
   "source": [
    "### Metric result"
   ]
  },
  {
   "cell_type": "code",
   "execution_count": 110,
   "id": "d51cf1b0",
   "metadata": {},
   "outputs": [
    {
     "data": {
      "text/html": [
       "<div>\n",
       "<style scoped>\n",
       "    .dataframe tbody tr th:only-of-type {\n",
       "        vertical-align: middle;\n",
       "    }\n",
       "\n",
       "    .dataframe tbody tr th {\n",
       "        vertical-align: top;\n",
       "    }\n",
       "\n",
       "    .dataframe thead th {\n",
       "        text-align: right;\n",
       "    }\n",
       "</style>\n",
       "<table border=\"1\" class=\"dataframe\">\n",
       "  <thead>\n",
       "    <tr style=\"text-align: right;\">\n",
       "      <th></th>\n",
       "      <th>Model</th>\n",
       "      <th>Accuracy Mean</th>\n",
       "      <th>Accuracy 3 * STD</th>\n",
       "      <th>Time</th>\n",
       "    </tr>\n",
       "  </thead>\n",
       "  <tbody>\n",
       "    <tr>\n",
       "      <th>0</th>\n",
       "      <td>LogisticRegression</td>\n",
       "      <td>0.772534</td>\n",
       "      <td>0.008332</td>\n",
       "      <td>0 days 00:00:00.701078</td>\n",
       "    </tr>\n",
       "    <tr>\n",
       "      <th>1</th>\n",
       "      <td>RandomForestClassifier_100</td>\n",
       "      <td>0.768561</td>\n",
       "      <td>0.007829</td>\n",
       "      <td>0 days 00:00:22.964205</td>\n",
       "    </tr>\n",
       "    <tr>\n",
       "      <th>2</th>\n",
       "      <td>RandomForestClassifier_50</td>\n",
       "      <td>0.767197</td>\n",
       "      <td>0.007273</td>\n",
       "      <td>0 days 00:00:16.666974</td>\n",
       "    </tr>\n",
       "    <tr>\n",
       "      <th>3</th>\n",
       "      <td>MultinomialNB</td>\n",
       "      <td>0.765350</td>\n",
       "      <td>0.002913</td>\n",
       "      <td>0 days 00:00:00.259208</td>\n",
       "    </tr>\n",
       "    <tr>\n",
       "      <th>4</th>\n",
       "      <td>KNeighborsClassifier_7</td>\n",
       "      <td>0.734570</td>\n",
       "      <td>0.013840</td>\n",
       "      <td>0 days 00:00:06.146669</td>\n",
       "    </tr>\n",
       "    <tr>\n",
       "      <th>5</th>\n",
       "      <td>SVC</td>\n",
       "      <td>0.726222</td>\n",
       "      <td>0.010050</td>\n",
       "      <td>0 days 00:00:34.016580</td>\n",
       "    </tr>\n",
       "    <tr>\n",
       "      <th>6</th>\n",
       "      <td>KNeighborsClassifier_5</td>\n",
       "      <td>0.721687</td>\n",
       "      <td>0.017547</td>\n",
       "      <td>0 days 00:00:06.918908</td>\n",
       "    </tr>\n",
       "    <tr>\n",
       "      <th>7</th>\n",
       "      <td>KNeighborsClassifier_3</td>\n",
       "      <td>0.706036</td>\n",
       "      <td>0.020010</td>\n",
       "      <td>0 days 00:00:07.733388</td>\n",
       "    </tr>\n",
       "  </tbody>\n",
       "</table>\n",
       "</div>"
      ],
      "text/plain": [
       "                        Model  Accuracy Mean  Accuracy 3 * STD  \\\n",
       "0          LogisticRegression       0.772534          0.008332   \n",
       "1  RandomForestClassifier_100       0.768561          0.007829   \n",
       "2   RandomForestClassifier_50       0.767197          0.007273   \n",
       "3               MultinomialNB       0.765350          0.002913   \n",
       "4      KNeighborsClassifier_7       0.734570          0.013840   \n",
       "5                         SVC       0.726222          0.010050   \n",
       "6      KNeighborsClassifier_5       0.721687          0.017547   \n",
       "7      KNeighborsClassifier_3       0.706036          0.020010   \n",
       "\n",
       "                    Time  \n",
       "0 0 days 00:00:00.701078  \n",
       "1 0 days 00:00:22.964205  \n",
       "2 0 days 00:00:16.666974  \n",
       "3 0 days 00:00:00.259208  \n",
       "4 0 days 00:00:06.146669  \n",
       "5 0 days 00:00:34.016580  \n",
       "6 0 days 00:00:06.918908  \n",
       "7 0 days 00:00:07.733388  "
      ]
     },
     "execution_count": 110,
     "metadata": {},
     "output_type": "execute_result"
    }
   ],
   "source": [
    "# Sort the dataframe by Accuracy Mean in descending order\n",
    "results = results.sort_values(by='Accuracy Mean', ascending=False).reset_index(drop=True)\n",
    "results"
   ]
  },
  {
   "cell_type": "code",
   "execution_count": 111,
   "id": "509ff8b0",
   "metadata": {},
   "outputs": [
    {
     "data": {
      "text/plain": [
       "Text(0.5, 1.0, 'Model Comparison')"
      ]
     },
     "execution_count": 111,
     "metadata": {},
     "output_type": "execute_result"
    },
    {
     "data": {
      "image/png": "[encoded data removed]",
      "text/plain": [
       "<Figure size 1000x800 with 1 Axes>"
      ]
     },
     "metadata": {},
     "output_type": "display_data"
    }
   ],
   "source": [
    "plt.figure(figsize=(10, 8))\n",
    "sns.barplot(x='Accuracy Mean', y='Model', data=results, palette='Set3')\n",
    "plt.title('Model Comparison')"
   ]
  },
  {
   "attachments": {},
   "cell_type": "markdown",
   "id": "b60a4906",
   "metadata": {},
   "source": [
    "###\n",
    "- Như vậy, ta có thể sơ bộ thấy mô hình logistic Reg cho kết quả tốt hơn các mô hình còn lại"
   ]
  },
  {
   "attachments": {},
   "cell_type": "markdown",
   "id": "fedbc574",
   "metadata": {},
   "source": [
    "### Classification Report"
   ]
  },
  {
   "attachments": {},
   "cell_type": "markdown",
   "id": "0c9c3fc1",
   "metadata": {},
   "source": [
    "### \n",
    "- Đối với bài toán phân loại này, chúng ta cần quan tâm tới high Recall rating not_like.\n",
    "- với high Recall cao, thì các True rating not-like phải cao, còn các False-not_like dự báo có thể cao hoặc thấp. "
   ]
  },
  {
   "attachments": {},
   "cell_type": "markdown",
   "id": "8bf1192f",
   "metadata": {},
   "source": [
    "### \n",
    "- Như vậy ta chon Logistic Regression cho việc tinh chỉnh mô hình tối ưu"
   ]
  },
  {
   "attachments": {},
   "cell_type": "markdown",
   "id": "7e3dd47c",
   "metadata": {},
   "source": [
    "### Logistic Regression"
   ]
  },
  {
   "attachments": {},
   "cell_type": "markdown",
   "id": "34aaf865",
   "metadata": {},
   "source": [
    "#### Hyperparameter tuning"
   ]
  },
  {
   "cell_type": "code",
   "execution_count": 112,
   "id": "3192ee08",
   "metadata": {},
   "outputs": [
    {
     "name": "stderr",
     "output_type": "stream",
     "text": [
      "c:\\ProgramData\\anaconda3\\lib\\site-packages\\sklearn\\linear_model\\_logistic.py:458: ConvergenceWarning: lbfgs failed to converge (status=1):\n",
      "STOP: TOTAL NO. of ITERATIONS REACHED LIMIT.\n",
      "\n",
      "Increase the number of iterations (max_iter) or scale the data as shown in:\n",
      "    https://scikit-learn.org/stable/modules/preprocessing.html\n",
      "Please also refer to the documentation for alternative solver options:\n",
      "    https://scikit-learn.org/stable/modules/linear_model.html#logistic-regression\n",
      "  n_iter_i = _check_optimize_result(\n"
     ]
    }
   ],
   "source": [
    "# Use GridSearchCV to find the best parameters for the models\n",
    "from sklearn.model_selection import GridSearchCV\n",
    "from sklearn.model_selection import RepeatedStratifiedKFold\n",
    "\n",
    "# Create a list of parameters of Logistic Regression for the GridSearchCV\n",
    "# define models and parameters\n",
    "model = LogisticRegression()\n",
    "solvers = ['newton-cg', 'lbfgs', 'liblinear']\n",
    "penalty = ['l2']\n",
    "c_values = [100, 10, 1.0, 0.1, 0.01]\n",
    "\n",
    "grid = dict(solver=solvers,penalty=penalty,C=c_values)\n",
    "#param_grid = {\n",
    "    #'n_estimators': [100,300, 500, 1000],\n",
    "    #'learning_rate':[0.001,0.01,0.1, 1]\n",
    "#}\n",
    "# Create a list of models to test\n",
    "clf_grid = GridSearchCV(estimator=model, param_grid=grid, n_jobs=-1,cv=5, scoring='accuracy', error_score=0)\n",
    "search_clf = clf_grid.fit(X_train, y_train)\n",
    "best_clf = search_clf.best_estimator_\n",
    "\n",
    "##Score\n",
    "#cross_clf = cross_val_score(best_clf, X_test, y_test, scoring='accuracy', cv=5, n_jobs=-1)"
   ]
  },
  {
   "cell_type": "code",
   "execution_count": 113,
   "id": "c5bd9b1d",
   "metadata": {},
   "outputs": [
    {
     "name": "stdout",
     "output_type": "stream",
     "text": [
      "Best params: {'C': 10, 'penalty': 'l2', 'solver': 'lbfgs'}\n"
     ]
    }
   ],
   "source": [
    "print('Best params:', search_clf.best_params_)"
   ]
  },
  {
   "attachments": {},
   "cell_type": "markdown",
   "id": "0e5e164c",
   "metadata": {},
   "source": [
    "### Best Params"
   ]
  },
  {
   "cell_type": "code",
   "execution_count": 114,
   "id": "ff3d0ca4",
   "metadata": {
    "scrolled": true
   },
   "outputs": [
    {
     "name": "stderr",
     "output_type": "stream",
     "text": [
      "c:\\ProgramData\\anaconda3\\lib\\site-packages\\sklearn\\linear_model\\_logistic.py:458: ConvergenceWarning: lbfgs failed to converge (status=1):\n",
      "STOP: TOTAL NO. of ITERATIONS REACHED LIMIT.\n",
      "\n",
      "Increase the number of iterations (max_iter) or scale the data as shown in:\n",
      "    https://scikit-learn.org/stable/modules/preprocessing.html\n",
      "Please also refer to the documentation for alternative solver options:\n",
      "    https://scikit-learn.org/stable/modules/linear_model.html#logistic-regression\n",
      "  n_iter_i = _check_optimize_result(\n"
     ]
    }
   ],
   "source": [
    "## Create the best model\n",
    "best_model = LogisticRegression(C= 10,penalty='l2',solver= 'lbfgs')\n",
    "# Fit the best model to the training data\n",
    "best_model.fit(X_train, y_train)\n",
    "y_pred = best_model.predict(X_test)"
   ]
  },
  {
   "attachments": {},
   "cell_type": "markdown",
   "id": "881887c8",
   "metadata": {},
   "source": [
    "### Metrics to Report"
   ]
  },
  {
   "cell_type": "code",
   "execution_count": 115,
   "id": "f9b70aba",
   "metadata": {
    "scrolled": true
   },
   "outputs": [
    {
     "name": "stdout",
     "output_type": "stream",
     "text": [
      "Accuracy score for the best model on the training data:  77.35\n",
      "Accuracy score for the best model on the test data:  77.893\n"
     ]
    }
   ],
   "source": [
    "# Get the accuracy score for the best model\n",
    "accuracy_train = round(best_model.score(X_train, y_train) * 100, 3)\n",
    "accuracy_test = round(best_model.score(X_test, y_test) * 100, 3)\n",
    "print('Accuracy score for the best model on the training data: ', accuracy_train)\n",
    "print('Accuracy score for the best model on the test data: ', accuracy_test)"
   ]
  },
  {
   "cell_type": "code",
   "execution_count": 116,
   "id": "77c03076",
   "metadata": {},
   "outputs": [
    {
     "name": "stdout",
     "output_type": "stream",
     "text": [
      "              precision    recall  f1-score   support\n",
      "\n",
      "    negative       0.55      0.35      0.43      1503\n",
      "     neutral       0.27      0.01      0.02      1157\n",
      "    positive       0.80      0.97      0.88      8020\n",
      "\n",
      "    accuracy                           0.78     10680\n",
      "   macro avg       0.54      0.44      0.44     10680\n",
      "weighted avg       0.71      0.78      0.72     10680\n",
      "\n"
     ]
    },
    {
     "data": {
      "text/plain": [
       "<sklearn.metrics._plot.confusion_matrix.ConfusionMatrixDisplay at 0x20568c33be0>"
      ]
     },
     "execution_count": 116,
     "metadata": {},
     "output_type": "execute_result"
    },
    {
     "data": {
      "image/png": "[encoded data removed]",
      "text/plain": [
       "<Figure size 800x550 with 2 Axes>"
      ]
     },
     "metadata": {},
     "output_type": "display_data"
    }
   ],
   "source": [
    "from sklearn.metrics import classification_report,ConfusionMatrixDisplay\n",
    "print(classification_report(y_test,y_pred))\n",
    "ConfusionMatrixDisplay.from_predictions(y_test,y_pred)"
   ]
  },
  {
   "cell_type": "code",
   "execution_count": 117,
   "id": "1f1e0b22",
   "metadata": {
    "scrolled": false
   },
   "outputs": [
    {
     "data": {
      "image/png": "[encoded data removed]",
      "text/plain": [
       "<Figure size 800x550 with 1 Axes>"
      ]
     },
     "metadata": {},
     "output_type": "display_data"
    },
    {
     "data": {
      "text/plain": [
       "<Axes: title={'center': 'ROC Curves for LogisticRegression'}, xlabel='False Positive Rate', ylabel='True Positive Rate'>"
      ]
     },
     "execution_count": 117,
     "metadata": {},
     "output_type": "execute_result"
    }
   ],
   "source": [
    "from yellowbrick.classifier import ConfusionMatrix, ClassificationReport, ROCAUC, roc_auc\n",
    "visualizer = ROCAUC(best_model, classes=y.unique())\n",
    "\n",
    "visualizer.fit(X_train, y_train)        # Fit the training data to the visualizer\n",
    "visualizer.score(X_test, y_test)        # Evaluate the model on the test data\n",
    "visualizer.show()"
   ]
  },
  {
   "attachments": {},
   "cell_type": "markdown",
   "id": "a1be6934",
   "metadata": {},
   "source": [
    "## Naive Bayes"
   ]
  },
  {
   "cell_type": "code",
   "execution_count": 120,
   "id": "2abf73da",
   "metadata": {},
   "outputs": [],
   "source": [
    "# Use GridSearchCV to find the best parameters for the models\n",
    "from sklearn.model_selection import GridSearchCV\n",
    "from sklearn.model_selection import RepeatedStratifiedKFold\n",
    "\n",
    "# Create a list of parameters of Naive Bayes for the GridSearchCV\n",
    "# define models and parameters\n",
    "model2 = MultinomialNB()\n",
    "alpha = [0.1, 0.5, 1.0, 10.0]\n",
    "fit_prior = [True, False]\n",
    "\n",
    "grid2 = dict(alpha=alpha, fit_prior=fit_prior)\n",
    "#param_grid = {\n",
    "    #'n_estimators': [100,300, 500, 1000],\n",
    "    #'learning_rate':[0.001,0.01,0.1, 1]\n",
    "#}\n",
    "# Create a list of models to test\n",
    "clf_grid2 = GridSearchCV(estimator=model2, param_grid=grid2, n_jobs=-1,cv=5, scoring='accuracy', error_score=0)\n",
    "search_clf2 = clf_grid2.fit(X_train, y_train)\n",
    "best_clf2 = search_clf2.best_estimator_  \n",
    "##Score\n",
    "#cross_clf = cross_val_score(best_clf, X_test, y_test, scoring='accuracy', cv=5, n_jobs=-1)"
   ]
  },
  {
   "cell_type": "code",
   "execution_count": 121,
   "id": "517cce9c",
   "metadata": {},
   "outputs": [
    {
     "name": "stdout",
     "output_type": "stream",
     "text": [
      "Best params: {'alpha': 0.1, 'fit_prior': True}\n"
     ]
    }
   ],
   "source": [
    "print('Best params:', search_clf2.best_params_)"
   ]
  },
  {
   "cell_type": "code",
   "execution_count": 122,
   "id": "2ae1db18",
   "metadata": {},
   "outputs": [],
   "source": [
    "#create best model\n",
    "best_model2 = MultinomialNB(alpha=0.1, fit_prior=True)\n",
    "# Fit the best model to the training data\n",
    "best_model2.fit(X_train, y_train)\n",
    "y_pred2 = best_model2.predict(X_test)"
   ]
  },
  {
   "cell_type": "code",
   "execution_count": 123,
   "id": "1d3142fa",
   "metadata": {},
   "outputs": [
    {
     "name": "stdout",
     "output_type": "stream",
     "text": [
      "Accuracy score for the best model on the training data:  76.647\n",
      "Accuracy score for the best model on the test data:  77.238\n"
     ]
    }
   ],
   "source": [
    "# Get the accuracy score for the best model\n",
    "accuracy_train2 = round(best_model2.score(X_train, y_train) * 100, 3)\n",
    "accuracy_test2 = round(best_model2.score(X_test, y_test) * 100, 3)\n",
    "print('Accuracy score for the best model on the training data: ', accuracy_train2)\n",
    "print('Accuracy score for the best model on the test data: ', accuracy_test2)"
   ]
  },
  {
   "cell_type": "code",
   "execution_count": 124,
   "id": "b01f54cc",
   "metadata": {},
   "outputs": [
    {
     "name": "stderr",
     "output_type": "stream",
     "text": [
      "c:\\ProgramData\\anaconda3\\lib\\site-packages\\sklearn\\metrics\\_classification.py:1344: UndefinedMetricWarning: Precision and F-score are ill-defined and being set to 0.0 in labels with no predicted samples. Use `zero_division` parameter to control this behavior.\n",
      "  _warn_prf(average, modifier, msg_start, len(result))\n",
      "c:\\ProgramData\\anaconda3\\lib\\site-packages\\sklearn\\metrics\\_classification.py:1344: UndefinedMetricWarning: Precision and F-score are ill-defined and being set to 0.0 in labels with no predicted samples. Use `zero_division` parameter to control this behavior.\n",
      "  _warn_prf(average, modifier, msg_start, len(result))\n",
      "c:\\ProgramData\\anaconda3\\lib\\site-packages\\sklearn\\metrics\\_classification.py:1344: UndefinedMetricWarning: Precision and F-score are ill-defined and being set to 0.0 in labels with no predicted samples. Use `zero_division` parameter to control this behavior.\n",
      "  _warn_prf(average, modifier, msg_start, len(result))\n"
     ]
    },
    {
     "name": "stdout",
     "output_type": "stream",
     "text": [
      "              precision    recall  f1-score   support\n",
      "\n",
      "    negative       0.66      0.20      0.30      1503\n",
      "     neutral       0.00      0.00      0.00      1157\n",
      "    positive       0.78      0.99      0.87      8020\n",
      "\n",
      "    accuracy                           0.77     10680\n",
      "   macro avg       0.48      0.40      0.39     10680\n",
      "weighted avg       0.68      0.77      0.70     10680\n",
      "\n"
     ]
    },
    {
     "data": {
      "text/plain": [
       "<sklearn.metrics._plot.confusion_matrix.ConfusionMatrixDisplay at 0x20575228ca0>"
      ]
     },
     "execution_count": 124,
     "metadata": {},
     "output_type": "execute_result"
    },
    {
     "data": {
      "image/png": "[encoded data removed]",
      "text/plain": [
       "<Figure size 800x550 with 2 Axes>"
      ]
     },
     "metadata": {},
     "output_type": "display_data"
    }
   ],
   "source": [
    "from sklearn.metrics import classification_report,ConfusionMatrixDisplay\n",
    "print(classification_report(y_test,y_pred2))\n",
    "ConfusionMatrixDisplay.from_predictions(y_test,y_pred2)"
   ]
  }
 ],
 "metadata": {
  "kernelspec": {
   "display_name": "Python 3 (ipykernel)",
   "language": "python",
   "name": "python3"
  },
  "language_info": {
   "codemirror_mode": {
    "name": "ipython",
    "version": 3
   },
   "file_extension": ".py",
   "mimetype": "text/x-python",
   "name": "python",
   "nbconvert_exporter": "python",
   "pygments_lexer": "ipython3",
   "version": "3.10.9"
  }
 },
 "nbformat": 4,
 "nbformat_minor": 5
}
