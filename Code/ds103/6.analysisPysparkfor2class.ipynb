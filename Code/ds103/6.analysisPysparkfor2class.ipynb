{
 "cells": [
  {
   "attachments": {},
   "cell_type": "markdown",
   "id": "44b0ce6f",
   "metadata": {},
   "source": [
    "## PREPARE"
   ]
  },
  {
   "attachments": {},
   "cell_type": "markdown",
   "id": "7d90c504",
   "metadata": {},
   "source": [
    "LIBRARIES"
   ]
  },
  {
   "cell_type": "code",
   "execution_count": 1,
   "id": "252a7838",
   "metadata": {},
   "outputs": [],
   "source": [
    "import findspark\n",
    "findspark.init()"
   ]
  },
  {
   "cell_type": "code",
   "execution_count": 2,
   "id": "7192e111",
   "metadata": {},
   "outputs": [],
   "source": [
    "from pyspark.sql import SparkSession\n",
    "from pyspark.sql.functions import length\n",
    "from pyspark.ml.feature import Tokenizer, StopWordsRemover\n",
    "from pyspark.ml.feature import CountVectorizer, IDF, StringIndexer\n",
    "from pyspark.ml.classification import NaiveBayes, RandomForestClassifier, LogisticRegression\n",
    "from pyspark.ml import Pipeline\n",
    "from pyspark.ml.evaluation import MulticlassClassificationEvaluator\n",
    "from pyspark.ml.feature import VectorAssembler\n",
    "from pyspark.ml.linalg import Vector\n",
    "from pyspark.ml import Pipeline\n",
    "from pyspark.sql.functions import lit\n",
    "from bs4 import BeautifulSoup\n",
    "from pyspark import keyword_only\n",
    "from pyspark.ml import Transformer\n",
    "from pyspark.sql.functions import when\n",
    "import pyspark.sql.functions as F\n",
    "from pyspark.mllib.evaluation import MulticlassMetrics, BinaryClassificationMetrics\n",
    "from datetime import datetime\n",
    "from pyspark.ml import Transformer\n",
    "from pyspark.sql.types import FloatType\n",
    "from pyspark.ml.param.shared import HasInputCol, HasOutputCol \n",
    "from pyspark.sql.functions import udf\n",
    "from pyspark.sql.types import StringType\n",
    "from pyspark.ml.evaluation import MulticlassClassificationEvaluator, BinaryClassificationEvaluator"
   ]
  },
  {
   "attachments": {},
   "cell_type": "markdown",
   "id": "70e9e74e",
   "metadata": {},
   "source": [
    "SPARK"
   ]
  },
  {
   "cell_type": "code",
   "execution_count": 3,
   "id": "e6235287",
   "metadata": {},
   "outputs": [],
   "source": [
    "spark = SparkSession.builder.appName('Rating').getOrCreate()"
   ]
  },
  {
   "attachments": {},
   "cell_type": "markdown",
   "id": "6fd5dde6",
   "metadata": {},
   "source": [
    "### LOAD AND SHOW INFORMATION ABOUT DATA"
   ]
  },
  {
   "cell_type": "code",
   "execution_count": 4,
   "id": "3ace938a",
   "metadata": {},
   "outputs": [],
   "source": [
    "df1 = spark.read.csv(\"comments_final2.csv\", header=True, inferSchema=True)"
   ]
  },
  {
   "cell_type": "code",
   "execution_count": 5,
   "id": "79fcaf03",
   "metadata": {
    "scrolled": true
   },
   "outputs": [
    {
     "name": "stdout",
     "output_type": "stream",
     "text": [
      "root\n",
      " |-- Column1: integer (nullable = true)\n",
      " |-- processed_text: string (nullable = true)\n",
      " |-- class: string (nullable = true)\n",
      " |-- word_count: integer (nullable = true)\n",
      "\n"
     ]
    }
   ],
   "source": [
    "df1.printSchema()"
   ]
  },
  {
   "cell_type": "code",
   "execution_count": 6,
   "id": "1d0956ee",
   "metadata": {
    "scrolled": false
   },
   "outputs": [
    {
     "name": "stdout",
     "output_type": "stream",
     "text": [
      "+-------+--------------------+--------+----------+\n",
      "|Column1|      processed_text|   class|word_count|\n",
      "+-------+--------------------+--------+----------+\n",
      "|    601| sách không_đối thần|negative|         3|\n",
      "|   3070|  tuyệt_đối lượm lỗi|negative|         3|\n",
      "|   3370|        chữ đọc dịch|negative|         3|\n",
      "|   3784|  quá_thất vọng hàng|negative|         3|\n",
      "|   3881|      bì bị_nhăn góc|negative|         3|\n",
      "|   4022|       đường ướt mưa|negative|         3|\n",
      "|   4393| bị_lặp cẩu_thả khâu|negative|         3|\n",
      "|   4755|    tâm chán quá_mặc|negative|         3|\n",
      "|   5030|    sách hơi_quăn ổn|negative|         3|\n",
      "|   5419|  sách lỗi không_đẹp|negative|         3|\n",
      "|   5425|      đọc bị_mấy vết|negative|         3|\n",
      "|   5966|       sách bọc lông|negative|         3|\n",
      "|   6100|không_hiểu bị_lỗi...|negative|         3|\n",
      "|   7297|   sách bị_dẹp bị_dơ|negative|         3|\n",
      "|   7427|      sách đọc trắng|negative|         3|\n",
      "|   7815|     gói hàng làm_ăn|negative|         3|\n",
      "|   8137|   hàng quá_buồn săn|negative|         3|\n",
      "|   8286|     bị_mốp bìa cười|negative|         3|\n",
      "|   8381|   căng rất_thư giãn|negative|         3|\n",
      "|   8648|sản_phẩm rất_tệ t...|negative|         3|\n",
      "+-------+--------------------+--------+----------+\n",
      "only showing top 20 rows\n",
      "\n"
     ]
    }
   ],
   "source": [
    "df2 = df1.withColumn(\"class\", when(df1['class'] == \"negative\",\"negative\") \\\n",
    "      .when(df1['class'] == \"neutral\",\"negative\") \\\n",
    "      .otherwise(df1['class']))\n",
    "df2.show()"
   ]
  },
  {
   "cell_type": "code",
   "execution_count": 7,
   "id": "75e2623f",
   "metadata": {},
   "outputs": [
    {
     "data": {
      "text/plain": [
       "36932"
      ]
     },
     "execution_count": 7,
     "metadata": {},
     "output_type": "execute_result"
    }
   ],
   "source": [
    "df2.count()"
   ]
  },
  {
   "cell_type": "code",
   "execution_count": 8,
   "id": "f17376be",
   "metadata": {
    "scrolled": true
   },
   "outputs": [
    {
     "name": "stdout",
     "output_type": "stream",
     "text": [
      "+--------+-----+\n",
      "|   class|count|\n",
      "+--------+-----+\n",
      "|positive|27643|\n",
      "|negative| 9289|\n",
      "+--------+-----+\n",
      "\n"
     ]
    }
   ],
   "source": [
    "df2.groupby('class').count().show()"
   ]
  },
  {
   "attachments": {},
   "cell_type": "markdown",
   "id": "587ebad0",
   "metadata": {},
   "source": [
    "### CHECK DATA"
   ]
  },
  {
   "cell_type": "code",
   "execution_count": 9,
   "id": "e53746f2",
   "metadata": {},
   "outputs": [],
   "source": [
    "df2 = df2.withColumn('length', length(df2['processed_text']))"
   ]
  },
  {
   "cell_type": "code",
   "execution_count": 10,
   "id": "6ab983c0",
   "metadata": {
    "scrolled": true
   },
   "outputs": [
    {
     "name": "stdout",
     "output_type": "stream",
     "text": [
      "+-------+-------------------+--------+----------+------+\n",
      "|Column1|     processed_text|   class|word_count|length|\n",
      "+-------+-------------------+--------+----------+------+\n",
      "|    601|sách không_đối thần|negative|         3|    19|\n",
      "|   3070| tuyệt_đối lượm lỗi|negative|         3|    18|\n",
      "|   3370|       chữ đọc dịch|negative|         3|    12|\n",
      "|   3784| quá_thất vọng hàng|negative|         3|    18|\n",
      "|   3881|     bì bị_nhăn góc|negative|         3|    14|\n",
      "+-------+-------------------+--------+----------+------+\n",
      "only showing top 5 rows\n",
      "\n"
     ]
    }
   ],
   "source": [
    "df2.show(5)"
   ]
  },
  {
   "cell_type": "code",
   "execution_count": 11,
   "id": "594b92e2",
   "metadata": {},
   "outputs": [
    {
     "name": "stdout",
     "output_type": "stream",
     "text": [
      "+--------+-----------------+------------------+------------------+\n",
      "|   class|     avg(Column1)|   avg(word_count)|       avg(length)|\n",
      "+--------+-----------------+------------------+------------------+\n",
      "|positive|39626.48019390081| 17.43736208081612|109.52154252432804|\n",
      "|negative|40433.18817956723|13.553450317579934| 82.41619119388524|\n",
      "+--------+-----------------+------------------+------------------+\n",
      "\n"
     ]
    }
   ],
   "source": [
    "df2.groupBy('class').mean().show()"
   ]
  },
  {
   "cell_type": "code",
   "execution_count": 12,
   "id": "68208f10",
   "metadata": {},
   "outputs": [],
   "source": [
    "data = df2.select('processed_text','class','length')"
   ]
  },
  {
   "cell_type": "code",
   "execution_count": 13,
   "id": "b7d0c9b7",
   "metadata": {
    "scrolled": true
   },
   "outputs": [
    {
     "name": "stdout",
     "output_type": "stream",
     "text": [
      "+--------------------+--------+------+\n",
      "|      processed_text|   class|length|\n",
      "+--------------------+--------+------+\n",
      "| sách không_đối thần|negative|    19|\n",
      "|  tuyệt_đối lượm lỗi|negative|    18|\n",
      "|        chữ đọc dịch|negative|    12|\n",
      "|  quá_thất vọng hàng|negative|    18|\n",
      "|      bì bị_nhăn góc|negative|    14|\n",
      "|       đường ướt mưa|negative|    13|\n",
      "| bị_lặp cẩu_thả khâu|negative|    19|\n",
      "|    tâm chán quá_mặc|negative|    16|\n",
      "|    sách hơi_quăn ổn|negative|    16|\n",
      "|  sách lỗi không_đẹp|negative|    18|\n",
      "|      đọc bị_mấy vết|negative|    14|\n",
      "|       sách bọc lông|negative|    13|\n",
      "|không_hiểu bị_lỗi...|negative|    22|\n",
      "|   sách bị_dẹp bị_dơ|negative|    17|\n",
      "|      sách đọc trắng|negative|    14|\n",
      "|     gói hàng làm_ăn|negative|    15|\n",
      "|   hàng quá_buồn săn|negative|    17|\n",
      "|     bị_mốp bìa cười|negative|    15|\n",
      "|   căng rất_thư giãn|negative|    17|\n",
      "|sản_phẩm rất_tệ t...|negative|    21|\n",
      "+--------------------+--------+------+\n",
      "only showing top 20 rows\n",
      "\n"
     ]
    }
   ],
   "source": [
    "data.show()"
   ]
  },
  {
   "attachments": {},
   "cell_type": "markdown",
   "id": "86c9051d",
   "metadata": {},
   "source": [
    "### RESAMPLING"
   ]
  },
  {
   "cell_type": "code",
   "execution_count": 14,
   "id": "a0b3c30f",
   "metadata": {},
   "outputs": [
    {
     "name": "stdout",
     "output_type": "stream",
     "text": [
      "ratio: 2\n"
     ]
    }
   ],
   "source": [
    "from pyspark.sql.functions import col, explode, array, lit\n",
    "major_df = data.filter(col(\"class\") == 'positive')\n",
    "minor_df = data.filter(col(\"class\") == 'negative')\n",
    "ratio = int(major_df.count()/minor_df.count())\n",
    "print(\"ratio: {}\".format(ratio))\n"
   ]
  },
  {
   "cell_type": "code",
   "execution_count": 15,
   "id": "0fd56152",
   "metadata": {
    "scrolled": true
   },
   "outputs": [
    {
     "name": "stdout",
     "output_type": "stream",
     "text": [
      "+--------------------+--------+------+\n",
      "|      processed_text|   class|length|\n",
      "+--------------------+--------+------+\n",
      "|cực_kì chất_lượng...|positive|    29|\n",
      "|sản_phẩm hàng hài...|positive|    29|\n",
      "| nhiên sách màng bọc|positive|    19|\n",
      "|nội hấp_dẫn dịch_...|positive|    24|\n",
      "| sách đẹp bọc rất_kĩ|positive|    19|\n",
      "|hàng chất_lượng s...|positive|    24|\n",
      "|sách học kỹ không_bị|positive|    20|\n",
      "|sách đóng gáy khô...|positive|    23|\n",
      "|hàng sách dễ_thươ...|positive|    23|\n",
      "|truyện hơi_ít bé ...|positive|    22|\n",
      "|   sách đẹp nội hàng|positive|    17|\n",
      "|sách truyện_ngắn ...|positive|    22|\n",
      "|hơi_chậm nêu hết_...|positive|    25|\n",
      "|hàng đóng_gói cẩn...|positive|    27|\n",
      "|đóng gói sản_phẩm...|positive|    22|\n",
      "|sản_phẩm cực_kỳ h...|positive|    26|\n",
      "|hàng bị_móp nhẹ sách|positive|    20|\n",
      "|hàng sách tổng_hợ...|positive|    28|\n",
      "|     gói nội chờ đọc|positive|    15|\n",
      "|rất_tuyệt vời hìn...|positive|    30|\n",
      "+--------------------+--------+------+\n",
      "only showing top 20 rows\n",
      "\n"
     ]
    }
   ],
   "source": [
    "sampled_majority_df = major_df.sample(False, 1/ratio)\n",
    "combined_df_2 = sampled_majority_df.unionAll(minor_df)\n",
    "combined_df_2.show()"
   ]
  },
  {
   "cell_type": "code",
   "execution_count": 16,
   "id": "16a4cb26",
   "metadata": {},
   "outputs": [
    {
     "name": "stdout",
     "output_type": "stream",
     "text": [
      "+--------+-----+\n",
      "|   class|count|\n",
      "+--------+-----+\n",
      "|positive|13665|\n",
      "|negative| 9289|\n",
      "+--------+-----+\n",
      "\n"
     ]
    }
   ],
   "source": [
    "combined_df_2.groupby('class').count().show()"
   ]
  },
  {
   "attachments": {},
   "cell_type": "markdown",
   "id": "85d85e9b",
   "metadata": {},
   "source": [
    "### FEATURES AND TRANSFORM"
   ]
  },
  {
   "cell_type": "code",
   "execution_count": 17,
   "id": "380fb963",
   "metadata": {},
   "outputs": [],
   "source": [
    "class BsTextExtractor(Transformer, HasInputCol, HasOutputCol):\n",
    "    \n",
    "    @keyword_only\n",
    "    def __init__(self, inputCol=None, outputCol=None):\n",
    "        super(BsTextExtractor, self).__init__() \n",
    "        kwargs = self._input_kwargs \n",
    "        self.setParams(**kwargs)\n",
    "        \n",
    "    @keyword_only\n",
    "    def setParams(self, inputCol=None, outputCol=None): \n",
    "        kwargs = self._input_kwargs\n",
    "        return self._set(**kwargs)\n",
    "    def _transform(self, dataset):\n",
    "        def f(s):\n",
    "            cleaned_text = BeautifulSoup(s).text \n",
    "            return cleaned_text\n",
    "        t = StringType()\n",
    "        out_col = self.getOutputCol()\n",
    "        in_col = dataset[self.getInputCol()]\n",
    "        return dataset.withColumn(out_col, udf(f, t)(in_col))"
   ]
  },
  {
   "cell_type": "code",
   "execution_count": 18,
   "id": "9c29777e",
   "metadata": {},
   "outputs": [],
   "source": [
    "text_extractor = BsTextExtractor(inputCol=\"processed_text\", outputCol=\"cleaned_text\")\n",
    "tokenizer = Tokenizer(inputCol='cleaned_text', outputCol='token_text')\n",
    "stopremove= StopWordsRemover(inputCol='token_text', outputCol='stop_tokens')\n",
    "count_vec = CountVectorizer(inputCol='stop_tokens', outputCol='c_vec')\n",
    "idf = IDF(inputCol='c_vec', outputCol='tf_idf')\n",
    "ham_spam_to_num = StringIndexer(inputCol='class',outputCol='label', handleInvalid='keep')"
   ]
  },
  {
   "cell_type": "code",
   "execution_count": 19,
   "id": "680a2bbe",
   "metadata": {},
   "outputs": [],
   "source": [
    "clean_up = VectorAssembler(inputCols =['tf_idf','length'],\n",
    "                           outputCol='features')"
   ]
  },
  {
   "cell_type": "code",
   "execution_count": 20,
   "id": "c521930c",
   "metadata": {},
   "outputs": [],
   "source": [
    "data_prep_pipe = Pipeline(stages=[ham_spam_to_num,\n",
    "                                  text_extractor,\n",
    "                                  tokenizer,\n",
    "                                  stopremove,\n",
    "                                  count_vec,\n",
    "                                  idf,\n",
    "                                  clean_up])"
   ]
  },
  {
   "cell_type": "code",
   "execution_count": 21,
   "id": "1793128a",
   "metadata": {
    "scrolled": true
   },
   "outputs": [],
   "source": [
    "cleaner = data_prep_pipe.fit(combined_df_2)"
   ]
  },
  {
   "cell_type": "code",
   "execution_count": 22,
   "id": "eac4664b",
   "metadata": {},
   "outputs": [],
   "source": [
    "clean_data = cleaner.transform(combined_df_2)"
   ]
  },
  {
   "cell_type": "code",
   "execution_count": 23,
   "id": "fd0c6089",
   "metadata": {},
   "outputs": [],
   "source": [
    "clean_data = clean_data.select('label','features')"
   ]
  },
  {
   "cell_type": "code",
   "execution_count": 24,
   "id": "f18affa4",
   "metadata": {},
   "outputs": [
    {
     "name": "stdout",
     "output_type": "stream",
     "text": [
      "+-----+--------------------+\n",
      "|label|            features|\n",
      "+-----+--------------------+\n",
      "|  0.0|(18198,[9,26,136,...|\n",
      "|  0.0|(18198,[2,23,81,1...|\n",
      "|  0.0|(18198,[0,6,29,21...|\n",
      "|  0.0|(18198,[2,3,86,14...|\n",
      "|  0.0|(18198,[0,4,6,746...|\n",
      "|  0.0|(18198,[0,2,9,11,...|\n",
      "|  0.0|(18198,[0,21,26,9...|\n",
      "|  0.0|(18198,[0,18,48,4...|\n",
      "|  0.0|(18198,[0,2,13,28...|\n",
      "|  0.0|(18198,[15,19,56,...|\n",
      "|  0.0|(18198,[0,2,3,4,1...|\n",
      "|  0.0|(18198,[0,56,1095...|\n",
      "|  0.0|(18198,[530,1302,...|\n",
      "|  0.0|(18198,[0,2,8,25,...|\n",
      "|  0.0|(18198,[12,18,23,...|\n",
      "|  0.0|(18198,[23,159,23...|\n",
      "|  0.0|(18198,[0,2,75,16...|\n",
      "|  0.0|(18198,[0,2,38,58...|\n",
      "|  0.0|(18198,[1,3,12,16...|\n",
      "|  0.0|(18198,[91,277,47...|\n",
      "+-----+--------------------+\n",
      "only showing top 20 rows\n",
      "\n"
     ]
    }
   ],
   "source": [
    "clean_data.show()"
   ]
  },
  {
   "cell_type": "code",
   "execution_count": 25,
   "id": "91be6233",
   "metadata": {
    "scrolled": true
   },
   "outputs": [
    {
     "name": "stdout",
     "output_type": "stream",
     "text": [
      "+-----+-----+\n",
      "|label|count|\n",
      "+-----+-----+\n",
      "|  0.0|13665|\n",
      "|  1.0| 9289|\n",
      "+-----+-----+\n",
      "\n"
     ]
    }
   ],
   "source": [
    "clean_data.groupBy('label').count().show()"
   ]
  },
  {
   "cell_type": "code",
   "execution_count": 26,
   "id": "232c8ab9",
   "metadata": {},
   "outputs": [],
   "source": [
    "(train, test) = clean_data.randomSplit([0.7,0.3])"
   ]
  },
  {
   "attachments": {},
   "cell_type": "markdown",
   "id": "16d6c877",
   "metadata": {},
   "source": [
    "## BUILD MODEL AND TEST"
   ]
  },
  {
   "attachments": {},
   "cell_type": "markdown",
   "id": "82661486",
   "metadata": {},
   "source": [
    "### Naive Bayes"
   ]
  },
  {
   "cell_type": "code",
   "execution_count": 27,
   "id": "6f256bf6",
   "metadata": {
    "scrolled": true
   },
   "outputs": [
    {
     "name": "stdout",
     "output_type": "stream",
     "text": [
      "+-----+--------------------+--------------------+--------------------+----------+\n",
      "|label|            features|       rawPrediction|         probability|prediction|\n",
      "+-----+--------------------+--------------------+--------------------+----------+\n",
      "|  0.0|(18198,[0,1,2,3,4...|[-533.95327155323...|[0.99963903593602...|       0.0|\n",
      "|  0.0|(18198,[0,1,2,3,4...|[-758.73930365562...|[1.55614872602248...|       1.0|\n",
      "|  0.0|(18198,[0,1,2,3,4...|[-412.22696694130...|[0.99999999999998...|       0.0|\n",
      "|  0.0|(18198,[0,1,2,3,4...|[-568.58879181513...|[0.99999090663776...|       0.0|\n",
      "|  0.0|(18198,[0,1,2,3,4...|[-936.41722198824...|[1.0,7.1291481945...|       0.0|\n",
      "|  0.0|(18198,[0,1,2,3,4...|[-834.01200304761...|[1.0,4.0787005624...|       0.0|\n",
      "|  0.0|(18198,[0,1,2,3,4...|[-1205.2793672983...|[0.99999999940415...|       0.0|\n",
      "|  0.0|(18198,[0,1,2,3,4...|[-367.75978648172...|[0.99999935943451...|       0.0|\n",
      "|  0.0|(18198,[0,1,2,3,4...|[-367.75978648172...|[0.99999935943451...|       0.0|\n",
      "|  0.0|(18198,[0,1,2,3,4...|[-620.52726802326...|[0.99999999999947...|       0.0|\n",
      "|  0.0|(18198,[0,1,2,3,4...|[-839.43121418755...|[1.0,1.3528005300...|       0.0|\n",
      "|  0.0|(18198,[0,1,2,3,4...|[-904.59921779575...|[1.0,3.2016948566...|       0.0|\n",
      "|  0.0|(18198,[0,1,2,3,4...|[-785.92533268724...|[1.0,3.2490470628...|       0.0|\n",
      "|  0.0|(18198,[0,1,2,3,4...|[-589.65431794808...|[1.0,4.9156390602...|       0.0|\n",
      "|  0.0|(18198,[0,1,2,3,4...|[-611.88294926987...|[4.69123124643993...|       1.0|\n",
      "|  0.0|(18198,[0,1,2,3,4...|[-849.00246070381...|[1.0,1.0466874882...|       0.0|\n",
      "|  0.0|(18198,[0,1,2,3,4...|[-1394.1812010492...|[8.61846332225449...|       1.0|\n",
      "|  0.0|(18198,[0,1,2,3,4...|[-570.64591719018...|[0.99999999999908...|       0.0|\n",
      "|  0.0|(18198,[0,1,2,3,4...|[-1019.1470061239...|[0.99999999842223...|       0.0|\n",
      "|  0.0|(18198,[0,1,2,3,4...|[-856.73017723257...|[0.99999999999999...|       0.0|\n",
      "+-----+--------------------+--------------------+--------------------+----------+\n",
      "only showing top 20 rows\n",
      "\n",
      "0:00:00\n"
     ]
    }
   ],
   "source": [
    "nb = NaiveBayes()\n",
    "prediction = nb.fit(train)\n",
    "test_results = prediction.transform(test)\n",
    "start_time = datetime.now()\n",
    "train_time = datetime.now() - start_time  \n",
    "test_results.show()\n",
    "print(train_time)"
   ]
  },
  {
   "cell_type": "code",
   "execution_count": 28,
   "id": "9dc9e443",
   "metadata": {
    "scrolled": true
   },
   "outputs": [
    {
     "name": "stdout",
     "output_type": "stream",
     "text": [
      "+-----+----------+-----+\n",
      "|label|prediction|count|\n",
      "+-----+----------+-----+\n",
      "|  0.0|       1.0|  977|\n",
      "|  0.0|       0.0| 3167|\n",
      "|  1.0|       1.0| 2292|\n",
      "|  1.0|       0.0|  482|\n",
      "+-----+----------+-----+\n",
      "\n"
     ]
    }
   ],
   "source": [
    "test_results.groupBy('label', 'prediction').count().show()"
   ]
  },
  {
   "attachments": {},
   "cell_type": "markdown",
   "id": "dc491516",
   "metadata": {},
   "source": [
    "### Report"
   ]
  },
  {
   "cell_type": "code",
   "execution_count": 29,
   "id": "0adb7738",
   "metadata": {},
   "outputs": [
    {
     "name": "stderr",
     "output_type": "stream",
     "text": [
      "c:\\ProgramData\\anaconda3\\lib\\site-packages\\pyspark\\sql\\context.py:157: FutureWarning: Deprecated in 3.0.0. Use SparkSession.builder.getOrCreate() instead.\n",
      "  warnings.warn(\n"
     ]
    },
    {
     "name": "stdout",
     "output_type": "stream",
     "text": [
      "[[3167.  977.]\n",
      " [ 482. 2292.]]\n"
     ]
    }
   ],
   "source": [
    "#important: need to cast to float type, and order by prediction, else it won't work\n",
    "preds_and_labels = test_results.select(['prediction','label']).withColumn('label', F.col('label').cast(FloatType())).orderBy('prediction')\n",
    "\n",
    "#select only prediction and label columns\n",
    "preds_and_labels = preds_and_labels.select(['prediction','label'])\n",
    "\n",
    "metrics = MulticlassMetrics(preds_and_labels.rdd.map(tuple))\n",
    "print(metrics.confusionMatrix().toArray())"
   ]
  },
  {
   "cell_type": "code",
   "execution_count": 35,
   "id": "bc744d20",
   "metadata": {},
   "outputs": [
    {
     "name": "stdout",
     "output_type": "stream",
     "text": [
      "              precision    recall  f1-score   support\n",
      "\n",
      "         0.0       0.87      0.76      0.81      4144\n",
      "         1.0       0.70      0.83      0.76      2774\n",
      "\n",
      "    accuracy                           0.79      6918\n",
      "   macro avg       0.78      0.80      0.79      6918\n",
      "weighted avg       0.80      0.79      0.79      6918\n",
      "\n"
     ]
    },
    {
     "data": {
      "text/plain": [
       "<sklearn.metrics._plot.confusion_matrix.ConfusionMatrixDisplay at 0x22bd45b12d0>"
      ]
     },
     "execution_count": 35,
     "metadata": {},
     "output_type": "execute_result"
    },
    {
     "data": {
      "image/png": "[encoded data removed]",
      "text/plain": [
       "<Figure size 640x480 with 2 Axes>"
      ]
     },
     "metadata": {},
     "output_type": "display_data"
    }
   ],
   "source": [
    "from sklearn.metrics import classification_report, ConfusionMatrixDisplay\n",
    "print(classification_report(preds_and_labels.toPandas()['label'], preds_and_labels.toPandas()['prediction']))\n",
    "ConfusionMatrixDisplay.from_predictions(preds_and_labels.toPandas()['label'], preds_and_labels.toPandas()['prediction'])"
   ]
  },
  {
   "cell_type": "code",
   "execution_count": 30,
   "id": "1625e028",
   "metadata": {
    "scrolled": true
   },
   "outputs": [
    {
     "name": "stdout",
     "output_type": "stream",
     "text": [
      "Accuracy of model: 0.7910405790170008\n"
     ]
    }
   ],
   "source": [
    "acc_eva = MulticlassClassificationEvaluator()\n",
    "acc = acc_eva.evaluate(test_results)\n",
    "print('Accuracy of model: {}'.format(acc))"
   ]
  },
  {
   "attachments": {},
   "cell_type": "markdown",
   "id": "73d2b16a",
   "metadata": {},
   "source": [
    "### Logistic Regression"
   ]
  },
  {
   "cell_type": "code",
   "execution_count": 31,
   "id": "7c030040",
   "metadata": {},
   "outputs": [
    {
     "name": "stdout",
     "output_type": "stream",
     "text": [
      "0:00:00\n"
     ]
    }
   ],
   "source": [
    "lg = LogisticRegression(maxIter=10, regParam=0.3)\n",
    "pre_lg = lg.fit(train)\n",
    "result_lg = pre_lg.transform(test)\n",
    "start_time = datetime.now()\n",
    "train_time = datetime.now() - start_time \n",
    "print(train_time)"
   ]
  },
  {
   "cell_type": "code",
   "execution_count": 32,
   "id": "886acbb9",
   "metadata": {},
   "outputs": [
    {
     "name": "stdout",
     "output_type": "stream",
     "text": [
      "+-----+----------+-----+\n",
      "|label|prediction|count|\n",
      "+-----+----------+-----+\n",
      "|  0.0|       1.0|  416|\n",
      "|  0.0|       0.0| 3728|\n",
      "|  1.0|       1.0| 1993|\n",
      "|  1.0|       0.0|  781|\n",
      "+-----+----------+-----+\n",
      "\n"
     ]
    }
   ],
   "source": [
    "result_lg.groupBy('label', 'prediction').count().show()"
   ]
  },
  {
   "attachments": {},
   "cell_type": "markdown",
   "id": "fde2535f",
   "metadata": {},
   "source": [
    "### Report"
   ]
  },
  {
   "cell_type": "code",
   "execution_count": 33,
   "id": "ce68042b",
   "metadata": {},
   "outputs": [
    {
     "name": "stderr",
     "output_type": "stream",
     "text": [
      "c:\\ProgramData\\anaconda3\\lib\\site-packages\\pyspark\\sql\\context.py:157: FutureWarning: Deprecated in 3.0.0. Use SparkSession.builder.getOrCreate() instead.\n",
      "  warnings.warn(\n"
     ]
    },
    {
     "name": "stdout",
     "output_type": "stream",
     "text": [
      "[[3728.  416.]\n",
      " [ 781. 1993.]]\n"
     ]
    }
   ],
   "source": [
    "#important: need to cast to float type, and order by prediction, else it won't work\n",
    "preds_and_labels_lg = result_lg.select(['prediction','label']).withColumn('label', F.col('label').cast(FloatType())).orderBy('prediction')\n",
    "\n",
    "#select only prediction and label columns\n",
    "preds_and_labels_lg = preds_and_labels_lg.select(['prediction','label'])\n",
    "\n",
    "metrics_lg = MulticlassMetrics(preds_and_labels_lg.rdd.map(tuple))\n",
    "print(metrics_lg.confusionMatrix().toArray())"
   ]
  },
  {
   "cell_type": "code",
   "execution_count": 36,
   "id": "1a7974a0",
   "metadata": {},
   "outputs": [
    {
     "name": "stdout",
     "output_type": "stream",
     "text": [
      "              precision    recall  f1-score   support\n",
      "\n",
      "         0.0       0.83      0.90      0.86      4144\n",
      "         1.0       0.83      0.72      0.77      2774\n",
      "\n",
      "    accuracy                           0.83      6918\n",
      "   macro avg       0.83      0.81      0.82      6918\n",
      "weighted avg       0.83      0.83      0.82      6918\n",
      "\n"
     ]
    },
    {
     "data": {
      "text/plain": [
       "<sklearn.metrics._plot.confusion_matrix.ConfusionMatrixDisplay at 0x22bd6a09e70>"
      ]
     },
     "execution_count": 36,
     "metadata": {},
     "output_type": "execute_result"
    },
    {
     "data": {
      "image/png": "[encoded data removed]",
      "text/plain": [
       "<Figure size 640x480 with 2 Axes>"
      ]
     },
     "metadata": {},
     "output_type": "display_data"
    }
   ],
   "source": [
    "from sklearn.metrics import classification_report, ConfusionMatrixDisplay\n",
    "print(classification_report(preds_and_labels_lg.toPandas()['label'], preds_and_labels_lg.toPandas()['prediction']))\n",
    "ConfusionMatrixDisplay.from_predictions(preds_and_labels_lg.toPandas()['label'], preds_and_labels_lg.toPandas()['prediction'])"
   ]
  },
  {
   "cell_type": "code",
   "execution_count": 34,
   "id": "7185057f",
   "metadata": {
    "scrolled": true
   },
   "outputs": [
    {
     "name": "stdout",
     "output_type": "stream",
     "text": [
      "Accuracy of model: 0.8245299192195686\n"
     ]
    }
   ],
   "source": [
    "acc_eva_lg = MulticlassClassificationEvaluator()\n",
    "acc_lg = acc_eva_lg.evaluate(result_lg)\n",
    "print('Accuracy of model: {}'.format(acc_lg))"
   ]
  }
 ],
 "metadata": {
  "kernelspec": {
   "display_name": "Python 3 (ipykernel)",
   "language": "python",
   "name": "python3"
  },
  "language_info": {
   "codemirror_mode": {
    "name": "ipython",
    "version": 3
   },
   "file_extension": ".py",
   "mimetype": "text/x-python",
   "name": "python",
   "nbconvert_exporter": "python",
   "pygments_lexer": "ipython3",
   "version": "3.10.9"
  }
 },
 "nbformat": 4,
 "nbformat_minor": 5
}
