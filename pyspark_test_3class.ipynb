{
  "cells": [
    {
      "cell_type": "code",
      "source": [
        "from google.colab import drive\n",
        "drive.mount('/content/drive')"
      ],
      "metadata": {
        "colab": {
          "base_uri": "https://localhost:8080/"
        },
        "id": "H0UFtTBAjvFq",
        "outputId": "f643ba5e-56d2-4b0e-ca16-2cdf4484b10c"
      },
      "id": "H0UFtTBAjvFq",
      "execution_count": null,
      "outputs": [
        {
          "output_type": "stream",
          "name": "stdout",
          "text": [
            "Mounted at /content/drive\n"
          ]
        }
      ]
    },
    {
      "cell_type": "code",
      "source": [
        "!pip install pyspark\n",
        "!pip install findspark"
      ],
      "metadata": {
        "colab": {
          "base_uri": "https://localhost:8080/"
        },
        "id": "P1Ztl053kU6p",
        "outputId": "29794684-5065-45b2-c5fa-0ab4fa8fb0cc"
      },
      "id": "P1Ztl053kU6p",
      "execution_count": null,
      "outputs": [
        {
          "output_type": "stream",
          "name": "stdout",
          "text": [
            "Looking in indexes: https://pypi.org/simple, https://us-python.pkg.dev/colab-wheels/public/simple/\n",
            "Collecting pyspark\n",
            "  Downloading pyspark-3.3.2.tar.gz (281.4 MB)\n",
            "\u001b[2K     \u001b[90m━━━━━━━━━━━━━━━━━━━━━━━━━━━━━━━━━━━━━━━\u001b[0m \u001b[32m281.4/281.4 MB\u001b[0m \u001b[31m5.2 MB/s\u001b[0m eta \u001b[36m0:00:00\u001b[0m\n",
            "\u001b[?25h  Preparing metadata (setup.py) ... \u001b[?25l\u001b[?25hdone\n",
            "Collecting py4j==0.10.9.5\n",
            "  Downloading py4j-0.10.9.5-py2.py3-none-any.whl (199 kB)\n",
            "\u001b[2K     \u001b[90m━━━━━━━━━━━━━━━━━━━━━━━━━━━━━━━━━━━━━━\u001b[0m \u001b[32m199.7/199.7 KB\u001b[0m \u001b[31m17.3 MB/s\u001b[0m eta \u001b[36m0:00:00\u001b[0m\n",
            "\u001b[?25hBuilding wheels for collected packages: pyspark\n",
            "  Building wheel for pyspark (setup.py) ... \u001b[?25l\u001b[?25hdone\n",
            "  Created wheel for pyspark: filename=pyspark-3.3.2-py2.py3-none-any.whl size=281824028 sha256=6dbba4512ddc70fd1204329f7f8b1fb7afed8b481c635e5dbc0d3e8900f1e40d\n",
            "  Stored in directory: /root/.cache/pip/wheels/6c/e3/9b/0525ce8a69478916513509d43693511463c6468db0de237c86\n",
            "Successfully built pyspark\n",
            "Installing collected packages: py4j, pyspark\n",
            "  Attempting uninstall: py4j\n",
            "    Found existing installation: py4j 0.10.9.7\n",
            "    Uninstalling py4j-0.10.9.7:\n",
            "      Successfully uninstalled py4j-0.10.9.7\n",
            "Successfully installed py4j-0.10.9.5 pyspark-3.3.2\n"
          ]
        }
      ]
    },
    {
      "cell_type": "code",
      "source": [
        "!pip install findspark"
      ],
      "metadata": {
        "colab": {
          "base_uri": "https://localhost:8080/"
        },
        "id": "D_hbWjECklwH",
        "outputId": "8e7f547e-20f6-4ace-b807-ca6550f7b18b"
      },
      "id": "D_hbWjECklwH",
      "execution_count": null,
      "outputs": [
        {
          "output_type": "stream",
          "name": "stdout",
          "text": [
            "Looking in indexes: https://pypi.org/simple, https://us-python.pkg.dev/colab-wheels/public/simple/\n",
            "Collecting findspark\n",
            "  Downloading findspark-2.0.1-py2.py3-none-any.whl (4.4 kB)\n",
            "Installing collected packages: findspark\n",
            "Successfully installed findspark-2.0.1\n"
          ]
        }
      ]
    },
    {
      "cell_type": "code",
      "execution_count": null,
      "id": "252a7838",
      "metadata": {
        "id": "252a7838"
      },
      "outputs": [],
      "source": [
        "import findspark\n",
        "findspark.init()"
      ]
    },
    {
      "cell_type": "code",
      "execution_count": null,
      "id": "7192e111",
      "metadata": {
        "id": "7192e111"
      },
      "outputs": [],
      "source": [
        "from pyspark.sql import SparkSession\n",
        "from pyspark.sql.functions import length\n",
        "from pyspark.ml.feature import Tokenizer, StopWordsRemover\n",
        "from pyspark.ml.feature import CountVectorizer, IDF, StringIndexer\n",
        "from pyspark.ml.classification import NaiveBayes, RandomForestClassifier, LogisticRegression\n",
        "from pyspark.ml import Pipeline\n",
        "from pyspark.ml.evaluation import MulticlassClassificationEvaluator\n",
        "from pyspark.ml.feature import VectorAssembler\n",
        "from pyspark.ml.linalg import Vector\n",
        "from pyspark.ml import Pipeline\n",
        "from pyspark.sql.functions import lit\n",
        "from bs4 import BeautifulSoup\n",
        "from pyspark import keyword_only\n",
        "import pyspark.sql.functions as F\n",
        "from pyspark.mllib.evaluation import MulticlassMetrics\n",
        "from datetime import datetime\n",
        "from pyspark.ml import Transformer\n",
        "from pyspark.sql.types import FloatType\n",
        "from pyspark.ml.param.shared import HasInputCol, HasOutputCol \n",
        "from pyspark.sql.functions import udf\n",
        "from pyspark.sql.types import StringType \n",
        "from pyspark.ml.evaluation import MulticlassClassificationEvaluator, BinaryClassificationEvaluator"
      ]
    },
    {
      "cell_type": "code",
      "execution_count": null,
      "id": "e6235287",
      "metadata": {
        "id": "e6235287"
      },
      "outputs": [],
      "source": [
        "spark = SparkSession.builder.appName('Rating').getOrCreate()"
      ]
    },
    {
      "cell_type": "markdown",
      "id": "6fd5dde6",
      "metadata": {
        "id": "6fd5dde6"
      },
      "source": [
        "### Load Data"
      ]
    },
    {
      "cell_type": "code",
      "execution_count": null,
      "id": "3ace938a",
      "metadata": {
        "id": "3ace938a"
      },
      "outputs": [],
      "source": [
        "df1 = spark.read.csv(\"/content/drive/MyDrive/comments_final.csv\",header=True\n",
        "                      ,inferSchema=True)"
      ]
    },
    {
      "cell_type": "code",
      "execution_count": null,
      "id": "a712bfab",
      "metadata": {
        "id": "a712bfab"
      },
      "outputs": [],
      "source": [
        "#df1 = df1.withColumn('class',lit('fake'))"
      ]
    },
    {
      "cell_type": "code",
      "execution_count": null,
      "id": "1d0956ee",
      "metadata": {
        "scrolled": false,
        "colab": {
          "base_uri": "https://localhost:8080/"
        },
        "id": "1d0956ee",
        "outputId": "bd05ccae-17e5-4244-9caa-3f14e7ddb9ee"
      },
      "outputs": [
        {
          "output_type": "stream",
          "name": "stdout",
          "text": [
            "+---+--------------------+--------+\n",
            "|_c0|      processed_text|   class|\n",
            "+---+--------------------+--------+\n",
            "|  0|    rất_hài sản_phẩm|positive|\n",
            "|  1|sản_phẩm chất_lượ...|positive|\n",
            "+---+--------------------+--------+\n",
            "only showing top 2 rows\n",
            "\n"
          ]
        }
      ],
      "source": [
        "df1.show(2)"
      ]
    },
    {
      "cell_type": "code",
      "execution_count": null,
      "id": "75e2623f",
      "metadata": {
        "colab": {
          "base_uri": "https://localhost:8080/"
        },
        "id": "75e2623f",
        "outputId": "17641f7f-2312-4684-dc4c-dac3dcb186ee"
      },
      "outputs": [
        {
          "output_type": "execute_result",
          "data": {
            "text/plain": [
              "134231"
            ]
          },
          "metadata": {},
          "execution_count": 9
        }
      ],
      "source": [
        "df1.count()"
      ]
    },
    {
      "cell_type": "code",
      "execution_count": null,
      "id": "79fcaf03",
      "metadata": {
        "scrolled": true,
        "colab": {
          "base_uri": "https://localhost:8080/"
        },
        "id": "79fcaf03",
        "outputId": "2105863c-e111-4ccd-b8fd-e3d628fd3c22"
      },
      "outputs": [
        {
          "output_type": "stream",
          "name": "stdout",
          "text": [
            "root\n",
            " |-- _c0: integer (nullable = true)\n",
            " |-- processed_text: string (nullable = true)\n",
            " |-- class: string (nullable = true)\n",
            "\n"
          ]
        }
      ],
      "source": [
        "df1.printSchema()"
      ]
    },
    {
      "cell_type": "code",
      "execution_count": null,
      "id": "f17376be",
      "metadata": {
        "scrolled": true,
        "colab": {
          "base_uri": "https://localhost:8080/"
        },
        "id": "f17376be",
        "outputId": "9a7b50fc-87fa-4ab5-88da-10b7c39249bb"
      },
      "outputs": [
        {
          "output_type": "stream",
          "name": "stdout",
          "text": [
            "+--------+------+\n",
            "|   class| count|\n",
            "+--------+------+\n",
            "|positive|103594|\n",
            "| neutral|  9842|\n",
            "|negative| 20795|\n",
            "+--------+------+\n",
            "\n"
          ]
        }
      ],
      "source": [
        "df1.groupby('class').count().show()"
      ]
    },
    {
      "cell_type": "markdown",
      "id": "587ebad0",
      "metadata": {
        "id": "587ebad0"
      },
      "source": [
        "### Precprocess"
      ]
    },
    {
      "cell_type": "code",
      "execution_count": null,
      "id": "e53746f2",
      "metadata": {
        "id": "e53746f2"
      },
      "outputs": [],
      "source": [
        "df1 = df1.withColumn('length', length(df1['processed_text']))"
      ]
    },
    {
      "cell_type": "code",
      "execution_count": null,
      "id": "6ab983c0",
      "metadata": {
        "scrolled": true,
        "colab": {
          "base_uri": "https://localhost:8080/"
        },
        "id": "6ab983c0",
        "outputId": "aa8dbfdd-7c00-43d8-e42d-dc138d983577"
      },
      "outputs": [
        {
          "output_type": "stream",
          "name": "stdout",
          "text": [
            "+---+--------------------+--------+------+\n",
            "|_c0|      processed_text|   class|length|\n",
            "+---+--------------------+--------+------+\n",
            "|  0|    rất_hài sản_phẩm|positive|    16|\n",
            "|  1|sản_phẩm chất_lượ...|positive|    85|\n",
            "|  2|sản_phẩm chất_lượ...|positive|    85|\n",
            "|  3|cuộc_sống không_g...|positive|    70|\n",
            "|  4|viết nhận_xét quá...|negative|   543|\n",
            "+---+--------------------+--------+------+\n",
            "only showing top 5 rows\n",
            "\n"
          ]
        }
      ],
      "source": [
        "df1.show(5)"
      ]
    },
    {
      "cell_type": "code",
      "execution_count": null,
      "id": "594b92e2",
      "metadata": {
        "colab": {
          "base_uri": "https://localhost:8080/"
        },
        "id": "594b92e2",
        "outputId": "31c8b24b-2889-40c8-e1c5-254c7935c8c2"
      },
      "outputs": [
        {
          "output_type": "stream",
          "name": "stdout",
          "text": [
            "+--------+-----------------+------------------+\n",
            "|   class|         avg(_c0)|       avg(length)|\n",
            "+--------+-----------------+------------------+\n",
            "|positive| 65855.4977797942| 46.68221132498021|\n",
            "| neutral|68782.34423897581|46.808169071326965|\n",
            "|negative|72600.30276508776|51.288627073815825|\n",
            "+--------+-----------------+------------------+\n",
            "\n"
          ]
        }
      ],
      "source": [
        "df1.groupBy('class').mean().show()"
      ]
    },
    {
      "cell_type": "code",
      "execution_count": null,
      "id": "68208f10",
      "metadata": {
        "id": "68208f10"
      },
      "outputs": [],
      "source": [
        "data = df1.select('processed_text','class','length')"
      ]
    },
    {
      "cell_type": "code",
      "execution_count": null,
      "id": "b7d0c9b7",
      "metadata": {
        "scrolled": true,
        "colab": {
          "base_uri": "https://localhost:8080/"
        },
        "id": "b7d0c9b7",
        "outputId": "34751a06-aa5a-4eac-e43e-ea162241ef39"
      },
      "outputs": [
        {
          "output_type": "stream",
          "name": "stdout",
          "text": [
            "+--------------------+--------+------+\n",
            "|      processed_text|   class|length|\n",
            "+--------------------+--------+------+\n",
            "|    rất_hài sản_phẩm|positive|    16|\n",
            "|sản_phẩm chất_lượ...|positive|    85|\n",
            "|sản_phẩm chất_lượ...|positive|    85|\n",
            "|cuộc_sống không_g...|positive|    70|\n",
            "|viết nhận_xét quá...|negative|   543|\n",
            "|hàng bị_lỗi màng ...|negative|    69|\n",
            "|sản_phẩm rất_tốt ...|positive|    57|\n",
            "|rất_hài sản_phẩm ...|positive|    23|\n",
            "|băng xài ổn lực c...|positive|    32|\n",
            "|sản_phẩm sản_phẩm...| neutral|    90|\n",
            "|hàng băng bị_cắt sài|negative|    20|\n",
            "|mẫu_mã đẹp chất_l...|positive|    21|\n",
            "|sản_phẩm không_đú...|negative|    30|\n",
            "|hàng số_lượng đơn...|negative|    47|\n",
            "|không_nói đừng sả...|negative|    23|\n",
            "|dán vô rớt hoài v...|negative|    32|\n",
            "|                băng|positive|     4|\n",
            "|hàng đúng_hạn đón...|positive|    35|\n",
            "|gọn bỏ_túi quảng_...|positive|    71|\n",
            "|như_hình dùm chất...|positive|    26|\n",
            "+--------------------+--------+------+\n",
            "only showing top 20 rows\n",
            "\n"
          ]
        }
      ],
      "source": [
        "data.show()"
      ]
    },
    {
      "cell_type": "code",
      "execution_count": null,
      "id": "b6eefe98",
      "metadata": {
        "id": "b6eefe98"
      },
      "outputs": [],
      "source": [
        "null_data = data.filter(data['processed_text'].isNull())"
      ]
    },
    {
      "cell_type": "code",
      "execution_count": null,
      "id": "61c2e25f",
      "metadata": {
        "colab": {
          "base_uri": "https://localhost:8080/"
        },
        "id": "61c2e25f",
        "outputId": "35642e60-c1c5-41d5-e304-584899ead5cc"
      },
      "outputs": [
        {
          "output_type": "execute_result",
          "data": {
            "text/plain": [
              "0"
            ]
          },
          "metadata": {},
          "execution_count": 18
        }
      ],
      "source": [
        "null_data.count()"
      ]
    },
    {
      "cell_type": "code",
      "execution_count": null,
      "id": "9121783d",
      "metadata": {
        "id": "9121783d"
      },
      "outputs": [],
      "source": [
        "data = data.filter(data['processed_text'].isNotNull())"
      ]
    },
    {
      "cell_type": "markdown",
      "id": "85d85e9b",
      "metadata": {
        "id": "85d85e9b"
      },
      "source": [
        "### Feature & Transform"
      ]
    },
    {
      "cell_type": "code",
      "execution_count": null,
      "id": "380fb963",
      "metadata": {
        "id": "380fb963"
      },
      "outputs": [],
      "source": [
        "class BsTextExtractor(Transformer, HasInputCol, HasOutputCol):\n",
        "    \n",
        "    @keyword_only\n",
        "    def __init__(self, inputCol=None, outputCol=None):\n",
        "        super(BsTextExtractor, self).__init__() \n",
        "        kwargs = self._input_kwargs \n",
        "        self.setParams(**kwargs)\n",
        "        \n",
        "    @keyword_only\n",
        "    def setParams(self, inputCol=None, outputCol=None): \n",
        "        kwargs = self._input_kwargs\n",
        "        return self._set(**kwargs)\n",
        "    def _transform(self, dataset):\n",
        "        def f(s):\n",
        "            cleaned_text = BeautifulSoup(s).text \n",
        "            return cleaned_text\n",
        "        t = StringType()\n",
        "        out_col = self.getOutputCol()\n",
        "        in_col = dataset[self.getInputCol()]\n",
        "        return dataset.withColumn(out_col, udf(f, t)(in_col))"
      ]
    },
    {
      "cell_type": "code",
      "execution_count": null,
      "id": "9c29777e",
      "metadata": {
        "id": "9c29777e"
      },
      "outputs": [],
      "source": [
        "text_extractor = BsTextExtractor(inputCol=\"processed_text\", outputCol=\"cleaned_text\")\n",
        "tokenizer = Tokenizer(inputCol='cleaned_text', outputCol='token_text')\n",
        "stopremove= StopWordsRemover(inputCol='token_text', outputCol='stop_tokens')\n",
        "count_vec = CountVectorizer(inputCol='stop_tokens', outputCol='c_vec')\n",
        "idf = IDF(inputCol='c_vec', outputCol='tf_idf')\n",
        "ham_spam_to_num = StringIndexer(inputCol='class',outputCol='label', handleInvalid='keep')"
      ]
    },
    {
      "cell_type": "code",
      "execution_count": null,
      "id": "680a2bbe",
      "metadata": {
        "id": "680a2bbe"
      },
      "outputs": [],
      "source": [
        "clean_up = VectorAssembler(inputCols =['tf_idf','length'],\n",
        "                           outputCol='features')"
      ]
    },
    {
      "cell_type": "code",
      "source": [],
      "metadata": {
        "colab": {
          "base_uri": "https://localhost:8080/",
          "height": 171
        },
        "id": "ymMqm9gkl63I",
        "outputId": "6ddd0f1f-8076-4c84-89bb-df7e91e97d4c"
      },
      "id": "ymMqm9gkl63I",
      "execution_count": null,
      "outputs": [
        {
          "output_type": "error",
          "ename": "AttributeError",
          "evalue": "ignored",
          "traceback": [
            "\u001b[0;31m---------------------------------------------------------------------------\u001b[0m",
            "\u001b[0;31mAttributeError\u001b[0m                            Traceback (most recent call last)",
            "\u001b[0;32m<ipython-input-25-c54b4cccce2f>\u001b[0m in \u001b[0;36m<cell line: 1>\u001b[0;34m()\u001b[0m\n\u001b[0;32m----> 1\u001b[0;31m \u001b[0midf\u001b[0m\u001b[0;34m.\u001b[0m\u001b[0mshow\u001b[0m\u001b[0;34m(\u001b[0m\u001b[0;34m)\u001b[0m\u001b[0;34m\u001b[0m\u001b[0;34m\u001b[0m\u001b[0m\n\u001b[0m",
            "\u001b[0;31mAttributeError\u001b[0m: 'IDF' object has no attribute 'show'"
          ]
        }
      ]
    },
    {
      "cell_type": "code",
      "execution_count": null,
      "id": "c521930c",
      "metadata": {
        "id": "c521930c"
      },
      "outputs": [],
      "source": [
        "data_prep_pipe = Pipeline(stages=[ham_spam_to_num,\n",
        "                                  text_extractor,\n",
        "                                  tokenizer,\n",
        "                                  stopremove,\n",
        "                                  count_vec,\n",
        "                                  idf,\n",
        "                                  clean_up])"
      ]
    },
    {
      "cell_type": "code",
      "execution_count": null,
      "id": "1793128a",
      "metadata": {
        "scrolled": true,
        "id": "1793128a"
      },
      "outputs": [],
      "source": [
        "cleaner = data_prep_pipe.fit(data)"
      ]
    },
    {
      "cell_type": "code",
      "execution_count": null,
      "id": "eac4664b",
      "metadata": {
        "id": "eac4664b"
      },
      "outputs": [],
      "source": [
        "clean_data = cleaner.transform(data)"
      ]
    },
    {
      "cell_type": "code",
      "execution_count": null,
      "id": "fd0c6089",
      "metadata": {
        "id": "fd0c6089"
      },
      "outputs": [],
      "source": [
        "clean_data = clean_data.select('label','features')"
      ]
    },
    {
      "cell_type": "code",
      "execution_count": null,
      "id": "f18affa4",
      "metadata": {
        "colab": {
          "base_uri": "https://localhost:8080/"
        },
        "id": "f18affa4",
        "outputId": "4e219f15-bd3c-4678-c20d-30c7dfba9a26"
      },
      "outputs": [
        {
          "output_type": "stream",
          "name": "stdout",
          "text": [
            "+-----+--------------------+\n",
            "|label|            features|\n",
            "+-----+--------------------+\n",
            "|  0.0|(27964,[1,53,2796...|\n",
            "|  0.0|(27964,[0,1,5,8,2...|\n",
            "|  0.0|(27964,[0,1,5,8,2...|\n",
            "|  0.0|(27964,[428,784,1...|\n",
            "|  1.0|(27964,[55,105,33...|\n",
            "|  1.0|(27964,[0,17,23,1...|\n",
            "|  0.0|(27964,[0,1,48,59...|\n",
            "|  0.0|(27964,[1,53,369,...|\n",
            "|  0.0|(27964,[9,11,234,...|\n",
            "|  2.0|(27964,[1,3,5,10,...|\n",
            "|  1.0|(27964,[0,80,239,...|\n",
            "|  0.0|(27964,[4,5,174,2...|\n",
            "|  1.0|(27964,[1,5,169,2...|\n",
            "|  1.0|(27964,[0,67,330,...|\n",
            "|  1.0|(27964,[1,336,923...|\n",
            "|  1.0|(27964,[59,263,44...|\n",
            "|  0.0|(27964,[239,27963...|\n",
            "|  0.0|(27964,[0,8,80,12...|\n",
            "|  0.0|(27964,[3,22,50,9...|\n",
            "|  0.0|(27964,[9,89,243,...|\n",
            "+-----+--------------------+\n",
            "only showing top 20 rows\n",
            "\n"
          ]
        }
      ],
      "source": [
        "clean_data.show()"
      ]
    },
    {
      "cell_type": "code",
      "execution_count": null,
      "id": "91be6233",
      "metadata": {
        "scrolled": true,
        "colab": {
          "base_uri": "https://localhost:8080/"
        },
        "id": "91be6233",
        "outputId": "1ca1d35a-1537-4c49-9bb0-24f94c8ca288"
      },
      "outputs": [
        {
          "output_type": "stream",
          "name": "stdout",
          "text": [
            "+-----+------+\n",
            "|label| count|\n",
            "+-----+------+\n",
            "|  0.0|103594|\n",
            "|  1.0| 20795|\n",
            "|  2.0|  9842|\n",
            "+-----+------+\n",
            "\n"
          ]
        }
      ],
      "source": [
        "clean_data.groupBy('label').count().show()"
      ]
    },
    {
      "cell_type": "code",
      "execution_count": null,
      "id": "232c8ab9",
      "metadata": {
        "id": "232c8ab9"
      },
      "outputs": [],
      "source": [
        "(train, test) = clean_data.randomSplit([0.7,0.3])"
      ]
    },
    {
      "cell_type": "markdown",
      "id": "16d6c877",
      "metadata": {
        "id": "16d6c877"
      },
      "source": [
        "## Buil Model"
      ]
    },
    {
      "cell_type": "markdown",
      "id": "82661486",
      "metadata": {
        "id": "82661486"
      },
      "source": [
        "### Naive Bayes"
      ]
    },
    {
      "cell_type": "code",
      "execution_count": null,
      "id": "6f256bf6",
      "metadata": {
        "scrolled": true,
        "colab": {
          "base_uri": "https://localhost:8080/"
        },
        "id": "6f256bf6",
        "outputId": "28592638-a0b4-4e70-ad5a-6cb9d0ca8243"
      },
      "outputs": [
        {
          "output_type": "stream",
          "name": "stdout",
          "text": [
            "+-----+--------------------+--------------------+--------------------+----------+\n",
            "|label|            features|       rawPrediction|         probability|prediction|\n",
            "+-----+--------------------+--------------------+--------------------+----------+\n",
            "|  0.0|(27964,[0,1,2,3,4...|[-11240.538702246...|[1.0,5.5282785272...|       0.0|\n",
            "|  0.0|(27964,[0,1,2,3,4...|[-784.25589375873...|[1.62013689002517...|       2.0|\n",
            "|  0.0|(27964,[0,1,2,3,4...|[-378.53524001305...|[0.99999999999995...|       0.0|\n",
            "|  0.0|(27964,[0,1,2,3,4...|[-353.10947965994...|[1.0,4.2265688015...|       0.0|\n",
            "|  0.0|(27964,[0,1,2,3,4...|[-212.17752488656...|[0.99999999071903...|       0.0|\n",
            "|  0.0|(27964,[0,1,2,3,4...|[-1163.1577445122...|[3.14420084955976...|       2.0|\n",
            "|  0.0|(27964,[0,1,2,3,4...|[-892.74871919934...|[1.0,8.2561252708...|       0.0|\n",
            "|  0.0|(27964,[0,1,2,3,4...|[-292.46038644260...|[1.0,3.4656755348...|       0.0|\n",
            "|  0.0|(27964,[0,1,2,3,4...|[-922.09841256210...|[1.0,8.5043860146...|       0.0|\n",
            "|  0.0|(27964,[0,1,2,3,4...|[-108.16404995127...|[0.99999996481469...|       0.0|\n",
            "|  0.0|(27964,[0,1,2,3,4...|[-460.49212219435...|[1.0,3.2694048715...|       0.0|\n",
            "|  0.0|(27964,[0,1,2,3,4...|[-535.24412044262...|[1.0,3.3378633047...|       0.0|\n",
            "|  0.0|(27964,[0,1,2,3,4...|[-648.33909111340...|[1.0,1.0919582154...|       0.0|\n",
            "|  0.0|(27964,[0,1,2,3,4...|[-346.64639747292...|[1.0,3.3488957427...|       0.0|\n",
            "|  0.0|(27964,[0,1,2,3,4...|[-342.63101156973...|[0.99999999945904...|       0.0|\n",
            "|  0.0|(27964,[0,1,2,3,4...|[-604.95258105943...|[0.00433864732918...|       1.0|\n",
            "|  0.0|(27964,[0,1,2,3,4...|[-397.49559771787...|[1.0,2.8175864779...|       0.0|\n",
            "|  0.0|(27964,[0,1,2,3,4...|[-210.35660373001...|[0.99999999980894...|       0.0|\n",
            "|  0.0|(27964,[0,1,2,3,4...|[-64.050119543547...|[0.99998377285978...|       0.0|\n",
            "|  0.0|(27964,[0,1,2,3,5...|[-1428.4713890323...|[1.0,1.6779875484...|       0.0|\n",
            "+-----+--------------------+--------------------+--------------------+----------+\n",
            "only showing top 20 rows\n",
            "\n",
            "0:00:00.000105\n"
          ]
        }
      ],
      "source": [
        "nb = NaiveBayes()\n",
        "prediction = nb.fit(train)\n",
        "test_results = prediction.transform(test)\n",
        "start_time = datetime.now()\n",
        "train_time = datetime.now() - start_time  \n",
        "test_results.show()\n",
        "print(train_time)"
      ]
    },
    {
      "cell_type": "code",
      "source": [
        "from pyspark.sql.functions import col, explode, array, lit\n",
        "major_df = data.filter(col(\"class\") == 'positive')\n",
        "minor_df = data.filter(col(\"class\") == 'negative')\n",
        "normal_df = data.filter(col(\"class\") == 'neutral')\n",
        "ratio = int(major_df.count()/minor_df.count()/normal_df.count())\n",
        "print(\"ratio: {}\".format(ratio))"
      ],
      "metadata": {
        "id": "DICmFKMe6XO8"
      },
      "id": "DICmFKMe6XO8",
      "execution_count": null,
      "outputs": []
    },
    {
      "cell_type": "code",
      "execution_count": null,
      "id": "9dc9e443",
      "metadata": {
        "scrolled": true,
        "colab": {
          "base_uri": "https://localhost:8080/"
        },
        "id": "9dc9e443",
        "outputId": "cbaaf021-85b2-4c62-aeec-6862cafe9cb8"
      },
      "outputs": [
        {
          "output_type": "stream",
          "name": "stdout",
          "text": [
            "+-----+----------+-----+\n",
            "|label|prediction|count|\n",
            "+-----+----------+-----+\n",
            "|  2.0|       0.0|  930|\n",
            "|  1.0|       1.0| 4075|\n",
            "|  0.0|       1.0| 2382|\n",
            "|  1.0|       0.0|  754|\n",
            "|  2.0|       2.0| 1073|\n",
            "|  2.0|       1.0| 1005|\n",
            "|  1.0|       2.0| 1376|\n",
            "|  0.0|       0.0|24902|\n",
            "|  0.0|       2.0| 3776|\n",
            "+-----+----------+-----+\n",
            "\n"
          ]
        }
      ],
      "source": [
        "test_results.groupBy('label', 'prediction').count().show()"
      ]
    },
    {
      "cell_type": "markdown",
      "id": "dc491516",
      "metadata": {
        "id": "dc491516"
      },
      "source": [
        "### Report"
      ]
    },
    {
      "cell_type": "code",
      "execution_count": null,
      "id": "abe136e3",
      "metadata": {
        "scrolled": true,
        "colab": {
          "base_uri": "https://localhost:8080/"
        },
        "id": "abe136e3",
        "outputId": "cf1202f9-a0db-4146-ccbe-1c20524ba1d2"
      },
      "outputs": [
        {
          "output_type": "stream",
          "name": "stderr",
          "text": [
            "/usr/local/lib/python3.9/dist-packages/pyspark/sql/context.py:157: FutureWarning: Deprecated in 3.0.0. Use SparkSession.builder.getOrCreate() instead.\n",
            "  warnings.warn(\n"
          ]
        },
        {
          "output_type": "stream",
          "name": "stdout",
          "text": [
            "[[24902.  2382.  3776.]\n",
            " [  754.  4075.  1376.]\n",
            " [  930.  1005.  1073.]]\n"
          ]
        }
      ],
      "source": [
        "#important: need to cast to float type, and order by prediction, else it won't work\n",
        "preds_and_labels = test_results.select(['prediction','label']).withColumn('label', F.col('label').cast(FloatType())).orderBy('prediction')\n",
        "\n",
        "#select only prediction and label columns\n",
        "preds_and_labels = preds_and_labels.select(['prediction','label'])\n",
        "\n",
        "metrics = MulticlassMetrics(preds_and_labels.rdd.map(tuple))\n",
        "print(metrics.confusionMatrix().toArray())"
      ]
    },
    {
      "cell_type": "code",
      "execution_count": null,
      "id": "87143897",
      "metadata": {
        "colab": {
          "base_uri": "https://localhost:8080/"
        },
        "id": "87143897",
        "outputId": "f9e017da-044e-48e0-fc7b-107685ac9f46"
      },
      "outputs": [
        {
          "output_type": "stream",
          "name": "stdout",
          "text": [
            "Accuracy of model: 0.77555767485527\n"
          ]
        }
      ],
      "source": [
        "acc_eva_nb = MulticlassClassificationEvaluator()\n",
        "acc_nb = acc_eva_nb.evaluate(test_results)\n",
        "print('Accuracy of model: {}'.format(acc_nb))"
      ]
    },
    {
      "cell_type": "markdown",
      "id": "73d2b16a",
      "metadata": {
        "id": "73d2b16a"
      },
      "source": [
        "### Logistic Regression"
      ]
    },
    {
      "cell_type": "code",
      "execution_count": null,
      "id": "7c030040",
      "metadata": {
        "colab": {
          "base_uri": "https://localhost:8080/"
        },
        "id": "7c030040",
        "outputId": "b002e879-4098-47cc-d358-3148608d9fb2"
      },
      "outputs": [
        {
          "output_type": "stream",
          "name": "stdout",
          "text": [
            "0:00:00.000060\n",
            "+-----+----------+-----+\n",
            "|label|prediction|count|\n",
            "+-----+----------+-----+\n",
            "|  2.0|       0.0| 2657|\n",
            "|  1.0|       1.0| 2093|\n",
            "|  0.0|       1.0|  325|\n",
            "|  1.0|       0.0| 4061|\n",
            "|  2.0|       2.0|   24|\n",
            "|  2.0|       1.0|  327|\n",
            "|  1.0|       2.0|   51|\n",
            "|  0.0|       0.0|30687|\n",
            "|  0.0|       2.0|   48|\n",
            "+-----+----------+-----+\n",
            "\n"
          ]
        }
      ],
      "source": [
        "lg = LogisticRegression(maxIter=10, regParam=0.3)\n",
        "pre_lg = lg.fit(train)\n",
        "result_lg = pre_lg.transform(test)\n",
        "start_time = datetime.now()\n",
        "train_time = datetime.now() - start_time  \n",
        "print(train_time)\n",
        "result_lg.groupBy('label', 'prediction').count().show()"
      ]
    },
    {
      "cell_type": "markdown",
      "id": "fde2535f",
      "metadata": {
        "id": "fde2535f"
      },
      "source": [
        "### Report"
      ]
    },
    {
      "cell_type": "code",
      "execution_count": null,
      "id": "77832816",
      "metadata": {
        "scrolled": true,
        "colab": {
          "base_uri": "https://localhost:8080/"
        },
        "id": "77832816",
        "outputId": "84d04b30-4725-4236-9503-7d4b36193e7f"
      },
      "outputs": [
        {
          "output_type": "stream",
          "name": "stderr",
          "text": [
            "/usr/local/lib/python3.9/dist-packages/pyspark/sql/context.py:157: FutureWarning: Deprecated in 3.0.0. Use SparkSession.builder.getOrCreate() instead.\n",
            "  warnings.warn(\n"
          ]
        },
        {
          "output_type": "stream",
          "name": "stdout",
          "text": [
            "[[3.0687e+04 3.2500e+02 4.8000e+01]\n",
            " [4.0610e+03 2.0930e+03 5.1000e+01]\n",
            " [2.6570e+03 3.2700e+02 2.4000e+01]]\n"
          ]
        }
      ],
      "source": [
        "#important: need to cast to float type, and order by prediction, else it won't work\n",
        "preds_and_labels_lg = result_lg.select(['prediction','label']).withColumn('label', F.col('label').cast(FloatType())).orderBy('prediction')\n",
        "\n",
        "#select only prediction and label columns\n",
        "preds_and_labels_lg = preds_and_labels_lg.select(['prediction','label'])\n",
        "\n",
        "metrics_lg = MulticlassMetrics(preds_and_labels_lg.rdd.map(tuple))\n",
        "print(metrics_lg.confusionMatrix().toArray())"
      ]
    },
    {
      "cell_type": "code",
      "execution_count": null,
      "id": "1fd4af16",
      "metadata": {
        "id": "1fd4af16"
      },
      "outputs": [],
      "source": []
    },
    {
      "cell_type": "code",
      "execution_count": null,
      "id": "7185057f",
      "metadata": {
        "scrolled": true,
        "colab": {
          "base_uri": "https://localhost:8080/"
        },
        "id": "7185057f",
        "outputId": "3388f146-57c3-4211-c563-be7919b779b8"
      },
      "outputs": [
        {
          "output_type": "stream",
          "name": "stdout",
          "text": [
            "Accuracy of model: 0.7645651255262982\n"
          ]
        }
      ],
      "source": [
        "acc_eva_lg = MulticlassClassificationEvaluator()\n",
        "acc_lg = acc_eva_lg.evaluate(result_lg)\n",
        "print('Accuracy of model: {}'.format(acc_lg))"
      ]
    }
  ],
  "metadata": {
    "kernelspec": {
      "display_name": "Python 3 (ipykernel)",
      "language": "python",
      "name": "python3"
    },
    "language_info": {
      "codemirror_mode": {
        "name": "ipython",
        "version": 3
      },
      "file_extension": ".py",
      "mimetype": "text/x-python",
      "name": "python",
      "nbconvert_exporter": "python",
      "pygments_lexer": "ipython3",
      "version": "3.8.8"
    },
    "colab": {
      "provenance": []
    }
  },
  "nbformat": 4,
  "nbformat_minor": 5
}