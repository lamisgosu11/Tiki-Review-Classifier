{
 "cells": [
  {
   "attachments": {},
   "cell_type": "markdown",
   "id": "58841b1a",
   "metadata": {},
   "source": [
    "### LIBRARIES"
   ]
  },
  {
   "cell_type": "code",
   "execution_count": 2,
   "id": "ba489f55",
   "metadata": {},
   "outputs": [],
   "source": [
    "import pandas as pd\n",
    "import numpy as np\n",
    "from sklearn.ensemble import ExtraTreesClassifier\n",
    "from sklearn.linear_model import RidgeClassifier\n",
    "from sklearn.neighbors import KNeighborsClassifier\n",
    "from sklearn.ensemble import RandomForestClassifier\n",
    "from sklearn.linear_model import LogisticRegression\n",
    "from sklearn.feature_extraction.text import TfidfVectorizer\n",
    "from sklearn.decomposition import TruncatedSVD\n",
    "from sklearn.model_selection import train_test_split\n",
    "from sklearn.metrics import confusion_matrix\n",
    "from datetime import datetime\n",
    "from datetime import timedelta\n",
    "import matplotlib.pyplot as plt\n",
    "import seaborn as sns\n",
    "from sklearn.model_selection import cross_val_score, GridSearchCV\n",
    "from sklearn.metrics import accuracy_score, classification_report, confusion_matrix, roc_auc_score, roc_curve\n",
    "import pickle\n",
    "from sklearn. metrics import classification_report, roc_auc_score, roc_curve"
   ]
  },
  {
   "cell_type": "code",
   "execution_count": 3,
   "id": "5b4006bd",
   "metadata": {},
   "outputs": [],
   "source": [
    "df = pd.read_csv(\"comment_final.csv\", encoding=\"utf-8\", index_col=0)"
   ]
  },
  {
   "cell_type": "markdown",
   "id": "03430765",
   "metadata": {},
   "source": [
    "### Check NAN again"
   ]
  },
  {
   "cell_type": "code",
   "execution_count": 4,
   "id": "316a86ce",
   "metadata": {
    "scrolled": true
   },
   "outputs": [
    {
     "name": "stdout",
     "output_type": "stream",
     "text": [
      "Data shape: (85999, 2)\n"
     ]
    },
    {
     "data": {
      "text/html": [
       "<div>\n",
       "<style scoped>\n",
       "    .dataframe tbody tr th:only-of-type {\n",
       "        vertical-align: middle;\n",
       "    }\n",
       "\n",
       "    .dataframe tbody tr th {\n",
       "        vertical-align: top;\n",
       "    }\n",
       "\n",
       "    .dataframe thead th {\n",
       "        text-align: right;\n",
       "    }\n",
       "</style>\n",
       "<table border=\"1\" class=\"dataframe\">\n",
       "  <thead>\n",
       "    <tr style=\"text-align: right;\">\n",
       "      <th></th>\n",
       "      <th>missing_values</th>\n",
       "      <th>missing_percent</th>\n",
       "    </tr>\n",
       "  </thead>\n",
       "  <tbody>\n",
       "    <tr>\n",
       "      <th>processed_text</th>\n",
       "      <td>4849</td>\n",
       "      <td>5.638</td>\n",
       "    </tr>\n",
       "    <tr>\n",
       "      <th>class</th>\n",
       "      <td>0</td>\n",
       "      <td>0.000</td>\n",
       "    </tr>\n",
       "  </tbody>\n",
       "</table>\n",
       "</div>"
      ],
      "text/plain": [
       "                missing_values  missing_percent\n",
       "processed_text            4849            5.638\n",
       "class                        0            0.000"
      ]
     },
     "execution_count": 4,
     "metadata": {},
     "output_type": "execute_result"
    }
   ],
   "source": [
    "print('Data shape:', df.shape)\n",
    "missing_val_num = df.isnull().sum()\n",
    "missing_percent = (missing_val_num / df.shape[0]) * 100\n",
    "missing_info = {'missing_values': missing_val_num,\n",
    "                'missing_percent': round(missing_percent,3)}\n",
    "missing_df = pd.DataFrame(missing_info)\n",
    "missing_df"
   ]
  },
  {
   "cell_type": "code",
   "execution_count": 5,
   "id": "23e60646",
   "metadata": {
    "scrolled": true
   },
   "outputs": [
    {
     "name": "stdout",
     "output_type": "stream",
     "text": [
      "(81150, 2)\n",
      "processed_text    0\n",
      "class             0\n",
      "dtype: int64\n"
     ]
    }
   ],
   "source": [
    "# Drop all rows with NaN values\n",
    "df.dropna(inplace=True)\n",
    "print(df.shape)\n",
    "print(df.isnull().sum())"
   ]
  },
  {
   "cell_type": "markdown",
   "id": "0fe2147c",
   "metadata": {},
   "source": [
    "### Duplicate Data"
   ]
  },
  {
   "cell_type": "code",
   "execution_count": 6,
   "id": "03610a13",
   "metadata": {
    "scrolled": true
   },
   "outputs": [
    {
     "data": {
      "text/html": [
       "<div>\n",
       "<style scoped>\n",
       "    .dataframe tbody tr th:only-of-type {\n",
       "        vertical-align: middle;\n",
       "    }\n",
       "\n",
       "    .dataframe tbody tr th {\n",
       "        vertical-align: top;\n",
       "    }\n",
       "\n",
       "    .dataframe thead th {\n",
       "        text-align: right;\n",
       "    }\n",
       "</style>\n",
       "<table border=\"1\" class=\"dataframe\">\n",
       "  <thead>\n",
       "    <tr style=\"text-align: right;\">\n",
       "      <th></th>\n",
       "      <th>processed_text</th>\n",
       "      <th>class</th>\n",
       "    </tr>\n",
       "  </thead>\n",
       "  <tbody>\n",
       "    <tr>\n",
       "      <th>365</th>\n",
       "      <td>không_bàn nội đọc đóng_gói cạn vận_chuyển đườn...</td>\n",
       "      <td>negative</td>\n",
       "    </tr>\n",
       "    <tr>\n",
       "      <th>465</th>\n",
       "      <td>đóng gói sơ_sài sách hộp cactong chống sốc sác...</td>\n",
       "      <td>positive</td>\n",
       "    </tr>\n",
       "    <tr>\n",
       "      <th>470</th>\n",
       "      <td>không_bàn nội đọc đóng_gói cạn vận_chuyển đườn...</td>\n",
       "      <td>negative</td>\n",
       "    </tr>\n",
       "    <tr>\n",
       "      <th>474</th>\n",
       "      <td>sách đợt dọn nhã nam đợt lắm rùi cười trading ...</td>\n",
       "      <td>positive</td>\n",
       "    </tr>\n",
       "    <tr>\n",
       "      <th>604</th>\n",
       "      <td>sách hàng sách yên_tâm</td>\n",
       "      <td>positive</td>\n",
       "    </tr>\n",
       "    <tr>\n",
       "      <th>...</th>\n",
       "      <td>...</td>\n",
       "      <td>...</td>\n",
       "    </tr>\n",
       "    <tr>\n",
       "      <th>85993</th>\n",
       "      <td>đóng gói đẹp</td>\n",
       "      <td>positive</td>\n",
       "    </tr>\n",
       "    <tr>\n",
       "      <th>85994</th>\n",
       "      <td>sách đẹp</td>\n",
       "      <td>positive</td>\n",
       "    </tr>\n",
       "    <tr>\n",
       "      <th>85996</th>\n",
       "      <td>sách đẹp</td>\n",
       "      <td>positive</td>\n",
       "    </tr>\n",
       "    <tr>\n",
       "      <th>85997</th>\n",
       "      <td>lắm</td>\n",
       "      <td>positive</td>\n",
       "    </tr>\n",
       "    <tr>\n",
       "      <th>85998</th>\n",
       "      <td>tuyệt_vời lắm</td>\n",
       "      <td>positive</td>\n",
       "    </tr>\n",
       "  </tbody>\n",
       "</table>\n",
       "<p>14264 rows × 2 columns</p>\n",
       "</div>"
      ],
      "text/plain": [
       "                                          processed_text     class\n",
       "365    không_bàn nội đọc đóng_gói cạn vận_chuyển đườn...  negative\n",
       "465    đóng gói sơ_sài sách hộp cactong chống sốc sác...  positive\n",
       "470    không_bàn nội đọc đóng_gói cạn vận_chuyển đườn...  negative\n",
       "474    sách đợt dọn nhã nam đợt lắm rùi cười trading ...  positive\n",
       "604                               sách hàng sách yên_tâm  positive\n",
       "...                                                  ...       ...\n",
       "85993                                       đóng gói đẹp  positive\n",
       "85994                                           sách đẹp  positive\n",
       "85996                                           sách đẹp  positive\n",
       "85997                                                lắm  positive\n",
       "85998                                      tuyệt_vời lắm  positive\n",
       "\n",
       "[14264 rows x 2 columns]"
      ]
     },
     "execution_count": 6,
     "metadata": {},
     "output_type": "execute_result"
    }
   ],
   "source": [
    "df[df.duplicated()]"
   ]
  },
  {
   "cell_type": "code",
   "execution_count": 7,
   "id": "dd04d07b",
   "metadata": {
    "scrolled": true
   },
   "outputs": [
    {
     "name": "stdout",
     "output_type": "stream",
     "text": [
      "Duplicate data: 0\n",
      "(66886, 2)\n"
     ]
    }
   ],
   "source": [
    "# Drop all duplicate rows\n",
    "df.drop_duplicates(inplace=True)\n",
    "print('Duplicate data:', df.duplicated().sum())\n",
    "print(df.shape)\n",
    "# Reset index\n",
    "df.reset_index(drop=True, inplace=True)"
   ]
  },
  {
   "attachments": {},
   "cell_type": "markdown",
   "id": "d0fc9149",
   "metadata": {},
   "source": [
    "### TF-IDF"
   ]
  },
  {
   "cell_type": "code",
   "execution_count": 8,
   "id": "69b3918e",
   "metadata": {},
   "outputs": [],
   "source": [
    "tfidf_vectorizer = TfidfVectorizer(ngram_range=(1, 2), min_df=0.02)\n",
    "x = tfidf_vectorizer.fit(df['processed_text'].values.astype('U'))\n",
    "X = tfidf_vectorizer.transform(df['processed_text'].values.astype('U'))\n",
    "df_new = pd.DataFrame(X.toarray(), columns=tfidf_vectorizer.get_feature_names_out())"
   ]
  },
  {
   "cell_type": "code",
   "execution_count": 9,
   "id": "d7afec27",
   "metadata": {
    "scrolled": false
   },
   "outputs": [
    {
     "data": {
      "text/html": [
       "<div>\n",
       "<style scoped>\n",
       "    .dataframe tbody tr th:only-of-type {\n",
       "        vertical-align: middle;\n",
       "    }\n",
       "\n",
       "    .dataframe tbody tr th {\n",
       "        vertical-align: top;\n",
       "    }\n",
       "\n",
       "    .dataframe thead th {\n",
       "        text-align: right;\n",
       "    }\n",
       "</style>\n",
       "<table border=\"1\" class=\"dataframe\">\n",
       "  <thead>\n",
       "    <tr style=\"text-align: right;\">\n",
       "      <th></th>\n",
       "      <th>bé</th>\n",
       "      <th>bìa</th>\n",
       "      <th>bìa sách</th>\n",
       "      <th>bọc</th>\n",
       "      <th>chất_lượng</th>\n",
       "      <th>chất_lượng sách</th>\n",
       "      <th>chống</th>\n",
       "      <th>chữ</th>\n",
       "      <th>cuộc_sống</th>\n",
       "      <th>câu</th>\n",
       "      <th>...</th>\n",
       "      <th>yêu</th>\n",
       "      <th>đóng</th>\n",
       "      <th>đóng gói</th>\n",
       "      <th>đóng_gói</th>\n",
       "      <th>đầu</th>\n",
       "      <th>đẹp</th>\n",
       "      <th>đọc</th>\n",
       "      <th>đọc sách</th>\n",
       "      <th>đổi</th>\n",
       "      <th>ổn</th>\n",
       "    </tr>\n",
       "  </thead>\n",
       "  <tbody>\n",
       "    <tr>\n",
       "      <th>0</th>\n",
       "      <td>0.743634</td>\n",
       "      <td>0.000000</td>\n",
       "      <td>0.0</td>\n",
       "      <td>0.0</td>\n",
       "      <td>0.0</td>\n",
       "      <td>0.0</td>\n",
       "      <td>0.000000</td>\n",
       "      <td>0.0</td>\n",
       "      <td>0.00000</td>\n",
       "      <td>0.0</td>\n",
       "      <td>...</td>\n",
       "      <td>0.362281</td>\n",
       "      <td>0.0</td>\n",
       "      <td>0.0</td>\n",
       "      <td>0.0</td>\n",
       "      <td>0.000000</td>\n",
       "      <td>0.0</td>\n",
       "      <td>0.175053</td>\n",
       "      <td>0.0</td>\n",
       "      <td>0.0</td>\n",
       "      <td>0.0</td>\n",
       "    </tr>\n",
       "    <tr>\n",
       "      <th>1</th>\n",
       "      <td>0.000000</td>\n",
       "      <td>0.000000</td>\n",
       "      <td>0.0</td>\n",
       "      <td>0.0</td>\n",
       "      <td>0.0</td>\n",
       "      <td>0.0</td>\n",
       "      <td>0.461931</td>\n",
       "      <td>0.0</td>\n",
       "      <td>0.00000</td>\n",
       "      <td>0.0</td>\n",
       "      <td>...</td>\n",
       "      <td>0.000000</td>\n",
       "      <td>0.0</td>\n",
       "      <td>0.0</td>\n",
       "      <td>0.0</td>\n",
       "      <td>0.000000</td>\n",
       "      <td>0.0</td>\n",
       "      <td>0.213134</td>\n",
       "      <td>0.0</td>\n",
       "      <td>0.0</td>\n",
       "      <td>0.0</td>\n",
       "    </tr>\n",
       "    <tr>\n",
       "      <th>2</th>\n",
       "      <td>0.698354</td>\n",
       "      <td>0.158488</td>\n",
       "      <td>0.0</td>\n",
       "      <td>0.0</td>\n",
       "      <td>0.0</td>\n",
       "      <td>0.0</td>\n",
       "      <td>0.000000</td>\n",
       "      <td>0.0</td>\n",
       "      <td>0.24208</td>\n",
       "      <td>0.0</td>\n",
       "      <td>...</td>\n",
       "      <td>0.000000</td>\n",
       "      <td>0.0</td>\n",
       "      <td>0.0</td>\n",
       "      <td>0.0</td>\n",
       "      <td>0.210647</td>\n",
       "      <td>0.0</td>\n",
       "      <td>0.109596</td>\n",
       "      <td>0.0</td>\n",
       "      <td>0.0</td>\n",
       "      <td>0.0</td>\n",
       "    </tr>\n",
       "    <tr>\n",
       "      <th>3</th>\n",
       "      <td>0.383135</td>\n",
       "      <td>0.000000</td>\n",
       "      <td>0.0</td>\n",
       "      <td>0.0</td>\n",
       "      <td>0.0</td>\n",
       "      <td>0.0</td>\n",
       "      <td>0.000000</td>\n",
       "      <td>0.0</td>\n",
       "      <td>0.00000</td>\n",
       "      <td>0.0</td>\n",
       "      <td>...</td>\n",
       "      <td>0.000000</td>\n",
       "      <td>0.0</td>\n",
       "      <td>0.0</td>\n",
       "      <td>0.0</td>\n",
       "      <td>0.693400</td>\n",
       "      <td>0.0</td>\n",
       "      <td>0.180382</td>\n",
       "      <td>0.0</td>\n",
       "      <td>0.0</td>\n",
       "      <td>0.0</td>\n",
       "    </tr>\n",
       "    <tr>\n",
       "      <th>4</th>\n",
       "      <td>0.000000</td>\n",
       "      <td>0.000000</td>\n",
       "      <td>0.0</td>\n",
       "      <td>0.0</td>\n",
       "      <td>0.0</td>\n",
       "      <td>0.0</td>\n",
       "      <td>0.000000</td>\n",
       "      <td>0.0</td>\n",
       "      <td>0.00000</td>\n",
       "      <td>0.0</td>\n",
       "      <td>...</td>\n",
       "      <td>0.327222</td>\n",
       "      <td>0.0</td>\n",
       "      <td>0.0</td>\n",
       "      <td>0.0</td>\n",
       "      <td>0.000000</td>\n",
       "      <td>0.0</td>\n",
       "      <td>0.158112</td>\n",
       "      <td>0.0</td>\n",
       "      <td>0.0</td>\n",
       "      <td>0.0</td>\n",
       "    </tr>\n",
       "  </tbody>\n",
       "</table>\n",
       "<p>5 rows × 69 columns</p>\n",
       "</div>"
      ],
      "text/plain": [
       "         bé       bìa  bìa sách  bọc  chất_lượng  chất_lượng sách     chống  \\\n",
       "0  0.743634  0.000000       0.0  0.0         0.0              0.0  0.000000   \n",
       "1  0.000000  0.000000       0.0  0.0         0.0              0.0  0.461931   \n",
       "2  0.698354  0.158488       0.0  0.0         0.0              0.0  0.000000   \n",
       "3  0.383135  0.000000       0.0  0.0         0.0              0.0  0.000000   \n",
       "4  0.000000  0.000000       0.0  0.0         0.0              0.0  0.000000   \n",
       "\n",
       "   chữ  cuộc_sống  câu  ...       yêu  đóng  đóng gói  đóng_gói       đầu  \\\n",
       "0  0.0    0.00000  0.0  ...  0.362281   0.0       0.0       0.0  0.000000   \n",
       "1  0.0    0.00000  0.0  ...  0.000000   0.0       0.0       0.0  0.000000   \n",
       "2  0.0    0.24208  0.0  ...  0.000000   0.0       0.0       0.0  0.210647   \n",
       "3  0.0    0.00000  0.0  ...  0.000000   0.0       0.0       0.0  0.693400   \n",
       "4  0.0    0.00000  0.0  ...  0.327222   0.0       0.0       0.0  0.000000   \n",
       "\n",
       "   đẹp       đọc  đọc sách  đổi   ổn  \n",
       "0  0.0  0.175053       0.0  0.0  0.0  \n",
       "1  0.0  0.213134       0.0  0.0  0.0  \n",
       "2  0.0  0.109596       0.0  0.0  0.0  \n",
       "3  0.0  0.180382       0.0  0.0  0.0  \n",
       "4  0.0  0.158112       0.0  0.0  0.0  \n",
       "\n",
       "[5 rows x 69 columns]"
      ]
     },
     "execution_count": 9,
     "metadata": {},
     "output_type": "execute_result"
    }
   ],
   "source": [
    "df_new.head()"
   ]
  },
  {
   "cell_type": "code",
   "execution_count": 10,
   "id": "228ed179",
   "metadata": {},
   "outputs": [],
   "source": [
    "y = df['class']"
   ]
  },
  {
   "cell_type": "code",
   "execution_count": null,
   "id": "f18bf41a",
   "metadata": {},
   "outputs": [],
   "source": []
  },
  {
   "attachments": {},
   "cell_type": "markdown",
   "id": "35d7854c",
   "metadata": {},
   "source": [
    "### CROSS VALIDATION"
   ]
  },
  {
   "cell_type": "code",
   "execution_count": 11,
   "id": "2b463a0d",
   "metadata": {
    "scrolled": true
   },
   "outputs": [
    {
     "name": "stdout",
     "output_type": "stream",
     "text": [
      "Test size:  0.3\n",
      "Run:  0\n",
      "Run:  1\n",
      "Run:  2\n",
      "Run:  3\n",
      "Run:  4\n",
      "Test size:  0.3  Train accuracy:  0.8608329773601024  Test accuracy:  0.8602312369181702\n",
      "--------------------------------------------------\n",
      "Test size:  0.2\n",
      "Run:  0\n",
      "Run:  1\n",
      "Run:  2\n",
      "Run:  3\n",
      "Run:  4\n",
      "Test size:  0.2  Train accuracy:  0.8606227106227106  Test accuracy:  0.8608312154283151\n",
      "--------------------------------------------------\n"
     ]
    }
   ],
   "source": [
    "# Choose 0.3, 0.2 as the test size\n",
    "test_size_list = [.3, .2]\n",
    "# Run 5 times for each test_size\n",
    "for test_size in test_size_list:\n",
    "  print('Test size: ', test_size)\n",
    "  accuracy_train_list = []\n",
    "  accuracy_test_list = []\n",
    "  for i in range(5):\n",
    "    print('Run: ', i)\n",
    "    # Split the data into training and testing sets\n",
    "    X_train, X_test, y_train, y_test = train_test_split(X, y, test_size=test_size)\n",
    "    # Create a LogisticReg (for faster training)\n",
    "    clf = LogisticRegression()\n",
    "    # Train the classifier\n",
    "    clf.fit(X_train, y_train)\n",
    "    # Make predictions\n",
    "    y_pred = clf.predict(X_test)\n",
    "    # Calculate the accuracy\n",
    "    accuracy_train = accuracy_score(y_train, clf.predict(X_train))\n",
    "    accuracy_test = accuracy_score(y_test, y_pred)\n",
    "    accuracy_train_list.append(accuracy_train)\n",
    "    accuracy_test_list.append(accuracy_test)\n",
    "  print('Test size: ', test_size, ' Train accuracy: ', sum(accuracy_train_list) / len(accuracy_train_list), ' Test accuracy: ',\n",
    "      sum(accuracy_test_list) / len(accuracy_test_list))\n",
    "  print('--------------------------------------------------')"
   ]
  },
  {
   "cell_type": "markdown",
   "id": "cbd7fae5",
   "metadata": {},
   "source": [
    "- test size 0.2 vẫn tốt hơn môt chút, nhưng không đáng kể"
   ]
  },
  {
   "cell_type": "code",
   "execution_count": 12,
   "id": "feeb1489",
   "metadata": {},
   "outputs": [],
   "source": [
    "# Split the data into training and testing sets\n",
    "X_train, X_test, y_train, y_test = train_test_split(X, y, test_size=0.2, random_state=42)"
   ]
  },
  {
   "cell_type": "markdown",
   "id": "ca2d9a15",
   "metadata": {},
   "source": [
    "### Model Comparision"
   ]
  },
  {
   "cell_type": "code",
   "execution_count": 13,
   "id": "f0737fc6",
   "metadata": {},
   "outputs": [],
   "source": [
    "models = [\n",
    "    ExtraTreesClassifier(n_estimators=50),\n",
    "    ExtraTreesClassifier(n_estimators=100),\n",
    "    RidgeClassifier(),\n",
    "    RandomForestClassifier(n_estimators=50),\n",
    "    RandomForestClassifier(n_estimators=100),\n",
    "    KNeighborsClassifier(n_neighbors=3),\n",
    "    KNeighborsClassifier(n_neighbors=5),\n",
    "    KNeighborsClassifier(n_neighbors=7),\n",
    "    LogisticRegression(multi_class='multinomial')\n",
    "    \n",
    "]"
   ]
  },
  {
   "cell_type": "code",
   "execution_count": 14,
   "id": "cbbc7a80",
   "metadata": {},
   "outputs": [],
   "source": [
    "def get_model_name(model):\n",
    "  model_name = model.__class__.__name__\n",
    "  if model_name == 'KNeighborsClassifier':\n",
    "    model_name = model_name + '_' + str(model.n_neighbors)\n",
    "  elif model_name == 'RandomForestClassifier':\n",
    "    model_name = model_name + '_' + str(model.n_estimators)\n",
    "  elif model_name == 'ExtraTreesClassifier':\n",
    "    model_name = model_name + '_' + str(model.n_estimators)\n",
    "  return model_name"
   ]
  },
  {
   "cell_type": "code",
   "execution_count": 15,
   "id": "18f414e1",
   "metadata": {},
   "outputs": [
    {
     "name": "stdout",
     "output_type": "stream",
     "text": [
      "Model:  ExtraTreesClassifier_50 running...\n"
     ]
    },
    {
     "name": "stderr",
     "output_type": "stream",
     "text": [
      "C:\\Users\\marsen\\AppData\\Local\\Temp\\ipykernel_29304\\3118795572.py:20: FutureWarning: The frame.append method is deprecated and will be removed from pandas in a future version. Use pandas.concat instead.\n",
      "  results = results.append({'Model': model_name,\n"
     ]
    },
    {
     "name": "stdout",
     "output_type": "stream",
     "text": [
      "Model:  ExtraTreesClassifier_100 running...\n"
     ]
    },
    {
     "name": "stderr",
     "output_type": "stream",
     "text": [
      "C:\\Users\\marsen\\AppData\\Local\\Temp\\ipykernel_29304\\3118795572.py:20: FutureWarning: The frame.append method is deprecated and will be removed from pandas in a future version. Use pandas.concat instead.\n",
      "  results = results.append({'Model': model_name,\n"
     ]
    },
    {
     "name": "stdout",
     "output_type": "stream",
     "text": [
      "Model:  RidgeClassifier running...\n"
     ]
    },
    {
     "name": "stderr",
     "output_type": "stream",
     "text": [
      "C:\\Users\\marsen\\AppData\\Local\\Temp\\ipykernel_29304\\3118795572.py:20: FutureWarning: The frame.append method is deprecated and will be removed from pandas in a future version. Use pandas.concat instead.\n",
      "  results = results.append({'Model': model_name,\n"
     ]
    },
    {
     "name": "stdout",
     "output_type": "stream",
     "text": [
      "Model:  RandomForestClassifier_50 running...\n"
     ]
    },
    {
     "name": "stderr",
     "output_type": "stream",
     "text": [
      "C:\\Users\\marsen\\AppData\\Local\\Temp\\ipykernel_29304\\3118795572.py:20: FutureWarning: The frame.append method is deprecated and will be removed from pandas in a future version. Use pandas.concat instead.\n",
      "  results = results.append({'Model': model_name,\n"
     ]
    },
    {
     "name": "stdout",
     "output_type": "stream",
     "text": [
      "Model:  RandomForestClassifier_100 running...\n"
     ]
    },
    {
     "name": "stderr",
     "output_type": "stream",
     "text": [
      "C:\\Users\\marsen\\AppData\\Local\\Temp\\ipykernel_29304\\3118795572.py:20: FutureWarning: The frame.append method is deprecated and will be removed from pandas in a future version. Use pandas.concat instead.\n",
      "  results = results.append({'Model': model_name,\n"
     ]
    },
    {
     "name": "stdout",
     "output_type": "stream",
     "text": [
      "Model:  KNeighborsClassifier_3 running...\n"
     ]
    },
    {
     "name": "stderr",
     "output_type": "stream",
     "text": [
      "C:\\Users\\marsen\\AppData\\Local\\Temp\\ipykernel_29304\\3118795572.py:20: FutureWarning: The frame.append method is deprecated and will be removed from pandas in a future version. Use pandas.concat instead.\n",
      "  results = results.append({'Model': model_name,\n"
     ]
    },
    {
     "name": "stdout",
     "output_type": "stream",
     "text": [
      "Model:  KNeighborsClassifier_5 running...\n"
     ]
    },
    {
     "name": "stderr",
     "output_type": "stream",
     "text": [
      "C:\\Users\\marsen\\AppData\\Local\\Temp\\ipykernel_29304\\3118795572.py:20: FutureWarning: The frame.append method is deprecated and will be removed from pandas in a future version. Use pandas.concat instead.\n",
      "  results = results.append({'Model': model_name,\n"
     ]
    },
    {
     "name": "stdout",
     "output_type": "stream",
     "text": [
      "Model:  KNeighborsClassifier_7 running...\n"
     ]
    },
    {
     "name": "stderr",
     "output_type": "stream",
     "text": [
      "C:\\Users\\marsen\\AppData\\Local\\Temp\\ipykernel_29304\\3118795572.py:20: FutureWarning: The frame.append method is deprecated and will be removed from pandas in a future version. Use pandas.concat instead.\n",
      "  results = results.append({'Model': model_name,\n"
     ]
    },
    {
     "name": "stdout",
     "output_type": "stream",
     "text": [
      "Model:  LogisticRegression running...\n"
     ]
    },
    {
     "name": "stderr",
     "output_type": "stream",
     "text": [
      "C:\\Users\\marsen\\AppData\\Local\\Temp\\ipykernel_29304\\3118795572.py:20: FutureWarning: The frame.append method is deprecated and will be removed from pandas in a future version. Use pandas.concat instead.\n",
      "  results = results.append({'Model': model_name,\n"
     ]
    }
   ],
   "source": [
    "# Number of folds for cross validation\n",
    "num_folds = 5\n",
    "# A dataframe to store the results\n",
    "results = pd.DataFrame(columns=['Model', 'Accuracy Mean', 'Accuracy 3 * STD', 'Time'])\n",
    "# Integrate through models\n",
    "for model in models:\n",
    "  # Get model name\n",
    "  model_name = get_model_name(model)  \n",
    "  print('Model: ', model_name, 'running...')\n",
    "  # Get the current time\n",
    "  start_time = datetime.now()  \n",
    "  # Perform cross validation\n",
    "  cv_results = cross_val_score(model, X_train, y_train, cv=num_folds, scoring='accuracy', n_jobs=-1)  \n",
    "  # Get the training time\n",
    "  train_time = datetime.now() - start_time  \n",
    "  # Get the mean and std of the results\n",
    "  mean_cv_results = cv_results.mean()\n",
    "  std_cv_results = cv_results.std()  \n",
    "  # Store the results\n",
    "  results = results.append({'Model': model_name,\n",
    "                            'Accuracy Mean': mean_cv_results,\n",
    "                            'Accuracy 3 * STD': 3 * std_cv_results,\n",
    "                            'Time': train_time\n",
    "                            }, ignore_index=True)"
   ]
  },
  {
   "cell_type": "markdown",
   "id": "d5721d2d",
   "metadata": {},
   "source": [
    "### Metric result"
   ]
  },
  {
   "cell_type": "code",
   "execution_count": 16,
   "id": "d51cf1b0",
   "metadata": {},
   "outputs": [
    {
     "data": {
      "text/html": [
       "<div>\n",
       "<style scoped>\n",
       "    .dataframe tbody tr th:only-of-type {\n",
       "        vertical-align: middle;\n",
       "    }\n",
       "\n",
       "    .dataframe tbody tr th {\n",
       "        vertical-align: top;\n",
       "    }\n",
       "\n",
       "    .dataframe thead th {\n",
       "        text-align: right;\n",
       "    }\n",
       "</style>\n",
       "<table border=\"1\" class=\"dataframe\">\n",
       "  <thead>\n",
       "    <tr style=\"text-align: right;\">\n",
       "      <th></th>\n",
       "      <th>Model</th>\n",
       "      <th>Accuracy Mean</th>\n",
       "      <th>Accuracy 3 * STD</th>\n",
       "      <th>Time</th>\n",
       "    </tr>\n",
       "  </thead>\n",
       "  <tbody>\n",
       "    <tr>\n",
       "      <th>0</th>\n",
       "      <td>LogisticRegression</td>\n",
       "      <td>0.859479</td>\n",
       "      <td>0.001353</td>\n",
       "      <td>0 days 00:00:01.110044</td>\n",
       "    </tr>\n",
       "    <tr>\n",
       "      <th>1</th>\n",
       "      <td>RidgeClassifier</td>\n",
       "      <td>0.858021</td>\n",
       "      <td>0.000638</td>\n",
       "      <td>0 days 00:00:01.391903</td>\n",
       "    </tr>\n",
       "    <tr>\n",
       "      <th>2</th>\n",
       "      <td>RandomForestClassifier_100</td>\n",
       "      <td>0.854601</td>\n",
       "      <td>0.003737</td>\n",
       "      <td>0 days 00:00:40.286813</td>\n",
       "    </tr>\n",
       "    <tr>\n",
       "      <th>3</th>\n",
       "      <td>RandomForestClassifier_50</td>\n",
       "      <td>0.854153</td>\n",
       "      <td>0.002730</td>\n",
       "      <td>0 days 00:00:20.731843</td>\n",
       "    </tr>\n",
       "    <tr>\n",
       "      <th>4</th>\n",
       "      <td>ExtraTreesClassifier_100</td>\n",
       "      <td>0.850434</td>\n",
       "      <td>0.004206</td>\n",
       "      <td>0 days 00:00:54.064300</td>\n",
       "    </tr>\n",
       "    <tr>\n",
       "      <th>5</th>\n",
       "      <td>ExtraTreesClassifier_50</td>\n",
       "      <td>0.849443</td>\n",
       "      <td>0.004811</td>\n",
       "      <td>0 days 00:00:30.133384</td>\n",
       "    </tr>\n",
       "    <tr>\n",
       "      <th>6</th>\n",
       "      <td>KNeighborsClassifier_7</td>\n",
       "      <td>0.848191</td>\n",
       "      <td>0.006227</td>\n",
       "      <td>0 days 00:00:28.192370</td>\n",
       "    </tr>\n",
       "    <tr>\n",
       "      <th>7</th>\n",
       "      <td>KNeighborsClassifier_5</td>\n",
       "      <td>0.839295</td>\n",
       "      <td>0.003407</td>\n",
       "      <td>0 days 00:00:29.080099</td>\n",
       "    </tr>\n",
       "    <tr>\n",
       "      <th>8</th>\n",
       "      <td>KNeighborsClassifier_3</td>\n",
       "      <td>0.825914</td>\n",
       "      <td>0.001612</td>\n",
       "      <td>0 days 00:00:28.256157</td>\n",
       "    </tr>\n",
       "  </tbody>\n",
       "</table>\n",
       "</div>"
      ],
      "text/plain": [
       "                        Model  Accuracy Mean  Accuracy 3 * STD  \\\n",
       "0          LogisticRegression       0.859479          0.001353   \n",
       "1             RidgeClassifier       0.858021          0.000638   \n",
       "2  RandomForestClassifier_100       0.854601          0.003737   \n",
       "3   RandomForestClassifier_50       0.854153          0.002730   \n",
       "4    ExtraTreesClassifier_100       0.850434          0.004206   \n",
       "5     ExtraTreesClassifier_50       0.849443          0.004811   \n",
       "6      KNeighborsClassifier_7       0.848191          0.006227   \n",
       "7      KNeighborsClassifier_5       0.839295          0.003407   \n",
       "8      KNeighborsClassifier_3       0.825914          0.001612   \n",
       "\n",
       "                    Time  \n",
       "0 0 days 00:00:01.110044  \n",
       "1 0 days 00:00:01.391903  \n",
       "2 0 days 00:00:40.286813  \n",
       "3 0 days 00:00:20.731843  \n",
       "4 0 days 00:00:54.064300  \n",
       "5 0 days 00:00:30.133384  \n",
       "6 0 days 00:00:28.192370  \n",
       "7 0 days 00:00:29.080099  \n",
       "8 0 days 00:00:28.256157  "
      ]
     },
     "execution_count": 16,
     "metadata": {},
     "output_type": "execute_result"
    }
   ],
   "source": [
    "# Sort the dataframe by Accuracy Mean in descending order\n",
    "results = results.sort_values(by='Accuracy Mean', ascending=False).reset_index(drop=True)\n",
    "results"
   ]
  },
  {
   "cell_type": "code",
   "execution_count": 17,
   "id": "509ff8b0",
   "metadata": {},
   "outputs": [
    {
     "data": {
      "text/plain": [
       "Text(0.5, 1.0, 'Model Comparison')"
      ]
     },
     "execution_count": 17,
     "metadata": {},
     "output_type": "execute_result"
    },
    {
     "data": {
      "image/png": "[encoded data removed]",
      "text/plain": [
       "<Figure size 1000x800 with 1 Axes>"
      ]
     },
     "metadata": {},
     "output_type": "display_data"
    }
   ],
   "source": [
    "plt.figure(figsize=(10, 8))\n",
    "sns.barplot(x='Accuracy Mean', y='Model', data=results, palette='Set3')\n",
    "plt.title('Model Comparison')"
   ]
  },
  {
   "cell_type": "markdown",
   "id": "b60a4906",
   "metadata": {},
   "source": [
    "###\n",
    "- Như vậy, ta có thể sơ bộ thấy mô hình logistic Reg cho kết quả tốt hơn các mô hình còn lại"
   ]
  },
  {
   "cell_type": "markdown",
   "id": "fedbc574",
   "metadata": {},
   "source": [
    "### Classification Report"
   ]
  },
  {
   "cell_type": "markdown",
   "id": "0c9c3fc1",
   "metadata": {},
   "source": [
    "### \n",
    "- Đối với bài toán phân loại này, chúng ta cần quan tâm tới high Recall rating not_like.\n",
    "- với high Recall cao, thì các True rating not-like phải cao, còn các False-not_like dự báo có thể cao hoặc thấp. "
   ]
  },
  {
   "cell_type": "markdown",
   "id": "8bf1192f",
   "metadata": {},
   "source": [
    "### \n",
    "- Như vậy ta chon Logistic Regression cho việc tinh chỉnh mô hình tối ưu"
   ]
  },
  {
   "cell_type": "markdown",
   "id": "7e3dd47c",
   "metadata": {},
   "source": [
    "### Logistic Regression"
   ]
  },
  {
   "cell_type": "markdown",
   "id": "34aaf865",
   "metadata": {},
   "source": [
    "#### Hyperparameter tuning"
   ]
  },
  {
   "cell_type": "code",
   "execution_count": 18,
   "id": "3192ee08",
   "metadata": {},
   "outputs": [],
   "source": [
    "# Use GridSearchCV to find the best parameters for the models\n",
    "from sklearn.model_selection import GridSearchCV\n",
    "from sklearn.model_selection import RepeatedStratifiedKFold\n",
    "\n",
    "# Create a list of parameters of Logistic Regression for the GridSearchCV\n",
    "# define models and parameters\n",
    "model = LogisticRegression()\n",
    "solvers = ['newton-cg', 'lbfgs', 'liblinear']\n",
    "penalty = ['l2']\n",
    "c_values = [100, 10, 1.0, 0.1, 0.01]\n",
    "\n",
    "grid = dict(solver=solvers,penalty=penalty,C=c_values)\n",
    "#param_grid = {\n",
    "    #'n_estimators': [100,300, 500, 1000],\n",
    "    #'learning_rate':[0.001,0.01,0.1, 1]\n",
    "#}\n",
    "# Create a list of models to test\n",
    "clf_grid = GridSearchCV(estimator=model, param_grid=grid, n_jobs=-1,cv=5, scoring='accuracy', error_score=0)\n",
    "search_clf = clf_grid.fit(X_train, y_train)\n",
    "best_clf = search_clf.best_estimator_\n",
    "\n",
    "##Score\n",
    "#cross_clf = cross_val_score(best_clf, X_test, y_test, scoring='accuracy', cv=5, n_jobs=-1)"
   ]
  },
  {
   "cell_type": "code",
   "execution_count": 19,
   "id": "c5bd9b1d",
   "metadata": {},
   "outputs": [
    {
     "name": "stdout",
     "output_type": "stream",
     "text": [
      "Best params: {'C': 10, 'penalty': 'l2', 'solver': 'newton-cg'}\n"
     ]
    }
   ],
   "source": [
    "print('Best params:', search_clf.best_params_)"
   ]
  },
  {
   "cell_type": "markdown",
   "id": "0e5e164c",
   "metadata": {},
   "source": [
    "### Best Params"
   ]
  },
  {
   "cell_type": "code",
   "execution_count": 20,
   "id": "ff3d0ca4",
   "metadata": {
    "scrolled": true
   },
   "outputs": [],
   "source": [
    "## Create the best model\n",
    "best_model = LogisticRegression(C= 100,penalty='l2',solver= 'newton-cg')\n",
    "# Fit the best model to the training data\n",
    "best_model.fit(X_train, y_train)\n",
    "y_pred = best_model.predict(X_test)"
   ]
  },
  {
   "cell_type": "markdown",
   "id": "881887c8",
   "metadata": {},
   "source": [
    "### Metrics to Report"
   ]
  },
  {
   "cell_type": "code",
   "execution_count": 21,
   "id": "f9b70aba",
   "metadata": {
    "scrolled": true
   },
   "outputs": [
    {
     "name": "stdout",
     "output_type": "stream",
     "text": [
      "Accuracy score for the best model on the training data:  85.972\n",
      "Accuracy score for the best model on the test data:  86.411\n"
     ]
    }
   ],
   "source": [
    "# Get the accuracy score for the best model\n",
    "accuracy_train = round(best_model.score(X_train, y_train) * 100, 3)\n",
    "accuracy_test = round(best_model.score(X_test, y_test) * 100, 3)\n",
    "print('Accuracy score for the best model on the training data: ', accuracy_train)\n",
    "print('Accuracy score for the best model on the test data: ', accuracy_test)"
   ]
  },
  {
   "cell_type": "code",
   "execution_count": 22,
   "id": "77c03076",
   "metadata": {},
   "outputs": [
    {
     "name": "stderr",
     "output_type": "stream",
     "text": [
      "c:\\Users\\marsen\\AppData\\Local\\Programs\\Python\\Python310\\lib\\site-packages\\sklearn\\metrics\\_classification.py:1334: UndefinedMetricWarning: Precision and F-score are ill-defined and being set to 0.0 in labels with no predicted samples. Use `zero_division` parameter to control this behavior.\n",
      "  _warn_prf(average, modifier, msg_start, len(result))\n",
      "c:\\Users\\marsen\\AppData\\Local\\Programs\\Python\\Python310\\lib\\site-packages\\sklearn\\metrics\\_classification.py:1334: UndefinedMetricWarning: Precision and F-score are ill-defined and being set to 0.0 in labels with no predicted samples. Use `zero_division` parameter to control this behavior.\n",
      "  _warn_prf(average, modifier, msg_start, len(result))\n",
      "c:\\Users\\marsen\\AppData\\Local\\Programs\\Python\\Python310\\lib\\site-packages\\sklearn\\metrics\\_classification.py:1334: UndefinedMetricWarning: Precision and F-score are ill-defined and being set to 0.0 in labels with no predicted samples. Use `zero_division` parameter to control this behavior.\n",
      "  _warn_prf(average, modifier, msg_start, len(result))\n"
     ]
    },
    {
     "name": "stdout",
     "output_type": "stream",
     "text": [
      "              precision    recall  f1-score   support\n",
      "\n",
      "    negative       0.51      0.08      0.14      1039\n",
      "     neutral       0.00      0.00      0.00       811\n",
      "    positive       0.87      1.00      0.93     11528\n",
      "\n",
      "    accuracy                           0.86     13378\n",
      "   macro avg       0.46      0.36      0.35     13378\n",
      "weighted avg       0.79      0.86      0.81     13378\n",
      "\n"
     ]
    },
    {
     "data": {
      "image/png": "[encoded data removed]",
      "text/plain": [
       "<Figure size 640x480 with 2 Axes>"
      ]
     },
     "metadata": {},
     "output_type": "display_data"
    }
   ],
   "source": [
    "from sklearn.metrics import classification_report,ConfusionMatrixDisplay\n",
    "print(classification_report(y_test,y_pred))\n",
    "ConfusionMatrixDisplay.from_predictions(y_test,y_pred);"
   ]
  },
  {
   "cell_type": "code",
   "execution_count": 23,
   "id": "1f1e0b22",
   "metadata": {
    "scrolled": false
   },
   "outputs": [
    {
     "data": {
      "image/png": "[encoded data removed]",
      "text/plain": [
       "<Figure size 800x550 with 1 Axes>"
      ]
     },
     "metadata": {},
     "output_type": "display_data"
    },
    {
     "data": {
      "text/plain": [
       "<AxesSubplot: title={'center': 'ROC Curves for LogisticRegression'}, xlabel='False Positive Rate', ylabel='True Positive Rate'>"
      ]
     },
     "execution_count": 23,
     "metadata": {},
     "output_type": "execute_result"
    }
   ],
   "source": [
    "from yellowbrick.classifier import ConfusionMatrix, ClassificationReport, ROCAUC, roc_auc\n",
    "visualizer = ROCAUC(best_model, classes=y.unique())\n",
    "\n",
    "visualizer.fit(X_train, y_train)        # Fit the training data to the visualizer\n",
    "visualizer.score(X_test, y_test)        # Evaluate the model on the test data\n",
    "visualizer.show()"
   ]
  },
  {
   "cell_type": "markdown",
   "id": "7e8d9c46",
   "metadata": {},
   "source": [
    "### Nhận xét\n",
    "- Mô hình 3 lớp cho phân loại kém, không caie thiện được nhiều\n",
    "- do giới hạn về thời gian, tác giả sẽ tiếp tục với mô hình phân loại 2 lớp\n",
    "- như đã nếu ở phần 1, các comment neutral vẫn có khả năng xếp vào nhóm khách hàng cần phải cải thiện.\n",
    "- Nên thử mức độ tương đồng của 2 nhóm trên."
   ]
  }
 ],
 "metadata": {
  "kernelspec": {
   "display_name": "base",
   "language": "python",
   "name": "python3"
  },
  "language_info": {
   "codemirror_mode": {
    "name": "ipython",
    "version": 3
   },
   "file_extension": ".py",
   "mimetype": "text/x-python",
   "name": "python",
   "nbconvert_exporter": "python",
   "pygments_lexer": "ipython3",
   "version": "3.10.8"
  },
  "vscode": {
   "interpreter": {
    "hash": "ad2bdc8ecc057115af97d19610ffacc2b4e99fae6737bb82f5d7fb13d2f2c186"
   }
  }
 },
 "nbformat": 4,
 "nbformat_minor": 5
}
