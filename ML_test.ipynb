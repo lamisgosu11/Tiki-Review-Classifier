{
 "cells": [
  {
   "attachments": {},
   "cell_type": "markdown",
   "id": "58841b1a",
   "metadata": {},
   "source": [
    "### LIBRARIES"
   ]
  },
  {
   "cell_type": "code",
   "execution_count": 4,
   "id": "ba489f55",
   "metadata": {},
   "outputs": [],
   "source": [
    "import pandas as pd\n",
    "import numpy as np\n",
    "from sklearn.ensemble import ExtraTreesClassifier\n",
    "from sklearn.linear_model import RidgeClassifier\n",
    "from sklearn.neighbors import KNeighborsClassifier\n",
    "from sklearn.ensemble import RandomForestClassifier\n",
    "from sklearn.linear_model import LogisticRegression\n",
    "from sklearn.feature_extraction.text import TfidfVectorizer\n",
    "from sklearn.decomposition import TruncatedSVD\n",
    "from sklearn.model_selection import train_test_split\n",
    "from sklearn.metrics import confusion_matrix\n",
    "from datetime import datetime\n",
    "from datetime import timedelta\n",
    "import matplotlib.pyplot as plt\n",
    "import seaborn as sns\n",
    "from sklearn.model_selection import cross_val_score, GridSearchCV\n",
    "from sklearn.metrics import accuracy_score, classification_report, confusion_matrix, roc_auc_score, roc_curve\n",
    "import pickle\n",
    "from sklearn. metrics import classification_report, roc_auc_score, roc_curve"
   ]
  },
  {
   "cell_type": "code",
   "execution_count": 5,
   "id": "5b4006bd",
   "metadata": {},
   "outputs": [],
   "source": [
    "df = pd.read_csv(\"comment_final.csv\", encoding=\"utf-8\", index_col=0)"
   ]
  },
  {
   "cell_type": "markdown",
   "id": "03430765",
   "metadata": {},
   "source": [
    "### Check NAN again"
   ]
  },
  {
   "cell_type": "code",
   "execution_count": 6,
   "id": "316a86ce",
   "metadata": {
    "scrolled": true
   },
   "outputs": [
    {
     "data": {
      "text/html": [
       "<div>\n",
       "<style scoped>\n",
       "    .dataframe tbody tr th:only-of-type {\n",
       "        vertical-align: middle;\n",
       "    }\n",
       "\n",
       "    .dataframe tbody tr th {\n",
       "        vertical-align: top;\n",
       "    }\n",
       "\n",
       "    .dataframe thead th {\n",
       "        text-align: right;\n",
       "    }\n",
       "</style>\n",
       "<table border=\"1\" class=\"dataframe\">\n",
       "  <thead>\n",
       "    <tr style=\"text-align: right;\">\n",
       "      <th></th>\n",
       "      <th>missing_values</th>\n",
       "      <th>missing_percent</th>\n",
       "    </tr>\n",
       "  </thead>\n",
       "  <tbody>\n",
       "    <tr>\n",
       "      <th>processed_text</th>\n",
       "      <td>21720</td>\n",
       "      <td>11.075</td>\n",
       "    </tr>\n",
       "    <tr>\n",
       "      <th>class</th>\n",
       "      <td>0</td>\n",
       "      <td>0.000</td>\n",
       "    </tr>\n",
       "  </tbody>\n",
       "</table>\n",
       "</div>"
      ],
      "text/plain": [
       "                missing_values  missing_percent\n",
       "processed_text           21720           11.075\n",
       "class                        0            0.000"
      ]
     },
     "execution_count": 6,
     "metadata": {},
     "output_type": "execute_result"
    }
   ],
   "source": [
    "missing_val_num = df.isnull().sum()\n",
    "missing_percent = (missing_val_num / df.shape[0]) * 100\n",
    "missing_info = {'missing_values': missing_val_num,\n",
    "                'missing_percent': round(missing_percent,3)}\n",
    "missing_df = pd.DataFrame(missing_info)\n",
    "missing_df"
   ]
  },
  {
   "cell_type": "code",
   "execution_count": 7,
   "id": "23e60646",
   "metadata": {
    "scrolled": true
   },
   "outputs": [
    {
     "name": "stdout",
     "output_type": "stream",
     "text": [
      "(174397, 2)\n",
      "processed_text    0\n",
      "class             0\n",
      "dtype: int64\n"
     ]
    }
   ],
   "source": [
    "# Drop all rows with NaN values\n",
    "df.dropna(inplace=True)\n",
    "print(df.shape)\n",
    "print(df.isnull().sum())"
   ]
  },
  {
   "cell_type": "markdown",
   "id": "0fe2147c",
   "metadata": {},
   "source": [
    "### Duplicate Data"
   ]
  },
  {
   "cell_type": "code",
   "execution_count": 8,
   "id": "03610a13",
   "metadata": {
    "scrolled": true
   },
   "outputs": [
    {
     "data": {
      "text/html": [
       "<div>\n",
       "<style scoped>\n",
       "    .dataframe tbody tr th:only-of-type {\n",
       "        vertical-align: middle;\n",
       "    }\n",
       "\n",
       "    .dataframe tbody tr th {\n",
       "        vertical-align: top;\n",
       "    }\n",
       "\n",
       "    .dataframe thead th {\n",
       "        text-align: right;\n",
       "    }\n",
       "</style>\n",
       "<table border=\"1\" class=\"dataframe\">\n",
       "  <thead>\n",
       "    <tr style=\"text-align: right;\">\n",
       "      <th></th>\n",
       "      <th>processed_text</th>\n",
       "      <th>class</th>\n",
       "    </tr>\n",
       "  </thead>\n",
       "  <tbody>\n",
       "    <tr>\n",
       "      <th>4</th>\n",
       "      <td>sản_phẩm chất_lượng như_mô tả đóng_gói rất_đán...</td>\n",
       "      <td>positive</td>\n",
       "    </tr>\n",
       "    <tr>\n",
       "      <th>28</th>\n",
       "      <td>sản_phẩm bị_chảy rất_khó cắt nhão dính</td>\n",
       "      <td>negative</td>\n",
       "    </tr>\n",
       "    <tr>\n",
       "      <th>98</th>\n",
       "      <td>chất_lượng kém</td>\n",
       "      <td>negative</td>\n",
       "    </tr>\n",
       "    <tr>\n",
       "      <th>129</th>\n",
       "      <td>hàng</td>\n",
       "      <td>positive</td>\n",
       "    </tr>\n",
       "    <tr>\n",
       "      <th>132</th>\n",
       "      <td>dán</td>\n",
       "      <td>positive</td>\n",
       "    </tr>\n",
       "    <tr>\n",
       "      <th>...</th>\n",
       "      <td>...</td>\n",
       "      <td>...</td>\n",
       "    </tr>\n",
       "    <tr>\n",
       "      <th>196096</th>\n",
       "      <td>thiết</td>\n",
       "      <td>positive</td>\n",
       "    </tr>\n",
       "    <tr>\n",
       "      <th>196098</th>\n",
       "      <td>sản_phẩm tốt như_mô tả</td>\n",
       "      <td>positive</td>\n",
       "    </tr>\n",
       "    <tr>\n",
       "      <th>196099</th>\n",
       "      <td>hàng</td>\n",
       "      <td>positive</td>\n",
       "    </tr>\n",
       "    <tr>\n",
       "      <th>196104</th>\n",
       "      <td>xuất_hóa_đơn</td>\n",
       "      <td>neutral</td>\n",
       "    </tr>\n",
       "    <tr>\n",
       "      <th>196108</th>\n",
       "      <td>tốt</td>\n",
       "      <td>positive</td>\n",
       "    </tr>\n",
       "  </tbody>\n",
       "</table>\n",
       "<p>40174 rows × 2 columns</p>\n",
       "</div>"
      ],
      "text/plain": [
       "                                           processed_text     class\n",
       "4       sản_phẩm chất_lượng như_mô tả đóng_gói rất_đán...  positive\n",
       "28                 sản_phẩm bị_chảy rất_khó cắt nhão dính  negative\n",
       "98                                         chất_lượng kém  negative\n",
       "129                                                  hàng  positive\n",
       "132                                                   dán  positive\n",
       "...                                                   ...       ...\n",
       "196096                                              thiết  positive\n",
       "196098                             sản_phẩm tốt như_mô tả  positive\n",
       "196099                                               hàng  positive\n",
       "196104                                       xuất_hóa_đơn   neutral\n",
       "196108                                                tốt  positive\n",
       "\n",
       "[40174 rows x 2 columns]"
      ]
     },
     "execution_count": 8,
     "metadata": {},
     "output_type": "execute_result"
    }
   ],
   "source": [
    "df[df.duplicated()]"
   ]
  },
  {
   "cell_type": "code",
   "execution_count": 9,
   "id": "dd04d07b",
   "metadata": {
    "scrolled": true
   },
   "outputs": [
    {
     "name": "stdout",
     "output_type": "stream",
     "text": [
      "Duplicate data: 0\n",
      "(134223, 2)\n"
     ]
    }
   ],
   "source": [
    "# Drop all duplicate rows\n",
    "df.drop_duplicates(inplace=True)\n",
    "print('Duplicate data:', df.duplicated().sum())\n",
    "print(df.shape)\n",
    "# Reset index\n",
    "df.reset_index(drop=True, inplace=True)"
   ]
  },
  {
   "attachments": {},
   "cell_type": "markdown",
   "id": "d0fc9149",
   "metadata": {},
   "source": [
    "### TF-IDF"
   ]
  },
  {
   "cell_type": "code",
   "execution_count": 10,
   "id": "69b3918e",
   "metadata": {},
   "outputs": [],
   "source": [
    "tfidf_vectorizer = TfidfVectorizer(ngram_range=(1, 2), min_df=0.02)\n",
    "x = tfidf_vectorizer.fit(df['processed_text'].values.astype('U'))\n",
    "X = tfidf_vectorizer.transform(df['processed_text'].values.astype('U'))\n",
    "df_new = pd.DataFrame(X.toarray(), columns=tfidf_vectorizer.get_feature_names_out())"
   ]
  },
  {
   "cell_type": "code",
   "execution_count": 11,
   "id": "d7afec27",
   "metadata": {
    "scrolled": false
   },
   "outputs": [
    {
     "data": {
      "text/html": [
       "<div>\n",
       "<style scoped>\n",
       "    .dataframe tbody tr th:only-of-type {\n",
       "        vertical-align: middle;\n",
       "    }\n",
       "\n",
       "    .dataframe tbody tr th {\n",
       "        vertical-align: top;\n",
       "    }\n",
       "\n",
       "    .dataframe thead th {\n",
       "        text-align: right;\n",
       "    }\n",
       "</style>\n",
       "<table border=\"1\" class=\"dataframe\">\n",
       "  <thead>\n",
       "    <tr style=\"text-align: right;\">\n",
       "      <th></th>\n",
       "      <th>bút</th>\n",
       "      <th>bền</th>\n",
       "      <th>chuột</th>\n",
       "      <th>chất_lượng</th>\n",
       "      <th>cẩn_thận</th>\n",
       "      <th>dây</th>\n",
       "      <th>dầu</th>\n",
       "      <th>giá</th>\n",
       "      <th>giấy</th>\n",
       "      <th>gói</th>\n",
       "      <th>...</th>\n",
       "      <th>êm</th>\n",
       "      <th>đóng</th>\n",
       "      <th>đóng gói</th>\n",
       "      <th>đóng_gói</th>\n",
       "      <th>đầu</th>\n",
       "      <th>đẹp</th>\n",
       "      <th>đổi</th>\n",
       "      <th>độ</th>\n",
       "      <th>ổn</th>\n",
       "      <th>ủng_hộ</th>\n",
       "    </tr>\n",
       "  </thead>\n",
       "  <tbody>\n",
       "    <tr>\n",
       "      <th>0</th>\n",
       "      <td>0.0</td>\n",
       "      <td>0.0</td>\n",
       "      <td>0.0</td>\n",
       "      <td>0.000000</td>\n",
       "      <td>0.0</td>\n",
       "      <td>0.0</td>\n",
       "      <td>0.0</td>\n",
       "      <td>0.0</td>\n",
       "      <td>0.0</td>\n",
       "      <td>0.0</td>\n",
       "      <td>...</td>\n",
       "      <td>0.0</td>\n",
       "      <td>0.0</td>\n",
       "      <td>0.0</td>\n",
       "      <td>0.00000</td>\n",
       "      <td>0.0</td>\n",
       "      <td>0.0</td>\n",
       "      <td>0.0</td>\n",
       "      <td>0.0</td>\n",
       "      <td>0.0</td>\n",
       "      <td>0.0</td>\n",
       "    </tr>\n",
       "    <tr>\n",
       "      <th>1</th>\n",
       "      <td>0.0</td>\n",
       "      <td>0.0</td>\n",
       "      <td>0.0</td>\n",
       "      <td>0.251791</td>\n",
       "      <td>0.0</td>\n",
       "      <td>0.0</td>\n",
       "      <td>0.0</td>\n",
       "      <td>0.0</td>\n",
       "      <td>0.0</td>\n",
       "      <td>0.0</td>\n",
       "      <td>...</td>\n",
       "      <td>0.0</td>\n",
       "      <td>0.0</td>\n",
       "      <td>0.0</td>\n",
       "      <td>0.28168</td>\n",
       "      <td>0.0</td>\n",
       "      <td>0.0</td>\n",
       "      <td>0.0</td>\n",
       "      <td>0.0</td>\n",
       "      <td>0.0</td>\n",
       "      <td>0.0</td>\n",
       "    </tr>\n",
       "    <tr>\n",
       "      <th>2</th>\n",
       "      <td>0.0</td>\n",
       "      <td>0.0</td>\n",
       "      <td>0.0</td>\n",
       "      <td>0.251791</td>\n",
       "      <td>0.0</td>\n",
       "      <td>0.0</td>\n",
       "      <td>0.0</td>\n",
       "      <td>0.0</td>\n",
       "      <td>0.0</td>\n",
       "      <td>0.0</td>\n",
       "      <td>...</td>\n",
       "      <td>0.0</td>\n",
       "      <td>0.0</td>\n",
       "      <td>0.0</td>\n",
       "      <td>0.28168</td>\n",
       "      <td>0.0</td>\n",
       "      <td>0.0</td>\n",
       "      <td>0.0</td>\n",
       "      <td>0.0</td>\n",
       "      <td>0.0</td>\n",
       "      <td>0.0</td>\n",
       "    </tr>\n",
       "    <tr>\n",
       "      <th>3</th>\n",
       "      <td>0.0</td>\n",
       "      <td>0.0</td>\n",
       "      <td>0.0</td>\n",
       "      <td>0.000000</td>\n",
       "      <td>0.0</td>\n",
       "      <td>0.0</td>\n",
       "      <td>0.0</td>\n",
       "      <td>0.0</td>\n",
       "      <td>0.0</td>\n",
       "      <td>0.0</td>\n",
       "      <td>...</td>\n",
       "      <td>0.0</td>\n",
       "      <td>0.0</td>\n",
       "      <td>0.0</td>\n",
       "      <td>0.00000</td>\n",
       "      <td>0.0</td>\n",
       "      <td>0.0</td>\n",
       "      <td>0.0</td>\n",
       "      <td>0.0</td>\n",
       "      <td>0.0</td>\n",
       "      <td>0.0</td>\n",
       "    </tr>\n",
       "    <tr>\n",
       "      <th>4</th>\n",
       "      <td>0.0</td>\n",
       "      <td>0.0</td>\n",
       "      <td>0.0</td>\n",
       "      <td>0.000000</td>\n",
       "      <td>0.0</td>\n",
       "      <td>0.0</td>\n",
       "      <td>0.0</td>\n",
       "      <td>0.0</td>\n",
       "      <td>0.0</td>\n",
       "      <td>0.0</td>\n",
       "      <td>...</td>\n",
       "      <td>0.0</td>\n",
       "      <td>0.0</td>\n",
       "      <td>0.0</td>\n",
       "      <td>0.00000</td>\n",
       "      <td>0.0</td>\n",
       "      <td>0.0</td>\n",
       "      <td>0.0</td>\n",
       "      <td>0.0</td>\n",
       "      <td>0.0</td>\n",
       "      <td>0.0</td>\n",
       "    </tr>\n",
       "  </tbody>\n",
       "</table>\n",
       "<p>5 rows × 52 columns</p>\n",
       "</div>"
      ],
      "text/plain": [
       "   bút  bền  chuột  chất_lượng  cẩn_thận  dây  dầu  giá  giấy  gói  ...   êm  \\\n",
       "0  0.0  0.0    0.0    0.000000       0.0  0.0  0.0  0.0   0.0  0.0  ...  0.0   \n",
       "1  0.0  0.0    0.0    0.251791       0.0  0.0  0.0  0.0   0.0  0.0  ...  0.0   \n",
       "2  0.0  0.0    0.0    0.251791       0.0  0.0  0.0  0.0   0.0  0.0  ...  0.0   \n",
       "3  0.0  0.0    0.0    0.000000       0.0  0.0  0.0  0.0   0.0  0.0  ...  0.0   \n",
       "4  0.0  0.0    0.0    0.000000       0.0  0.0  0.0  0.0   0.0  0.0  ...  0.0   \n",
       "\n",
       "   đóng  đóng gói  đóng_gói  đầu  đẹp  đổi   độ   ổn  ủng_hộ  \n",
       "0   0.0       0.0   0.00000  0.0  0.0  0.0  0.0  0.0     0.0  \n",
       "1   0.0       0.0   0.28168  0.0  0.0  0.0  0.0  0.0     0.0  \n",
       "2   0.0       0.0   0.28168  0.0  0.0  0.0  0.0  0.0     0.0  \n",
       "3   0.0       0.0   0.00000  0.0  0.0  0.0  0.0  0.0     0.0  \n",
       "4   0.0       0.0   0.00000  0.0  0.0  0.0  0.0  0.0     0.0  \n",
       "\n",
       "[5 rows x 52 columns]"
      ]
     },
     "execution_count": 11,
     "metadata": {},
     "output_type": "execute_result"
    }
   ],
   "source": [
    "df_new.head()"
   ]
  },
  {
   "cell_type": "code",
   "execution_count": 12,
   "id": "228ed179",
   "metadata": {},
   "outputs": [],
   "source": [
    "y = df['class']"
   ]
  },
  {
   "cell_type": "code",
   "execution_count": 13,
   "id": "f18bf41a",
   "metadata": {},
   "outputs": [
    {
     "name": "stdout",
     "output_type": "stream",
     "text": [
      "(134223, 52) (134223,)\n"
     ]
    }
   ],
   "source": [
    "print(X.shape, y.shape)"
   ]
  },
  {
   "attachments": {},
   "cell_type": "markdown",
   "id": "35d7854c",
   "metadata": {},
   "source": [
    "### CROSS VALIDATION"
   ]
  },
  {
   "cell_type": "code",
   "execution_count": 14,
   "id": "2b463a0d",
   "metadata": {
    "scrolled": true
   },
   "outputs": [
    {
     "name": "stdout",
     "output_type": "stream",
     "text": [
      "Test size:  0.3\n",
      "Run:  0\n"
     ]
    },
    {
     "name": "stderr",
     "output_type": "stream",
     "text": [
      "c:\\ProgramData\\Anaconda3\\lib\\site-packages\\sklearn\\linear_model\\_logistic.py:814: ConvergenceWarning: lbfgs failed to converge (status=1):\n",
      "STOP: TOTAL NO. of ITERATIONS REACHED LIMIT.\n",
      "\n",
      "Increase the number of iterations (max_iter) or scale the data as shown in:\n",
      "    https://scikit-learn.org/stable/modules/preprocessing.html\n",
      "Please also refer to the documentation for alternative solver options:\n",
      "    https://scikit-learn.org/stable/modules/linear_model.html#logistic-regression\n",
      "  n_iter_i = _check_optimize_result(\n"
     ]
    },
    {
     "name": "stdout",
     "output_type": "stream",
     "text": [
      "Run:  1\n",
      "Run:  2\n"
     ]
    },
    {
     "name": "stderr",
     "output_type": "stream",
     "text": [
      "c:\\ProgramData\\Anaconda3\\lib\\site-packages\\sklearn\\linear_model\\_logistic.py:814: ConvergenceWarning: lbfgs failed to converge (status=1):\n",
      "STOP: TOTAL NO. of ITERATIONS REACHED LIMIT.\n",
      "\n",
      "Increase the number of iterations (max_iter) or scale the data as shown in:\n",
      "    https://scikit-learn.org/stable/modules/preprocessing.html\n",
      "Please also refer to the documentation for alternative solver options:\n",
      "    https://scikit-learn.org/stable/modules/linear_model.html#logistic-regression\n",
      "  n_iter_i = _check_optimize_result(\n"
     ]
    },
    {
     "name": "stdout",
     "output_type": "stream",
     "text": [
      "Run:  3\n"
     ]
    },
    {
     "name": "stderr",
     "output_type": "stream",
     "text": [
      "c:\\ProgramData\\Anaconda3\\lib\\site-packages\\sklearn\\linear_model\\_logistic.py:814: ConvergenceWarning: lbfgs failed to converge (status=1):\n",
      "STOP: TOTAL NO. of ITERATIONS REACHED LIMIT.\n",
      "\n",
      "Increase the number of iterations (max_iter) or scale the data as shown in:\n",
      "    https://scikit-learn.org/stable/modules/preprocessing.html\n",
      "Please also refer to the documentation for alternative solver options:\n",
      "    https://scikit-learn.org/stable/modules/linear_model.html#logistic-regression\n",
      "  n_iter_i = _check_optimize_result(\n"
     ]
    },
    {
     "name": "stdout",
     "output_type": "stream",
     "text": [
      "Run:  4\n",
      "Test size:  0.3  Train accuracy:  0.7812018391587552  Test accuracy:  0.7804902277299028\n",
      "--------------------------------------------------\n",
      "Test size:  0.2\n",
      "Run:  0\n",
      "Run:  1\n",
      "Run:  2\n",
      "Run:  3\n",
      "Run:  4\n",
      "Test size:  0.2  Train accuracy:  0.7815753692562722  Test accuracy:  0.7799888247345875\n",
      "--------------------------------------------------\n"
     ]
    }
   ],
   "source": [
    "# Choose 0.3, 0.2 as the test size\n",
    "test_size_list = [.3, .2]\n",
    "# Run 5 times for each test_size\n",
    "for test_size in test_size_list:\n",
    "  print('Test size: ', test_size)\n",
    "  accuracy_train_list = []\n",
    "  accuracy_test_list = []\n",
    "  for i in range(5):\n",
    "    print('Run: ', i)\n",
    "    # Split the data into training and testing sets\n",
    "    X_train, X_test, y_train, y_test = train_test_split(X, y, test_size=test_size)\n",
    "    # Create a LogisticReg (for faster training)\n",
    "    clf = LogisticRegression()\n",
    "    # Train the classifier\n",
    "    clf.fit(X_train, y_train)\n",
    "    # Make predictions\n",
    "    y_pred = clf.predict(X_test)\n",
    "    # Calculate the accuracy\n",
    "    accuracy_train = accuracy_score(y_train, clf.predict(X_train))\n",
    "    accuracy_test = accuracy_score(y_test, y_pred)\n",
    "    accuracy_train_list.append(accuracy_train)\n",
    "    accuracy_test_list.append(accuracy_test)\n",
    "  print('Test size: ', test_size, ' Train accuracy: ', sum(accuracy_train_list) / len(accuracy_train_list), ' Test accuracy: ',\n",
    "      sum(accuracy_test_list) / len(accuracy_test_list))\n",
    "  print('--------------------------------------------------')"
   ]
  },
  {
   "cell_type": "markdown",
   "id": "cbd7fae5",
   "metadata": {},
   "source": [
    "- test size 0.2 vẫn tốt hơn môt chút, nhưng không đáng kể"
   ]
  },
  {
   "cell_type": "code",
   "execution_count": 15,
   "id": "a6edbc44",
   "metadata": {},
   "outputs": [],
   "source": [
    "#resampling data\n",
    "from imblearn.over_sampling import SMOTE\n",
    "sm = SMOTE(random_state=42)\n",
    "X_res, y_res = sm.fit_resample(X, y)"
   ]
  },
  {
   "cell_type": "code",
   "execution_count": 16,
   "id": "feeb1489",
   "metadata": {},
   "outputs": [],
   "source": [
    "# Split the data into training and testing sets\n",
    "X_train, X_test, y_train, y_test = train_test_split(X, y, test_size=0.2, random_state=42)"
   ]
  },
  {
   "cell_type": "markdown",
   "id": "ca2d9a15",
   "metadata": {},
   "source": [
    "### Model Comparision"
   ]
  },
  {
   "cell_type": "code",
   "execution_count": 17,
   "id": "f0737fc6",
   "metadata": {},
   "outputs": [],
   "source": [
    "models = [\n",
    "    ExtraTreesClassifier(n_estimators=50),\n",
    "    ExtraTreesClassifier(n_estimators=100),\n",
    "    RidgeClassifier(),\n",
    "    RandomForestClassifier(n_estimators=50),\n",
    "    RandomForestClassifier(n_estimators=100),\n",
    "    KNeighborsClassifier(n_neighbors=3),\n",
    "    KNeighborsClassifier(n_neighbors=5),\n",
    "    KNeighborsClassifier(n_neighbors=7),\n",
    "    LogisticRegression(multi_class='multinomial')\n",
    "    \n",
    "]"
   ]
  },
  {
   "cell_type": "code",
   "execution_count": 18,
   "id": "cbbc7a80",
   "metadata": {},
   "outputs": [],
   "source": [
    "def get_model_name(model):\n",
    "  model_name = model.__class__.__name__\n",
    "  if model_name == 'KNeighborsClassifier':\n",
    "    model_name = model_name + '_' + str(model.n_neighbors)\n",
    "  elif model_name == 'RandomForestClassifier':\n",
    "    model_name = model_name + '_' + str(model.n_estimators)\n",
    "  elif model_name == 'ExtraTreesClassifier':\n",
    "    model_name = model_name + '_' + str(model.n_estimators)\n",
    "  return model_name"
   ]
  },
  {
   "cell_type": "code",
   "execution_count": 20,
   "id": "18f414e1",
   "metadata": {},
   "outputs": [
    {
     "name": "stdout",
     "output_type": "stream",
     "text": [
      "Model:  ExtraTreesClassifier_50 running...\n"
     ]
    },
    {
     "name": "stderr",
     "output_type": "stream",
     "text": [
      "C:\\Users\\Phat Thanh\\AppData\\Local\\Temp\\ipykernel_1160\\3118795572.py:20: FutureWarning: The frame.append method is deprecated and will be removed from pandas in a future version. Use pandas.concat instead.\n",
      "  results = results.append({'Model': model_name,\n"
     ]
    },
    {
     "name": "stdout",
     "output_type": "stream",
     "text": [
      "Model:  ExtraTreesClassifier_100 running...\n"
     ]
    },
    {
     "name": "stderr",
     "output_type": "stream",
     "text": [
      "C:\\Users\\Phat Thanh\\AppData\\Local\\Temp\\ipykernel_1160\\3118795572.py:20: FutureWarning: The frame.append method is deprecated and will be removed from pandas in a future version. Use pandas.concat instead.\n",
      "  results = results.append({'Model': model_name,\n"
     ]
    },
    {
     "name": "stdout",
     "output_type": "stream",
     "text": [
      "Model:  RidgeClassifier running...\n"
     ]
    },
    {
     "name": "stderr",
     "output_type": "stream",
     "text": [
      "C:\\Users\\Phat Thanh\\AppData\\Local\\Temp\\ipykernel_1160\\3118795572.py:20: FutureWarning: The frame.append method is deprecated and will be removed from pandas in a future version. Use pandas.concat instead.\n",
      "  results = results.append({'Model': model_name,\n"
     ]
    },
    {
     "name": "stdout",
     "output_type": "stream",
     "text": [
      "Model:  RandomForestClassifier_50 running...\n"
     ]
    },
    {
     "name": "stderr",
     "output_type": "stream",
     "text": [
      "C:\\Users\\Phat Thanh\\AppData\\Local\\Temp\\ipykernel_1160\\3118795572.py:20: FutureWarning: The frame.append method is deprecated and will be removed from pandas in a future version. Use pandas.concat instead.\n",
      "  results = results.append({'Model': model_name,\n"
     ]
    },
    {
     "name": "stdout",
     "output_type": "stream",
     "text": [
      "Model:  RandomForestClassifier_100 running...\n"
     ]
    },
    {
     "name": "stderr",
     "output_type": "stream",
     "text": [
      "C:\\Users\\Phat Thanh\\AppData\\Local\\Temp\\ipykernel_1160\\3118795572.py:20: FutureWarning: The frame.append method is deprecated and will be removed from pandas in a future version. Use pandas.concat instead.\n",
      "  results = results.append({'Model': model_name,\n"
     ]
    },
    {
     "name": "stdout",
     "output_type": "stream",
     "text": [
      "Model:  KNeighborsClassifier_3 running...\n"
     ]
    },
    {
     "name": "stderr",
     "output_type": "stream",
     "text": [
      "C:\\Users\\Phat Thanh\\AppData\\Local\\Temp\\ipykernel_1160\\3118795572.py:20: FutureWarning: The frame.append method is deprecated and will be removed from pandas in a future version. Use pandas.concat instead.\n",
      "  results = results.append({'Model': model_name,\n"
     ]
    },
    {
     "name": "stdout",
     "output_type": "stream",
     "text": [
      "Model:  KNeighborsClassifier_5 running...\n"
     ]
    },
    {
     "name": "stderr",
     "output_type": "stream",
     "text": [
      "C:\\Users\\Phat Thanh\\AppData\\Local\\Temp\\ipykernel_1160\\3118795572.py:20: FutureWarning: The frame.append method is deprecated and will be removed from pandas in a future version. Use pandas.concat instead.\n",
      "  results = results.append({'Model': model_name,\n"
     ]
    },
    {
     "name": "stdout",
     "output_type": "stream",
     "text": [
      "Model:  KNeighborsClassifier_7 running...\n"
     ]
    },
    {
     "name": "stderr",
     "output_type": "stream",
     "text": [
      "C:\\Users\\Phat Thanh\\AppData\\Local\\Temp\\ipykernel_1160\\3118795572.py:20: FutureWarning: The frame.append method is deprecated and will be removed from pandas in a future version. Use pandas.concat instead.\n",
      "  results = results.append({'Model': model_name,\n"
     ]
    },
    {
     "name": "stdout",
     "output_type": "stream",
     "text": [
      "Model:  LogisticRegression running...\n"
     ]
    },
    {
     "name": "stderr",
     "output_type": "stream",
     "text": [
      "C:\\Users\\Phat Thanh\\AppData\\Local\\Temp\\ipykernel_1160\\3118795572.py:20: FutureWarning: The frame.append method is deprecated and will be removed from pandas in a future version. Use pandas.concat instead.\n",
      "  results = results.append({'Model': model_name,\n"
     ]
    }
   ],
   "source": [
    "# Number of folds for cross validation\n",
    "num_folds = 5\n",
    "# A dataframe to store the results\n",
    "results = pd.DataFrame(columns=['Model', 'Accuracy Mean', 'Accuracy 3 * STD', 'Time'])\n",
    "# Integrate through models\n",
    "for model in models:\n",
    "  # Get model name\n",
    "  model_name = get_model_name(model)  \n",
    "  print('Model: ', model_name, 'running...')\n",
    "  # Get the current time\n",
    "  start_time = datetime.now()  \n",
    "  # Perform cross validation\n",
    "  cv_results = cross_val_score(model, X_train, y_train, cv=num_folds, scoring='accuracy', n_jobs=-1)  \n",
    "  # Get the training time\n",
    "  train_time = datetime.now() - start_time  \n",
    "  # Get the mean and std of the results\n",
    "  mean_cv_results = cv_results.mean()\n",
    "  std_cv_results = cv_results.std()  \n",
    "  # Store the results\n",
    "  results = results.append({'Model': model_name,\n",
    "                            'Accuracy Mean': mean_cv_results,\n",
    "                            'Accuracy 3 * STD': 3 * std_cv_results,\n",
    "                            'Time': train_time\n",
    "                            }, ignore_index=True)"
   ]
  },
  {
   "cell_type": "markdown",
   "id": "d5721d2d",
   "metadata": {},
   "source": [
    "### Metric result"
   ]
  },
  {
   "cell_type": "code",
   "execution_count": 29,
   "id": "d51cf1b0",
   "metadata": {},
   "outputs": [
    {
     "data": {
      "text/html": [
       "<div>\n",
       "<style scoped>\n",
       "    .dataframe tbody tr th:only-of-type {\n",
       "        vertical-align: middle;\n",
       "    }\n",
       "\n",
       "    .dataframe tbody tr th {\n",
       "        vertical-align: top;\n",
       "    }\n",
       "\n",
       "    .dataframe thead th {\n",
       "        text-align: right;\n",
       "    }\n",
       "</style>\n",
       "<table border=\"1\" class=\"dataframe\">\n",
       "  <thead>\n",
       "    <tr style=\"text-align: right;\">\n",
       "      <th></th>\n",
       "      <th>Model</th>\n",
       "      <th>Accuracy Mean</th>\n",
       "      <th>Accuracy 3 * STD</th>\n",
       "      <th>Time</th>\n",
       "    </tr>\n",
       "  </thead>\n",
       "  <tbody>\n",
       "    <tr>\n",
       "      <th>0</th>\n",
       "      <td>LogisticRegression</td>\n",
       "      <td>0.781138</td>\n",
       "      <td>0.002266</td>\n",
       "      <td>0 days 00:00:03.994868</td>\n",
       "    </tr>\n",
       "    <tr>\n",
       "      <th>1</th>\n",
       "      <td>RidgeClassifier</td>\n",
       "      <td>0.780123</td>\n",
       "      <td>0.002403</td>\n",
       "      <td>0 days 00:00:01.972007</td>\n",
       "    </tr>\n",
       "    <tr>\n",
       "      <th>2</th>\n",
       "      <td>RandomForestClassifier_100</td>\n",
       "      <td>0.777254</td>\n",
       "      <td>0.002639</td>\n",
       "      <td>0 days 00:01:21.902368</td>\n",
       "    </tr>\n",
       "    <tr>\n",
       "      <th>3</th>\n",
       "      <td>RandomForestClassifier_50</td>\n",
       "      <td>0.776211</td>\n",
       "      <td>0.003392</td>\n",
       "      <td>0 days 00:00:41.432746</td>\n",
       "    </tr>\n",
       "    <tr>\n",
       "      <th>4</th>\n",
       "      <td>ExtraTreesClassifier_100</td>\n",
       "      <td>0.773399</td>\n",
       "      <td>0.004827</td>\n",
       "      <td>0 days 00:01:30.528775</td>\n",
       "    </tr>\n",
       "    <tr>\n",
       "      <th>5</th>\n",
       "      <td>ExtraTreesClassifier_50</td>\n",
       "      <td>0.772840</td>\n",
       "      <td>0.004424</td>\n",
       "      <td>0 days 00:00:48.186215</td>\n",
       "    </tr>\n",
       "    <tr>\n",
       "      <th>6</th>\n",
       "      <td>KNeighborsClassifier_7</td>\n",
       "      <td>0.744277</td>\n",
       "      <td>0.072459</td>\n",
       "      <td>0 days 00:01:27.320648</td>\n",
       "    </tr>\n",
       "    <tr>\n",
       "      <th>7</th>\n",
       "      <td>KNeighborsClassifier_5</td>\n",
       "      <td>0.739621</td>\n",
       "      <td>0.040931</td>\n",
       "      <td>0 days 00:01:24.225831</td>\n",
       "    </tr>\n",
       "    <tr>\n",
       "      <th>8</th>\n",
       "      <td>KNeighborsClassifier_3</td>\n",
       "      <td>0.707081</td>\n",
       "      <td>0.066380</td>\n",
       "      <td>0 days 00:01:24.085568</td>\n",
       "    </tr>\n",
       "  </tbody>\n",
       "</table>\n",
       "</div>"
      ],
      "text/plain": [
       "                        Model  Accuracy Mean  Accuracy 3 * STD  \\\n",
       "0          LogisticRegression       0.781138          0.002266   \n",
       "1             RidgeClassifier       0.780123          0.002403   \n",
       "2  RandomForestClassifier_100       0.777254          0.002639   \n",
       "3   RandomForestClassifier_50       0.776211          0.003392   \n",
       "4    ExtraTreesClassifier_100       0.773399          0.004827   \n",
       "5     ExtraTreesClassifier_50       0.772840          0.004424   \n",
       "6      KNeighborsClassifier_7       0.744277          0.072459   \n",
       "7      KNeighborsClassifier_5       0.739621          0.040931   \n",
       "8      KNeighborsClassifier_3       0.707081          0.066380   \n",
       "\n",
       "                    Time  \n",
       "0 0 days 00:00:03.994868  \n",
       "1 0 days 00:00:01.972007  \n",
       "2 0 days 00:01:21.902368  \n",
       "3 0 days 00:00:41.432746  \n",
       "4 0 days 00:01:30.528775  \n",
       "5 0 days 00:00:48.186215  \n",
       "6 0 days 00:01:27.320648  \n",
       "7 0 days 00:01:24.225831  \n",
       "8 0 days 00:01:24.085568  "
      ]
     },
     "execution_count": 29,
     "metadata": {},
     "output_type": "execute_result"
    }
   ],
   "source": [
    "# Sort the dataframe by Accuracy Mean in descending order\n",
    "results = results.sort_values(by='Accuracy Mean', ascending=False).reset_index(drop=True)\n",
    "results"
   ]
  },
  {
   "cell_type": "code",
   "execution_count": 30,
   "id": "509ff8b0",
   "metadata": {},
   "outputs": [
    {
     "data": {
      "text/plain": [
       "Text(0.5, 1.0, 'Model Comparison')"
      ]
     },
     "execution_count": 30,
     "metadata": {},
     "output_type": "execute_result"
    },
    {
     "data": {
      "image/png": "[encoded data removed]",
      "text/plain": [
       "<Figure size 1000x800 with 1 Axes>"
      ]
     },
     "metadata": {},
     "output_type": "display_data"
    }
   ],
   "source": [
    "plt.figure(figsize=(10, 8))\n",
    "sns.barplot(x='Accuracy Mean', y='Model', data=results, palette='Set3')\n",
    "plt.title('Model Comparison')"
   ]
  },
  {
   "cell_type": "markdown",
   "id": "b60a4906",
   "metadata": {},
   "source": [
    "###\n",
    "- Như vậy, ta có thể sơ bộ thấy mô hình logistic Reg cho kết quả tốt hơn các mô hình còn lại"
   ]
  },
  {
   "cell_type": "markdown",
   "id": "fedbc574",
   "metadata": {},
   "source": [
    "### Classification Report"
   ]
  },
  {
   "cell_type": "markdown",
   "id": "0c9c3fc1",
   "metadata": {},
   "source": [
    "### \n",
    "- Đối với bài toán phân loại này, chúng ta cần quan tâm tới high Recall rating not_like.\n",
    "- với high Recall cao, thì các True rating not-like phải cao, còn các False-not_like dự báo có thể cao hoặc thấp. "
   ]
  },
  {
   "cell_type": "markdown",
   "id": "8bf1192f",
   "metadata": {},
   "source": [
    "### \n",
    "- Như vậy ta chon Logistic Regression cho việc tinh chỉnh mô hình tối ưu"
   ]
  },
  {
   "cell_type": "markdown",
   "id": "7e3dd47c",
   "metadata": {},
   "source": [
    "### Logistic Regression"
   ]
  },
  {
   "cell_type": "markdown",
   "id": "34aaf865",
   "metadata": {},
   "source": [
    "#### Hyperparameter tuning"
   ]
  },
  {
   "cell_type": "code",
   "execution_count": 23,
   "id": "3192ee08",
   "metadata": {},
   "outputs": [],
   "source": [
    "# Use GridSearchCV to find the best parameters for the models\n",
    "from sklearn.model_selection import GridSearchCV\n",
    "from sklearn.model_selection import RepeatedStratifiedKFold\n",
    "\n",
    "# Create a list of parameters of Logistic Regression for the GridSearchCV\n",
    "# define models and parameters\n",
    "model = LogisticRegression()\n",
    "solvers = ['newton-cg', 'lbfgs', 'liblinear']\n",
    "penalty = ['l2']\n",
    "c_values = [100, 10, 1.0, 0.1, 0.01]\n",
    "\n",
    "grid = dict(solver=solvers,penalty=penalty,C=c_values)\n",
    "#param_grid = {\n",
    "    #'n_estimators': [100,300, 500, 1000],\n",
    "    #'learning_rate':[0.001,0.01,0.1, 1]\n",
    "#}\n",
    "# Create a list of models to test\n",
    "clf_grid = GridSearchCV(estimator=model, param_grid=grid, n_jobs=-1,cv=5, scoring='accuracy', error_score=0)\n",
    "search_clf = clf_grid.fit(X_train, y_train)\n",
    "best_clf = search_clf.best_estimator_\n",
    "\n",
    "##Score\n",
    "#cross_clf = cross_val_score(best_clf, X_test, y_test, scoring='accuracy', cv=5, n_jobs=-1)"
   ]
  },
  {
   "cell_type": "code",
   "execution_count": 24,
   "id": "c5bd9b1d",
   "metadata": {},
   "outputs": [
    {
     "name": "stdout",
     "output_type": "stream",
     "text": [
      "Best params: {'C': 0.1, 'penalty': 'l2', 'solver': 'newton-cg'}\n"
     ]
    }
   ],
   "source": [
    "print('Best params:', search_clf.best_params_)"
   ]
  },
  {
   "cell_type": "markdown",
   "id": "0e5e164c",
   "metadata": {},
   "source": [
    "### Best Params"
   ]
  },
  {
   "cell_type": "code",
   "execution_count": 25,
   "id": "ff3d0ca4",
   "metadata": {
    "scrolled": true
   },
   "outputs": [],
   "source": [
    "## Create the best model\n",
    "best_model = LogisticRegression(C= 100,penalty='l2',solver= 'newton-cg')\n",
    "# Fit the best model to the training data\n",
    "best_model.fit(X_train, y_train)\n",
    "y_pred = best_model.predict(X_test)"
   ]
  },
  {
   "cell_type": "markdown",
   "id": "881887c8",
   "metadata": {},
   "source": [
    "### Metrics to Report"
   ]
  },
  {
   "cell_type": "code",
   "execution_count": 26,
   "id": "f9b70aba",
   "metadata": {
    "scrolled": true
   },
   "outputs": [
    {
     "name": "stdout",
     "output_type": "stream",
     "text": [
      "Accuracy score for the best model on the training data:  78.102\n",
      "Accuracy score for the best model on the test data:  78.171\n"
     ]
    }
   ],
   "source": [
    "# Get the accuracy score for the best model\n",
    "accuracy_train = round(best_model.score(X_train, y_train) * 100, 3)\n",
    "accuracy_test = round(best_model.score(X_test, y_test) * 100, 3)\n",
    "print('Accuracy score for the best model on the training data: ', accuracy_train)\n",
    "print('Accuracy score for the best model on the test data: ', accuracy_test)"
   ]
  },
  {
   "cell_type": "code",
   "execution_count": 27,
   "id": "77c03076",
   "metadata": {},
   "outputs": [
    {
     "name": "stderr",
     "output_type": "stream",
     "text": [
      "c:\\ProgramData\\Anaconda3\\lib\\site-packages\\sklearn\\metrics\\_classification.py:1318: UndefinedMetricWarning: Precision and F-score are ill-defined and being set to 0.0 in labels with no predicted samples. Use `zero_division` parameter to control this behavior.\n",
      "  _warn_prf(average, modifier, msg_start, len(result))\n",
      "c:\\ProgramData\\Anaconda3\\lib\\site-packages\\sklearn\\metrics\\_classification.py:1318: UndefinedMetricWarning: Precision and F-score are ill-defined and being set to 0.0 in labels with no predicted samples. Use `zero_division` parameter to control this behavior.\n",
      "  _warn_prf(average, modifier, msg_start, len(result))\n",
      "c:\\ProgramData\\Anaconda3\\lib\\site-packages\\sklearn\\metrics\\_classification.py:1318: UndefinedMetricWarning: Precision and F-score are ill-defined and being set to 0.0 in labels with no predicted samples. Use `zero_division` parameter to control this behavior.\n",
      "  _warn_prf(average, modifier, msg_start, len(result))\n"
     ]
    },
    {
     "name": "stdout",
     "output_type": "stream",
     "text": [
      "              precision    recall  f1-score   support\n",
      "\n",
      "    negative       0.59      0.12      0.21      4123\n",
      "     neutral       0.00      0.00      0.00      1984\n",
      "    positive       0.79      0.99      0.88     20738\n",
      "\n",
      "    accuracy                           0.78     26845\n",
      "   macro avg       0.46      0.37      0.36     26845\n",
      "weighted avg       0.70      0.78      0.71     26845\n",
      "\n"
     ]
    },
    {
     "data": {
      "image/png": "[encoded data removed]",
      "text/plain": [
       "<Figure size 640x480 with 2 Axes>"
      ]
     },
     "metadata": {},
     "output_type": "display_data"
    }
   ],
   "source": [
    "from sklearn.metrics import classification_report,ConfusionMatrixDisplay\n",
    "print(classification_report(y_test,y_pred))\n",
    "ConfusionMatrixDisplay.from_predictions(y_test,y_pred);"
   ]
  },
  {
   "cell_type": "code",
   "execution_count": 28,
   "id": "1f1e0b22",
   "metadata": {
    "scrolled": false
   },
   "outputs": [
    {
     "data": {
      "image/png": "[encoded data removed]",
      "text/plain": [
       "<Figure size 800x550 with 1 Axes>"
      ]
     },
     "metadata": {},
     "output_type": "display_data"
    },
    {
     "data": {
      "text/plain": [
       "<AxesSubplot:title={'center':'ROC Curves for LogisticRegression'}, xlabel='False Positive Rate', ylabel='True Positive Rate'>"
      ]
     },
     "execution_count": 28,
     "metadata": {},
     "output_type": "execute_result"
    }
   ],
   "source": [
    "from yellowbrick.classifier import ConfusionMatrix, ClassificationReport, ROCAUC, roc_auc\n",
    "visualizer = ROCAUC(best_model, classes=y.unique())\n",
    "\n",
    "visualizer.fit(X_train, y_train)        # Fit the training data to the visualizer\n",
    "visualizer.score(X_test, y_test)        # Evaluate the model on the test data\n",
    "visualizer.show()"
   ]
  },
  {
   "cell_type": "markdown",
   "id": "7e8d9c46",
   "metadata": {},
   "source": [
    "### Nhận xét\n",
    "- Mô hình 3 lớp cho phân loại kém, không caie thiện được nhiều\n",
    "- do giới hạn về thời gian, tác giả sẽ tiếp tục với mô hình phân loại 2 lớp\n",
    "- như đã nếu ở phần 1, các comment neutral vẫn có khả năng xếp vào nhóm khách hàng cần phải cải thiện.\n",
    "- Nên thử mức độ tương đồng của 2 nhóm trên."
   ]
  }
 ],
 "metadata": {
  "kernelspec": {
   "display_name": "base",
   "language": "python",
   "name": "python3"
  },
  "language_info": {
   "codemirror_mode": {
    "name": "ipython",
    "version": 3
   },
   "file_extension": ".py",
   "mimetype": "text/x-python",
   "name": "python",
   "nbconvert_exporter": "python",
   "pygments_lexer": "ipython3",
   "version": "3.9.13"
  },
  "vscode": {
   "interpreter": {
    "hash": "ad2bdc8ecc057115af97d19610ffacc2b4e99fae6737bb82f5d7fb13d2f2c186"
   }
  }
 },
 "nbformat": 4,
 "nbformat_minor": 5
}
